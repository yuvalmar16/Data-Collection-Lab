{
 "cells": [
  {
   "cell_type": "code",
   "execution_count": 0,
   "metadata": {
    "application/vnd.databricks.v1+cell": {
     "cellMetadata": {
      "byteLimit": 2048000,
      "rowLimit": 10000
     },
     "inputWidgets": {},
     "nuid": "a623e280-4270-4eb0-8ba0-1445975b8177",
     "showTitle": false,
     "tableResultSettingsMap": {},
     "title": ""
    }
   },
   "outputs": [
    {
     "output_type": "stream",
     "name": "stdout",
     "output_type": "stream",
     "text": [
      "Collecting mediapipe\n  Obtaining dependency information for mediapipe from https://files.pythonhosted.org/packages/83/92/43e6837d097f8ed35e6ffc4eefe617107963839e5e18136fea463f579baf/mediapipe-0.10.20-cp311-cp311-manylinux_2_28_x86_64.whl.metadata\n  Downloading mediapipe-0.10.20-cp311-cp311-manylinux_2_28_x86_64.whl.metadata (9.7 kB)\nRequirement already satisfied: absl-py in /databricks/python3/lib/python3.11/site-packages (from mediapipe) (1.0.0)\nRequirement already satisfied: attrs>=19.1.0 in /databricks/python3/lib/python3.11/site-packages (from mediapipe) (22.1.0)\nRequirement already satisfied: flatbuffers>=2.0 in /databricks/python3/lib/python3.11/site-packages (from mediapipe) (24.3.25)\nCollecting jax (from mediapipe)\n  Obtaining dependency information for jax from https://files.pythonhosted.org/packages/f4/58/cc0721a1030fcbab0984beea0bf3c4610ec103f738423cdfa9c4ceb40598/jax-0.5.0-py3-none-any.whl.metadata\n  Downloading jax-0.5.0-py3-none-any.whl.metadata (22 kB)\nCollecting jaxlib (from mediapipe)\n  Obtaining dependency information for jaxlib from https://files.pythonhosted.org/packages/58/8e/a5c29db03d5a93b0326e297b556d0e0a9805e9c9c1ae5f82f69557273faa/jaxlib-0.5.0-cp311-cp311-manylinux2014_x86_64.whl.metadata\n  Downloading jaxlib-0.5.0-cp311-cp311-manylinux2014_x86_64.whl.metadata (978 bytes)\nRequirement already satisfied: matplotlib in /databricks/python3/lib/python3.11/site-packages (from mediapipe) (3.7.2)\nRequirement already satisfied: numpy<2 in /databricks/python3/lib/python3.11/site-packages (from mediapipe) (1.23.5)\nCollecting opencv-contrib-python (from mediapipe)\n  Obtaining dependency information for opencv-contrib-python from https://files.pythonhosted.org/packages/f7/13/756b13b8d5d417a0b4c3bf6ceafb59df0ed05cec7fedc2490bbbf5e60ebc/opencv_contrib_python-4.11.0.86-cp37-abi3-manylinux_2_17_x86_64.manylinux2014_x86_64.whl.metadata\n  Downloading opencv_contrib_python-4.11.0.86-cp37-abi3-manylinux_2_17_x86_64.manylinux2014_x86_64.whl.metadata (20 kB)\nCollecting protobuf<5,>=4.25.3 (from mediapipe)\n  Obtaining dependency information for protobuf<5,>=4.25.3 from https://files.pythonhosted.org/packages/d4/f0/6d5c100f6b18d973e86646aa5fc09bc12ee88a28684a56fd95511bceee68/protobuf-4.25.6-cp37-abi3-manylinux2014_x86_64.whl.metadata\n  Downloading protobuf-4.25.6-cp37-abi3-manylinux2014_x86_64.whl.metadata (541 bytes)\nCollecting sounddevice>=0.4.4 (from mediapipe)\n  Obtaining dependency information for sounddevice>=0.4.4 from https://files.pythonhosted.org/packages/06/d1/464b5fca3decdd0cfec8c47f7b4161a0b12972453201c1bf03811f367c5e/sounddevice-0.5.1-py3-none-any.whl.metadata\n  Downloading sounddevice-0.5.1-py3-none-any.whl.metadata (1.4 kB)\nRequirement already satisfied: sentencepiece in /databricks/python3/lib/python3.11/site-packages (from mediapipe) (0.1.99)\nRequirement already satisfied: CFFI>=1.0 in /databricks/python3/lib/python3.11/site-packages (from sounddevice>=0.4.4->mediapipe) (1.15.1)\nRequirement already satisfied: six in /usr/lib/python3/dist-packages (from absl-py->mediapipe) (1.16.0)\nCollecting ml_dtypes>=0.4.0 (from jax->mediapipe)\n  Obtaining dependency information for ml_dtypes>=0.4.0 from https://files.pythonhosted.org/packages/cc/2a/5421fd3dbe6eef9b844cc9d05f568b9fb568503a2e51cb1eb4443d9fc56b/ml_dtypes-0.5.1-cp311-cp311-manylinux_2_17_x86_64.manylinux2014_x86_64.whl.metadata\n  Downloading ml_dtypes-0.5.1-cp311-cp311-manylinux_2_17_x86_64.manylinux2014_x86_64.whl.metadata (21 kB)\nCollecting numpy<2 (from mediapipe)\n  Obtaining dependency information for numpy<2 from https://files.pythonhosted.org/packages/3a/d0/edc009c27b406c4f9cbc79274d6e46d634d139075492ad055e3d68445925/numpy-1.26.4-cp311-cp311-manylinux_2_17_x86_64.manylinux2014_x86_64.whl.metadata\n  Downloading numpy-1.26.4-cp311-cp311-manylinux_2_17_x86_64.manylinux2014_x86_64.whl.metadata (61 kB)\n\u001B[?25l     \u001B[90m━━━━━━━━━━━━━━━━━━━━━━━━━━━━━━━━━━━━━━━━\u001B[0m \u001B[32m0.0/61.0 kB\u001B[0m \u001B[31m?\u001B[0m eta \u001B[36m-:--:--\u001B[0m\n\u001B[2K     \u001B[90m━━━━━━━━━━━━━━━━━━━━━━━━━━━━━━━━━━━━━━━━\u001B[0m \u001B[32m61.0/61.0 kB\u001B[0m \u001B[31m5.2 MB/s\u001B[0m eta \u001B[36m0:00:00\u001B[0m\n\u001B[?25hRequirement already satisfied: opt_einsum in /databricks/python3/lib/python3.11/site-packages (from jax->mediapipe) (3.3.0)\nRequirement already satisfied: scipy>=1.11.1 in /databricks/python3/lib/python3.11/site-packages (from jax->mediapipe) (1.11.1)\nRequirement already satisfied: contourpy>=1.0.1 in /databricks/python3/lib/python3.11/site-packages (from matplotlib->mediapipe) (1.0.5)\nRequirement already satisfied: cycler>=0.10 in /databricks/python3/lib/python3.11/site-packages (from matplotlib->mediapipe) (0.11.0)\nRequirement already satisfied: fonttools>=4.22.0 in /databricks/python3/lib/python3.11/site-packages (from matplotlib->mediapipe) (4.25.0)\nRequirement already satisfied: kiwisolver>=1.0.1 in /databricks/python3/lib/python3.11/site-packages (from matplotlib->mediapipe) (1.4.4)\nRequirement already satisfied: packaging>=20.0 in /databricks/python3/lib/python3.11/site-packages (from matplotlib->mediapipe) (23.2)\nRequirement already satisfied: pillow>=6.2.0 in /databricks/python3/lib/python3.11/site-packages (from matplotlib->mediapipe) (9.4.0)\nRequirement already satisfied: pyparsing<3.1,>=2.3.1 in /databricks/python3/lib/python3.11/site-packages (from matplotlib->mediapipe) (3.0.9)\nRequirement already satisfied: python-dateutil>=2.7 in /databricks/python3/lib/python3.11/site-packages (from matplotlib->mediapipe) (2.8.2)\nRequirement already satisfied: pycparser in /databricks/python3/lib/python3.11/site-packages (from CFFI>=1.0->sounddevice>=0.4.4->mediapipe) (2.21)\nDownloading mediapipe-0.10.20-cp311-cp311-manylinux_2_28_x86_64.whl (35.6 MB)\n\u001B[?25l   \u001B[90m━━━━━━━━━━━━━━━━━━━━━━━━━━━━━━━━━━━━━━━━\u001B[0m \u001B[32m0.0/35.6 MB\u001B[0m \u001B[31m?\u001B[0m eta \u001B[36m-:--:--\u001B[0m\n\u001B[2K   \u001B[90m━━━━━━━━━━━━━━━━━━━━━━━━━━━━━━━━━━━━━━━━\u001B[0m \u001B[32m0.3/35.6 MB\u001B[0m \u001B[31m9.5 MB/s\u001B[0m eta \u001B[36m0:00:04\u001B[0m\n\u001B[2K   \u001B[91m╸\u001B[0m\u001B[90m━━━━━━━━━━━━━━━━━━━━━━━━━━━━━━━━━━━━━━━\u001B[0m \u001B[32m0.7/35.6 MB\u001B[0m \u001B[31m10.1 MB/s\u001B[0m eta \u001B[36m0:00:04\u001B[0m\n\u001B[2K   \u001B[91m━\u001B[0m\u001B[90m╺\u001B[0m\u001B[90m━━━━━━━━━━━━━━━━━━━━━━━━━━━━━━━━━━━━━━\u001B[0m \u001B[32m1.2/35.6 MB\u001B[0m \u001B[31m11.4 MB/s\u001B[0m eta \u001B[36m0:00:04\u001B[0m\n\u001B[2K   \u001B[91m━━\u001B[0m\u001B[90m╺\u001B[0m\u001B[90m━━━━━━━━━━━━━━━━━━━━━━━━━━━━━━━━━━━━━\u001B[0m \u001B[32m1.8/35.6 MB\u001B[0m \u001B[31m13.2 MB/s\u001B[0m eta \u001B[36m0:00:03\u001B[0m\n\u001B[2K   \u001B[91m━━\u001B[0m\u001B[91m╸\u001B[0m\u001B[90m━━━━━━━━━━━━━━━━━━━━━━━━━━━━━━━━━━━━━\u001B[0m \u001B[32m2.6/35.6 MB\u001B[0m \u001B[31m15.1 MB/s\u001B[0m eta \u001B[36m0:00:03\u001B[0m\n\u001B[2K   \u001B[91m━━━━\u001B[0m\u001B[90m╺\u001B[0m\u001B[90m━━━━━━━━━━━━━━━━━━━━━━━━━━━━━━━━━━━\u001B[0m \u001B[32m3.6/35.6 MB\u001B[0m \u001B[31m17.3 MB/s\u001B[0m eta \u001B[36m0:00:02\u001B[0m\n\u001B[2K   \u001B[91m━━━━━\u001B[0m\u001B[91m╸\u001B[0m\u001B[90m━━━━━━━━━━━━━━━━━━━━━━━━━━━━━━━━━━\u001B[0m \u001B[32m4.9/35.6 MB\u001B[0m \u001B[31m20.2 MB/s\u001B[0m eta \u001B[36m0:00:02\u001B[0m\n\u001B[2K   \u001B[91m━━━━━━━\u001B[0m\u001B[90m╺\u001B[0m\u001B[90m━━━━━━━━━━━━━━━━━━━━━━━━━━━━━━━━\u001B[0m \u001B[32m6.5/35.6 MB\u001B[0m \u001B[31m23.2 MB/s\u001B[0m eta \u001B[36m0:00:02\u001B[0m\n\u001B[2K   \u001B[91m━━━━━━━━━\u001B[0m\u001B[91m╸\u001B[0m\u001B[90m━━━━━━━━━━━━━━━━━━━━━━━━━━━━━━\u001B[0m \u001B[32m8.6/35.6 MB\u001B[0m \u001B[31m27.3 MB/s\u001B[0m eta \u001B[36m0:00:01\u001B[0m\n\u001B[2K   \u001B[91m━━━━━━━━━━━━\u001B[0m\u001B[91m╸\u001B[0m\u001B[90m━━━━━━━━━━━━━━━━━━━━━━━━━━━\u001B[0m \u001B[32m11.2/35.6 MB\u001B[0m \u001B[31m39.6 MB/s\u001B[0m eta \u001B[36m0:00:01\u001B[0m\n\u001B[2K   \u001B[91m━━━━━━━━━━━━━━━━\u001B[0m\u001B[90m╺\u001B[0m\u001B[90m━━━━━━━━━━━━━━━━━━━━━━━\u001B[0m \u001B[32m14.5/35.6 MB\u001B[0m \u001B[31m65.2 MB/s\u001B[0m eta \u001B[36m0:00:01\u001B[0m\n\u001B[2K   \u001B[91m━━━━━━━━━━━━━━━━━━━━━\u001B[0m\u001B[90m╺\u001B[0m\u001B[90m━━━━━━━━━━━━━━━━━━\u001B[0m \u001B[32m18.9/35.6 MB\u001B[0m \u001B[31m98.7 MB/s\u001B[0m eta \u001B[36m0:00:01\u001B[0m\n\u001B[2K   \u001B[91m━━━━━━━━━━━━━━━━━━━━━━━━━━━\u001B[0m\u001B[90m╺\u001B[0m\u001B[90m━━━━━━━━━━━━\u001B[0m \u001B[32m24.1/35.6 MB\u001B[0m \u001B[31m134.7 MB/s\u001B[0m eta \u001B[36m0:00:01\u001B[0m\n\u001B[2K   \u001B[91m━━━━━━━━━━━━━━━━━━━━━━━━━━━━━━\u001B[0m\u001B[91m╸\u001B[0m\u001B[90m━━━━━━━━━\u001B[0m \u001B[32m27.3/35.6 MB\u001B[0m \u001B[31m123.6 MB/s\u001B[0m eta \u001B[36m0:00:01\u001B[0m\n\u001B[2K   \u001B[91m━━━━━━━━━━━━━━━━━━━━━━━━━━━━━━━━━━━━━\u001B[0m\u001B[91m╸\u001B[0m\u001B[90m━━\u001B[0m \u001B[32m33.5/35.6 MB\u001B[0m \u001B[31m140.5 MB/s\u001B[0m eta \u001B[36m0:00:01\u001B[0m\n\u001B[2K   \u001B[91m━━━━━━━━━━━━━━━━━━━━━━━━━━━━━━━━━━━━━━━\u001B[0m\u001B[91m╸\u001B[0m \u001B[32m35.6/35.6 MB\u001B[0m \u001B[31m139.9 MB/s\u001B[0m eta \u001B[36m0:00:01\u001B[0m\n\u001B[2K   \u001B[91m━━━━━━━━━━━━━━━━━━━━━━━━━━━━━━━━━━━━━━━\u001B[0m\u001B[91m╸\u001B[0m \u001B[32m35.6/35.6 MB\u001B[0m \u001B[31m139.9 MB/s\u001B[0m eta \u001B[36m0:00:01\u001B[0m\n\u001B[2K   \u001B[91m━━━━━━━━━━━━━━━━━━━━━━━━━━━━━━━━━━━━━━━\u001B[0m\u001B[91m╸\u001B[0m \u001B[32m35.6/35.6 MB\u001B[0m \u001B[31m139.9 MB/s\u001B[0m eta \u001B[36m0:00:01\u001B[0m\n\u001B[2K   \u001B[91m━━━━━━━━━━━━━━━━━━━━━━━━━━━━━━━━━━━━━━━\u001B[0m\u001B[91m╸\u001B[0m \u001B[32m35.6/35.6 MB\u001B[0m \u001B[31m139.9 MB/s\u001B[0m eta \u001B[36m0:00:01\u001B[0m\n\u001B[2K   \u001B[91m━━━━━━━━━━━━━━━━━━━━━━━━━━━━━━━━━━━━━━━\u001B[0m\u001B[91m╸\u001B[0m \u001B[32m35.6/35.6 MB\u001B[0m \u001B[31m139.9 MB/s\u001B[0m eta \u001B[36m0:00:01\u001B[0m\n\u001B[2K   \u001B[91m━━━━━━━━━━━━━━━━━━━━━━━━━━━━━━━━━━━━━━━\u001B[0m\u001B[91m╸\u001B[0m \u001B[32m35.6/35.6 MB\u001B[0m \u001B[31m139.9 MB/s\u001B[0m eta \u001B[36m0:00:01\u001B[0m\n\u001B[2K   \u001B[90m━━━━━━━━━━━━━━━━━━━━━━━━━━━━━━━━━━━━━━━━\u001B[0m \u001B[32m35.6/35.6 MB\u001B[0m \u001B[31m33.2 MB/s\u001B[0m eta \u001B[36m0:00:00\u001B[0m\n\u001B[?25hDownloading protobuf-4.25.6-cp37-abi3-manylinux2014_x86_64.whl (294 kB)\n\u001B[?25l   \u001B[90m━━━━━━━━━━━━━━━━━━━━━━━━━━━━━━━━━━━━━━━━\u001B[0m \u001B[32m0.0/294.6 kB\u001B[0m \u001B[31m?\u001B[0m eta \u001B[36m-:--:--\u001B[0m\n\u001B[2K   \u001B[90m━━━━━━━━━━━━━━━━━━━━━━━━━━━━━━━━━━━━━━━━\u001B[0m \u001B[32m294.6/294.6 kB\u001B[0m \u001B[31m24.6 MB/s\u001B[0m eta \u001B[36m0:00:00\u001B[0m\n\u001B[?25hDownloading sounddevice-0.5.1-py3-none-any.whl (32 kB)\nDownloading jax-0.5.0-py3-none-any.whl (2.3 MB)\n\u001B[?25l   \u001B[90m━━━━━━━━━━━━━━━━━━━━━━━━━━━━━━━━━━━━━━━━\u001B[0m \u001B[32m0.0/2.3 MB\u001B[0m \u001B[31m?\u001B[0m eta \u001B[36m-:--:--\u001B[0m\n\u001B[2K   \u001B[91m━━━━━━━━━━━━━━━━━━━━━━━━━━━━━━━━━━━━━━━\u001B[0m\u001B[91m╸\u001B[0m \u001B[32m2.3/2.3 MB\u001B[0m \u001B[31m142.8 MB/s\u001B[0m eta \u001B[36m0:00:01\u001B[0m\n\u001B[2K   \u001B[90m━━━━━━━━━━━━━━━━━━━━━━━━━━━━━━━━━━━━━━━━\u001B[0m \u001B[32m2.3/2.3 MB\u001B[0m \u001B[31m62.7 MB/s\u001B[0m eta \u001B[36m0:00:00\u001B[0m\n\u001B[?25hDownloading jaxlib-0.5.0-cp311-cp311-manylinux2014_x86_64.whl (102.0 MB)\n\u001B[?25l   \u001B[90m━━━━━━━━━━━━━━━━━━━━━━━━━━━━━━━━━━━━━━━━\u001B[0m \u001B[32m0.0/102.0 MB\u001B[0m \u001B[31m?\u001B[0m eta \u001B[36m-:--:--\u001B[0m\n\u001B[2K   \u001B[91m━━\u001B[0m\u001B[90m╺\u001B[0m\u001B[90m━━━━━━━━━━━━━━━━━━━━━━━━━━━━━━━━━━━━━\u001B[0m \u001B[32m5.3/102.0 MB\u001B[0m \u001B[31m162.6 MB/s\u001B[0m eta \u001B[36m0:00:01\u001B[0m\n\u001B[2K   \u001B[91m━━━━\u001B[0m\u001B[90m╺\u001B[0m\u001B[90m━━━━━━━━━━━━━━━━━━━━━━━━━━━━━━━━━━━\u001B[0m \u001B[32m10.2/102.0 MB\u001B[0m \u001B[31m150.2 MB/s\u001B[0m eta \u001B[36m0:00:01\u001B[0m\n\u001B[2K   \u001B[91m━━━━━━\u001B[0m\u001B[90m╺\u001B[0m\u001B[90m━━━━━━━━━━━━━━━━━━━━━━━━━━━━━━━━━\u001B[0m \u001B[32m16.0/102.0 MB\u001B[0m \u001B[31m157.2 MB/s\u001B[0m eta \u001B[36m0:00:01\u001B[0m\n\u001B[2K   \u001B[91m━━━━━━━━\u001B[0m\u001B[90m╺\u001B[0m\u001B[90m━━━━━━━━━━━━━━━━━━━━━━━━━━━━━━━\u001B[0m \u001B[32m21.7/102.0 MB\u001B[0m \u001B[31m167.1 MB/s\u001B[0m eta \u001B[36m0:00:01\u001B[0m\n\u001B[2K   \u001B[91m━━━━━━━━━━\u001B[0m\u001B[91m╸\u001B[0m\u001B[90m━━━━━━━━━━━━━━━━━━━━━━━━━━━━━\u001B[0m \u001B[32m27.4/102.0 MB\u001B[0m \u001B[31m166.8 MB/s\u001B[0m eta \u001B[36m0:00:01\u001B[0m\n\u001B[2K   \u001B[91m━━━━━━━━━━━━\u001B[0m\u001B[91m╸\u001B[0m\u001B[90m━━━━━━━━━━━━━━━━━━━━━━━━━━━\u001B[0m \u001B[32m33.1/102.0 MB\u001B[0m \u001B[31m165.5 MB/s\u001B[0m eta \u001B[36m0:00:01\u001B[0m\n\u001B[2K   \u001B[91m━━━━━━━━━━━━━━━\u001B[0m\u001B[90m╺\u001B[0m\u001B[90m━━━━━━━━━━━━━━━━━━━━━━━━\u001B[0m \u001B[32m38.8/102.0 MB\u001B[0m \u001B[31m166.5 MB/s\u001B[0m eta \u001B[36m0:00:01\u001B[0m\n\u001B[2K   \u001B[91m━━━━━━━━━━━━━━━━━\u001B[0m\u001B[91m╸\u001B[0m\u001B[90m━━━━━━━━━━━━━━━━━━━━━━\u001B[0m \u001B[32m44.7/102.0 MB\u001B[0m \u001B[31m167.5 MB/s\u001B[0m eta \u001B[36m0:00:01\u001B[0m\n\u001B[2K   \u001B[91m━━━━━━━━━━━━━━━━━━━\u001B[0m\u001B[91m╸\u001B[0m\u001B[90m━━━━━━━━━━━━━━━━━━━━\u001B[0m \u001B[32m50.4/102.0 MB\u001B[0m \u001B[31m168.5 MB/s\u001B[0m eta \u001B[36m0:00:01\u001B[0m\n\u001B[2K   \u001B[91m━━━━━━━━━━━━━━━━━━━━━━\u001B[0m\u001B[90m╺\u001B[0m\u001B[90m━━━━━━━━━━━━━━━━━\u001B[0m \u001B[32m56.5/102.0 MB\u001B[0m \u001B[31m171.2 MB/s\u001B[0m eta \u001B[36m0:00:01\u001B[0m\n\u001B[2K   \u001B[91m━━━━━━━━━━━━━━━━━━━━━━━━\u001B[0m\u001B[90m╺\u001B[0m\u001B[90m━━━━━━━━━━━━━━━\u001B[0m \u001B[32m62.4/102.0 MB\u001B[0m \u001B[31m174.9 MB/s\u001B[0m eta \u001B[36m0:00:01\u001B[0m\n\u001B[2K   \u001B[91m━━━━━━━━━━━━━━━━━━━━━━━━━━\u001B[0m\u001B[91m╸\u001B[0m\u001B[90m━━━━━━━━━━━━━\u001B[0m \u001B[32m68.5/102.0 MB\u001B[0m \u001B[31m174.1 MB/s\u001B[0m eta \u001B[36m0:00:01\u001B[0m\n\u001B[2K   \u001B[91m━━━━━━━━━━━━━━━━━━━━━━━━━━━━━\u001B[0m\u001B[90m╺\u001B[0m\u001B[90m━━━━━━━━━━\u001B[0m \u001B[32m74.7/102.0 MB\u001B[0m \u001B[31m177.7 MB/s\u001B[0m eta \u001B[36m0:00:01\u001B[0m\n\u001B[2K   \u001B[91m━━━━━━━━━━━━━━━━━━━━━━━━━━━━━━━\u001B[0m\u001B[91m╸\u001B[0m\u001B[90m━━━━━━━━\u001B[0m \u001B[32m80.8/102.0 MB\u001B[0m \u001B[31m177.8 MB/s\u001B[0m eta \u001B[36m0:00:01\u001B[0m\n\u001B[2K   \u001B[91m━━━━━━━━━━━━━━━━━━━━━━━━━━━━━━━━━\u001B[0m\u001B[91m╸\u001B[0m\u001B[90m━━━━━━\u001B[0m \u001B[32m86.6/102.0 MB\u001B[0m \u001B[31m172.0 MB/s\u001B[0m eta \u001B[36m0:00:01\u001B[0m\n\u001B[2K   \u001B[91m━━━━━━━━━━━━━━━━━━━━━━━━━━━━━━━━━━━━\u001B[0m\u001B[90m╺\u001B[0m\u001B[90m━━━\u001B[0m \u001B[32m92.8/102.0 MB\u001B[0m \u001B[31m179.7 MB/s\u001B[0m eta \u001B[36m0:00:01\u001B[0m\n\u001B[2K   \u001B[91m━━━━━━━━━━━━━━━━━━━━━━━━━━━━━━━━━━━━━━\u001B[0m\u001B[91m╸\u001B[0m\u001B[90m━\u001B[0m \u001B[32m98.9/102.0 MB\u001B[0m \u001B[31m177.8 MB/s\u001B[0m eta \u001B[36m0:00:01\u001B[0m\n\u001B[2K   \u001B[91m━━━━━━━━━━━━━━━━━━━━━━━━━━━━━━━━━━━━━━\u001B[0m\u001B[91m╸\u001B[0m \u001B[32m102.0/102.0 MB\u001B[0m \u001B[31m183.5 MB/s\u001B[0m eta \u001B[36m0:00:01\u001B[0m\n\u001B[2K   \u001B[91m━━━━━━━━━━━━━━━━━━━━━━━━━━━━━━━━━━━━━━\u001B[0m\u001B[91m╸\u001B[0m \u001B[32m102.0/102.0 MB\u001B[0m \u001B[31m183.5 MB/s\u001B[0m eta \u001B[36m0:00:01\u001B[0m\n\u001B[2K   \u001B[91m━━━━━━━━━━━━━━━━━━━━━━━━━━━━━━━━━━━━━━\u001B[0m\u001B[91m╸\u001B[0m \u001B[32m102.0/102.0 MB\u001B[0m \u001B[31m183.5 MB/s\u001B[0m eta \u001B[36m0:00:01\u001B[0m\n\u001B[2K   \u001B[91m━━━━━━━━━━━━━━━━━━━━━━━━━━━━━━━━━━━━━━\u001B[0m\u001B[91m╸\u001B[0m \u001B[32m102.0/102.0 MB\u001B[0m \u001B[31m183.5 MB/s\u001B[0m eta \u001B[36m0:00:01\u001B[0m\n\u001B[2K   \u001B[91m━━━━━━━━━━━━━━━━━━━━━━━━━━━━━━━━━━━━━━\u001B[0m\u001B[91m╸\u001B[0m \u001B[32m102.0/102.0 MB\u001B[0m \u001B[31m183.5 MB/s\u001B[0m eta \u001B[36m0:00:01\u001B[0m\n\u001B[2K   \u001B[91m━━━━━━━━━━━━━━━━━━━━━━━━━━━━━━━━━━━━━━\u001B[0m\u001B[91m╸\u001B[0m \u001B[32m102.0/102.0 MB\u001B[0m \u001B[31m183.5 MB/s\u001B[0m eta \u001B[36m0:00:01\u001B[0m\n\u001B[2K   \u001B[91m━━━━━━━━━━━━━━━━━━━━━━━━━━━━━━━━━━━━━━\u001B[0m\u001B[91m╸\u001B[0m \u001B[32m102.0/102.0 MB\u001B[0m \u001B[31m183.5 MB/s\u001B[0m eta \u001B[36m0:00:01\u001B[0m\n\u001B[2K   \u001B[91m━━━━━━━━━━━━━━━━━━━━━━━━━━━━━━━━━━━━━━\u001B[0m\u001B[91m╸\u001B[0m \u001B[32m102.0/102.0 MB\u001B[0m \u001B[31m183.5 MB/s\u001B[0m eta \u001B[36m0:00:01\u001B[0m\n\u001B[2K   \u001B[91m━━━━━━━━━━━━━━━━━━━━━━━━━━━━━━━━━━━━━━\u001B[0m\u001B[91m╸\u001B[0m \u001B[32m102.0/102.0 MB\u001B[0m \u001B[31m183.5 MB/s\u001B[0m eta \u001B[36m0:00:01\u001B[0m\n\u001B[2K   \u001B[91m━━━━━━━━━━━━━━━━━━━━━━━━━━━━━━━━━━━━━━\u001B[0m\u001B[91m╸\u001B[0m \u001B[32m102.0/102.0 MB\u001B[0m \u001B[31m183.5 MB/s\u001B[0m eta \u001B[36m0:00:01\u001B[0m\n\u001B[2K   \u001B[91m━━━━━━━━━━━━━━━━━━━━━━━━━━━━━━━━━━━━━━\u001B[0m\u001B[91m╸\u001B[0m \u001B[32m102.0/102.0 MB\u001B[0m \u001B[31m183.5 MB/s\u001B[0m eta \u001B[36m0:00:01\u001B[0m\n\u001B[2K   \u001B[91m━━━━━━━━━━━━━━━━━━━━━━━━━━━━━━━━━━━━━━\u001B[0m\u001B[91m╸\u001B[0m \u001B[32m102.0/102.0 MB\u001B[0m \u001B[31m183.5 MB/s\u001B[0m eta \u001B[36m0:00:01\u001B[0m\n\u001B[2K   \u001B[91m━━━━━━━━━━━━━━━━━━━━━━━━━━━━━━━━━━━━━━\u001B[0m\u001B[91m╸\u001B[0m \u001B[32m102.0/102.0 MB\u001B[0m \u001B[31m183.5 MB/s\u001B[0m eta \u001B[36m0:00:01\u001B[0m\n\u001B[2K   \u001B[91m━━━━━━━━━━━━━━━━━━━━━━━━━━━━━━━━━━━━━━\u001B[0m\u001B[91m╸\u001B[0m \u001B[32m102.0/102.0 MB\u001B[0m \u001B[31m183.5 MB/s\u001B[0m eta \u001B[36m0:00:01\u001B[0m\n\u001B[2K   \u001B[91m━━━━━━━━━━━━━━━━━━━━━━━━━━━━━━━━━━━━━━\u001B[0m\u001B[91m╸\u001B[0m \u001B[32m102.0/102.0 MB\u001B[0m \u001B[31m183.5 MB/s\u001B[0m eta \u001B[36m0:00:01\u001B[0m\n\u001B[2K   \u001B[91m━━━━━━━━━━━━━━━━━━━━━━━━━━━━━━━━━━━━━━\u001B[0m\u001B[91m╸\u001B[0m \u001B[32m102.0/102.0 MB\u001B[0m \u001B[31m183.5 MB/s\u001B[0m eta \u001B[36m0:00:01\u001B[0m\n\u001B[2K   \u001B[91m━━━━━━━━━━━━━━━━━━━━━━━━━━━━━━━━━━━━━━\u001B[0m\u001B[91m╸\u001B[0m \u001B[32m102.0/102.0 MB\u001B[0m \u001B[31m183.5 MB/s\u001B[0m eta \u001B[36m0:00:01\u001B[0m\n\u001B[2K   \u001B[91m━━━━━━━━━━━━━━━━━━━━━━━━━━━━━━━━━━━━━━\u001B[0m\u001B[91m╸\u001B[0m \u001B[32m102.0/102.0 MB\u001B[0m \u001B[31m183.5 MB/s\u001B[0m eta \u001B[36m0:00:01\u001B[0m\n\u001B[2K   \u001B[91m━━━━━━━━━━━━━━━━━━━━━━━━━━━━━━━━━━━━━━\u001B[0m\u001B[91m╸\u001B[0m \u001B[32m102.0/102.0 MB\u001B[0m \u001B[31m183.5 MB/s\u001B[0m eta \u001B[36m0:00:01\u001B[0m\n\u001B[2K   \u001B[91m━━━━━━━━━━━━━━━━━━━━━━━━━━━━━━━━━━━━━━\u001B[0m\u001B[91m╸\u001B[0m \u001B[32m102.0/102.0 MB\u001B[0m \u001B[31m183.5 MB/s\u001B[0m eta \u001B[36m0:00:01\u001B[0m\n\u001B[2K   \u001B[91m━━━━━━━━━━━━━━━━━━━━━━━━━━━━━━━━━━━━━━\u001B[0m\u001B[91m╸\u001B[0m \u001B[32m102.0/102.0 MB\u001B[0m \u001B[31m183.5 MB/s\u001B[0m eta \u001B[36m0:00:01\u001B[0m\n\u001B[2K   \u001B[91m━━━━━━━━━━━━━━━━━━━━━━━━━━━━━━━━━━━━━━\u001B[0m\u001B[91m╸\u001B[0m \u001B[32m102.0/102.0 MB\u001B[0m \u001B[31m183.5 MB/s\u001B[0m eta \u001B[36m0:00:01\u001B[0m\n\u001B[2K   \u001B[91m━━━━━━━━━━━━━━━━━━━━━━━━━━━━━━━━━━━━━━\u001B[0m\u001B[91m╸\u001B[0m \u001B[32m102.0/102.0 MB\u001B[0m \u001B[31m183.5 MB/s\u001B[0m eta \u001B[36m0:00:01\u001B[0m\n\u001B[2K   \u001B[91m━━━━━━━━━━━━━━━━━━━━━━━━━━━━━━━━━━━━━━\u001B[0m\u001B[91m╸\u001B[0m \u001B[32m102.0/102.0 MB\u001B[0m \u001B[31m183.5 MB/s\u001B[0m eta \u001B[36m0:00:01\u001B[0m\n\u001B[2K   \u001B[91m━━━━━━━━━━━━━━━━━━━━━━━━━━━━━━━━━━━━━━\u001B[0m\u001B[91m╸\u001B[0m \u001B[32m102.0/102.0 MB\u001B[0m \u001B[31m183.5 MB/s\u001B[0m eta \u001B[36m0:00:01\u001B[0m\n\u001B[2K   \u001B[91m━━━━━━━━━━━━━━━━━━━━━━━━━━━━━━━━━━━━━━\u001B[0m\u001B[91m╸\u001B[0m \u001B[32m102.0/102.0 MB\u001B[0m \u001B[31m183.5 MB/s\u001B[0m eta \u001B[36m0:00:01\u001B[0m\n\u001B[2K   \u001B[91m━━━━━━━━━━━━━━━━━━━━━━━━━━━━━━━━━━━━━━\u001B[0m\u001B[91m╸\u001B[0m \u001B[32m102.0/102.0 MB\u001B[0m \u001B[31m183.5 MB/s\u001B[0m eta \u001B[36m0:00:01\u001B[0m\n\u001B[2K   \u001B[91m━━━━━━━━━━━━━━━━━━━━━━━━━━━━━━━━━━━━━━\u001B[0m\u001B[91m╸\u001B[0m \u001B[32m102.0/102.0 MB\u001B[0m \u001B[31m183.5 MB/s\u001B[0m eta \u001B[36m0:00:01\u001B[0m\n\u001B[2K   \u001B[91m━━━━━━━━━━━━━━━━━━━━━━━━━━━━━━━━━━━━━━\u001B[0m\u001B[91m╸\u001B[0m \u001B[32m102.0/102.0 MB\u001B[0m \u001B[31m183.5 MB/s\u001B[0m eta \u001B[36m0:00:01\u001B[0m\n\u001B[2K   \u001B[91m━━━━━━━━━━━━━━━━━━━━━━━━━━━━━━━━━━━━━━\u001B[0m\u001B[91m╸\u001B[0m \u001B[32m102.0/102.0 MB\u001B[0m \u001B[31m183.5 MB/s\u001B[0m eta \u001B[36m0:00:01\u001B[0m\n\u001B[2K   \u001B[91m━━━━━━━━━━━━━━━━━━━━━━━━━━━━━━━━━━━━━━\u001B[0m\u001B[91m╸\u001B[0m \u001B[32m102.0/102.0 MB\u001B[0m \u001B[31m183.5 MB/s\u001B[0m eta \u001B[36m0:00:01\u001B[0m\n\u001B[2K   \u001B[91m━━━━━━━━━━━━━━━━━━━━━━━━━━━━━━━━━━━━━━\u001B[0m\u001B[91m╸\u001B[0m \u001B[32m102.0/102.0 MB\u001B[0m \u001B[31m183.5 MB/s\u001B[0m eta \u001B[36m0:00:01\u001B[0m\n\u001B[2K   \u001B[91m━━━━━━━━━━━━━━━━━━━━━━━━━━━━━━━━━━━━━━\u001B[0m\u001B[91m╸\u001B[0m \u001B[32m102.0/102.0 MB\u001B[0m \u001B[31m183.5 MB/s\u001B[0m eta \u001B[36m0:00:01\u001B[0m\n\u001B[2K   \u001B[91m━━━━━━━━━━━━━━━━━━━━━━━━━━━━━━━━━━━━━━\u001B[0m\u001B[91m╸\u001B[0m \u001B[32m102.0/102.0 MB\u001B[0m \u001B[31m183.5 MB/s\u001B[0m eta \u001B[36m0:00:01\u001B[0m\n\u001B[2K   \u001B[91m━━━━━━━━━━━━━━━━━━━━━━━━━━━━━━━━━━━━━━\u001B[0m\u001B[91m╸\u001B[0m \u001B[32m102.0/102.0 MB\u001B[0m \u001B[31m183.5 MB/s\u001B[0m eta \u001B[36m0:00:01\u001B[0m\n\u001B[2K   \u001B[91m━━━━━━━━━━━━━━━━━━━━━━━━━━━━━━━━━━━━━━\u001B[0m\u001B[91m╸\u001B[0m \u001B[32m102.0/102.0 MB\u001B[0m \u001B[31m183.5 MB/s\u001B[0m eta \u001B[36m0:00:01\u001B[0m\n\u001B[2K   \u001B[91m━━━━━━━━━━━━━━━━━━━━━━━━━━━━━━━━━━━━━━\u001B[0m\u001B[91m╸\u001B[0m \u001B[32m102.0/102.0 MB\u001B[0m \u001B[31m183.5 MB/s\u001B[0m eta \u001B[36m0:00:01\u001B[0m\n\u001B[2K   \u001B[91m━━━━━━━━━━━━━━━━━━━━━━━━━━━━━━━━━━━━━━\u001B[0m\u001B[91m╸\u001B[0m \u001B[32m102.0/102.0 MB\u001B[0m \u001B[31m183.5 MB/s\u001B[0m eta \u001B[36m0:00:01\u001B[0m\n\u001B[2K   \u001B[91m━━━━━━━━━━━━━━━━━━━━━━━━━━━━━━━━━━━━━━\u001B[0m\u001B[91m╸\u001B[0m \u001B[32m102.0/102.0 MB\u001B[0m \u001B[31m183.5 MB/s\u001B[0m eta \u001B[36m0:00:01\u001B[0m\n\u001B[2K   \u001B[91m━━━━━━━━━━━━━━━━━━━━━━━━━━━━━━━━━━━━━━\u001B[0m\u001B[91m╸\u001B[0m \u001B[32m102.0/102.0 MB\u001B[0m \u001B[31m183.5 MB/s\u001B[0m eta \u001B[36m0:00:01\u001B[0m\n\u001B[2K   \u001B[91m━━━━━━━━━━━━━━━━━━━━━━━━━━━━━━━━━━━━━━\u001B[0m\u001B[91m╸\u001B[0m \u001B[32m102.0/102.0 MB\u001B[0m \u001B[31m183.5 MB/s\u001B[0m eta \u001B[36m0:00:01\u001B[0m\n\u001B[2K   \u001B[91m━━━━━━━━━━━━━━━━━━━━━━━━━━━━━━━━━━━━━━\u001B[0m\u001B[91m╸\u001B[0m \u001B[32m102.0/102.0 MB\u001B[0m \u001B[31m183.5 MB/s\u001B[0m eta \u001B[36m0:00:01\u001B[0m\n\u001B[2K   \u001B[91m━━━━━━━━━━━━━━━━━━━━━━━━━━━━━━━━━━━━━━\u001B[0m\u001B[91m╸\u001B[0m \u001B[32m102.0/102.0 MB\u001B[0m \u001B[31m183.5 MB/s\u001B[0m eta \u001B[36m0:00:01\u001B[0m\n\u001B[2K   \u001B[91m━━━━━━━━━━━━━━━━━━━━━━━━━━━━━━━━━━━━━━\u001B[0m\u001B[91m╸\u001B[0m \u001B[32m102.0/102.0 MB\u001B[0m \u001B[31m183.5 MB/s\u001B[0m eta \u001B[36m0:00:01\u001B[0m\n\u001B[2K   \u001B[91m━━━━━━━━━━━━━━━━━━━━━━━━━━━━━━━━━━━━━━\u001B[0m\u001B[91m╸\u001B[0m \u001B[32m102.0/102.0 MB\u001B[0m \u001B[31m183.5 MB/s\u001B[0m eta \u001B[36m0:00:01\u001B[0m\n\u001B[2K   \u001B[91m━━━━━━━━━━━━━━━━━━━━━━━━━━━━━━━━━━━━━━\u001B[0m\u001B[91m╸\u001B[0m \u001B[32m102.0/102.0 MB\u001B[0m \u001B[31m183.5 MB/s\u001B[0m eta \u001B[36m0:00:01\u001B[0m\n\u001B[2K   \u001B[91m━━━━━━━━━━━━━━━━━━━━━━━━━━━━━━━━━━━━━━\u001B[0m\u001B[91m╸\u001B[0m \u001B[32m102.0/102.0 MB\u001B[0m \u001B[31m183.5 MB/s\u001B[0m eta \u001B[36m0:00:01\u001B[0m\n\u001B[2K   \u001B[91m━━━━━━━━━━━━━━━━━━━━━━━━━━━━━━━━━━━━━━\u001B[0m\u001B[91m╸\u001B[0m \u001B[32m102.0/102.0 MB\u001B[0m \u001B[31m183.5 MB/s\u001B[0m eta \u001B[36m0:00:01\u001B[0m\n\u001B[2K   \u001B[91m━━━━━━━━━━━━━━━━━━━━━━━━━━━━━━━━━━━━━━\u001B[0m\u001B[91m╸\u001B[0m \u001B[32m102.0/102.0 MB\u001B[0m \u001B[31m183.5 MB/s\u001B[0m eta \u001B[36m0:00:01\u001B[0m\n\u001B[2K   \u001B[91m━━━━━━━━━━━━━━━━━━━━━━━━━━━━━━━━━━━━━━\u001B[0m\u001B[91m╸\u001B[0m \u001B[32m102.0/102.0 MB\u001B[0m \u001B[31m183.5 MB/s\u001B[0m eta \u001B[36m0:00:01\u001B[0m\n\u001B[2K   \u001B[91m━━━━━━━━━━━━━━━━━━━━━━━━━━━━━━━━━━━━━━\u001B[0m\u001B[91m╸\u001B[0m \u001B[32m102.0/102.0 MB\u001B[0m \u001B[31m183.5 MB/s\u001B[0m eta \u001B[36m0:00:01\u001B[0m\n\u001B[2K   \u001B[91m━━━━━━━━━━━━━━━━━━━━━━━━━━━━━━━━━━━━━━\u001B[0m\u001B[91m╸\u001B[0m \u001B[32m102.0/102.0 MB\u001B[0m \u001B[31m183.5 MB/s\u001B[0m eta \u001B[36m0:00:01\u001B[0m\n\u001B[2K   \u001B[91m━━━━━━━━━━━━━━━━━━━━━━━━━━━━━━━━━━━━━━\u001B[0m\u001B[91m╸\u001B[0m \u001B[32m102.0/102.0 MB\u001B[0m \u001B[31m183.5 MB/s\u001B[0m eta \u001B[36m0:00:01\u001B[0m\n\u001B[2K   \u001B[91m━━━━━━━━━━━━━━━━━━━━━━━━━━━━━━━━━━━━━━\u001B[0m\u001B[91m╸\u001B[0m \u001B[32m102.0/102.0 MB\u001B[0m \u001B[31m183.5 MB/s\u001B[0m eta \u001B[36m0:00:01\u001B[0m\n\u001B[2K   \u001B[91m━━━━━━━━━━━━━━━━━━━━━━━━━━━━━━━━━━━━━━\u001B[0m\u001B[91m╸\u001B[0m \u001B[32m102.0/102.0 MB\u001B[0m \u001B[31m183.5 MB/s\u001B[0m eta \u001B[36m0:00:01\u001B[0m\n\u001B[2K   \u001B[91m━━━━━━━━━━━━━━━━━━━━━━━━━━━━━━━━━━━━━━\u001B[0m\u001B[91m╸\u001B[0m \u001B[32m102.0/102.0 MB\u001B[0m \u001B[31m183.5 MB/s\u001B[0m eta \u001B[36m0:00:01\u001B[0m\n\u001B[2K   \u001B[91m━━━━━━━━━━━━━━━━━━━━━━━━━━━━━━━━━━━━━━\u001B[0m\u001B[91m╸\u001B[0m \u001B[32m102.0/102.0 MB\u001B[0m \u001B[31m183.5 MB/s\u001B[0m eta \u001B[36m0:00:01\u001B[0m\n\u001B[2K   \u001B[91m━━━━━━━━━━━━━━━━━━━━━━━━━━━━━━━━━━━━━━\u001B[0m\u001B[91m╸\u001B[0m \u001B[32m102.0/102.0 MB\u001B[0m \u001B[31m183.5 MB/s\u001B[0m eta \u001B[36m0:00:01\u001B[0m\n\u001B[2K   \u001B[91m━━━━━━━━━━━━━━━━━━━━━━━━━━━━━━━━━━━━━━\u001B[0m\u001B[91m╸\u001B[0m \u001B[32m102.0/102.0 MB\u001B[0m \u001B[31m183.5 MB/s\u001B[0m eta \u001B[36m0:00:01\u001B[0m\n\u001B[2K   \u001B[91m━━━━━━━━━━━━━━━━━━━━━━━━━━━━━━━━━━━━━━\u001B[0m\u001B[91m╸\u001B[0m \u001B[32m102.0/102.0 MB\u001B[0m \u001B[31m183.5 MB/s\u001B[0m eta \u001B[36m0:00:01\u001B[0m\n\u001B[2K   \u001B[91m━━━━━━━━━━━━━━━━━━━━━━━━━━━━━━━━━━━━━━\u001B[0m\u001B[91m╸\u001B[0m \u001B[32m102.0/102.0 MB\u001B[0m \u001B[31m183.5 MB/s\u001B[0m eta \u001B[36m0:00:01\u001B[0m\n\u001B[2K   \u001B[91m━━━━━━━━━━━━━━━━━━━━━━━━━━━━━━━━━━━━━━\u001B[0m\u001B[91m╸\u001B[0m \u001B[32m102.0/102.0 MB\u001B[0m \u001B[31m183.5 MB/s\u001B[0m eta \u001B[36m0:00:01\u001B[0m\n\u001B[2K   \u001B[91m━━━━━━━━━━━━━━━━━━━━━━━━━━━━━━━━━━━━━━\u001B[0m\u001B[91m╸\u001B[0m \u001B[32m102.0/102.0 MB\u001B[0m \u001B[31m183.5 MB/s\u001B[0m eta \u001B[36m0:00:01\u001B[0m\n\u001B[2K   \u001B[91m━━━━━━━━━━━━━━━━━━━━━━━━━━━━━━━━━━━━━━\u001B[0m\u001B[91m╸\u001B[0m \u001B[32m102.0/102.0 MB\u001B[0m \u001B[31m183.5 MB/s\u001B[0m eta \u001B[36m0:00:01\u001B[0m\n\u001B[2K   \u001B[91m━━━━━━━━━━━━━━━━━━━━━━━━━━━━━━━━━━━━━━\u001B[0m\u001B[91m╸\u001B[0m \u001B[32m102.0/102.0 MB\u001B[0m \u001B[31m183.5 MB/s\u001B[0m eta \u001B[36m0:00:01\u001B[0m\n\u001B[2K   \u001B[91m━━━━━━━━━━━━━━━━━━━━━━━━━━━━━━━━━━━━━━\u001B[0m\u001B[91m╸\u001B[0m \u001B[32m102.0/102.0 MB\u001B[0m \u001B[31m183.5 MB/s\u001B[0m eta \u001B[36m0:00:01\u001B[0m\n\u001B[2K   \u001B[91m━━━━━━━━━━━━━━━━━━━━━━━━━━━━━━━━━━━━━━\u001B[0m\u001B[91m╸\u001B[0m \u001B[32m102.0/102.0 MB\u001B[0m \u001B[31m183.5 MB/s\u001B[0m eta \u001B[36m0:00:01\u001B[0m\n\u001B[2K   \u001B[91m━━━━━━━━━━━━━━━━━━━━━━━━━━━━━━━━━━━━━━\u001B[0m\u001B[91m╸\u001B[0m \u001B[32m102.0/102.0 MB\u001B[0m \u001B[31m183.5 MB/s\u001B[0m eta \u001B[36m0:00:01\u001B[0m\n\u001B[2K   \u001B[91m━━━━━━━━━━━━━━━━━━━━━━━━━━━━━━━━━━━━━━\u001B[0m\u001B[91m╸\u001B[0m \u001B[32m102.0/102.0 MB\u001B[0m \u001B[31m183.5 MB/s\u001B[0m eta \u001B[36m0:00:01\u001B[0m\n\u001B[2K   \u001B[91m━━━━━━━━━━━━━━━━━━━━━━━━━━━━━━━━━━━━━━\u001B[0m\u001B[91m╸\u001B[0m \u001B[32m102.0/102.0 MB\u001B[0m \u001B[31m183.5 MB/s\u001B[0m eta \u001B[36m0:00:01\u001B[0m\n\u001B[2K   \u001B[91m━━━━━━━━━━━━━━━━━━━━━━━━━━━━━━━━━━━━━━\u001B[0m\u001B[91m╸\u001B[0m \u001B[32m102.0/102.0 MB\u001B[0m \u001B[31m183.5 MB/s\u001B[0m eta \u001B[36m0:00:01\u001B[0m\n\u001B[2K   \u001B[91m━━━━━━━━━━━━━━━━━━━━━━━━━━━━━━━━━━━━━━\u001B[0m\u001B[91m╸\u001B[0m \u001B[32m102.0/102.0 MB\u001B[0m \u001B[31m183.5 MB/s\u001B[0m eta \u001B[36m0:00:01\u001B[0m\n\u001B[2K   \u001B[91m━━━━━━━━━━━━━━━━━━━━━━━━━━━━━━━━━━━━━━\u001B[0m\u001B[91m╸\u001B[0m \u001B[32m102.0/102.0 MB\u001B[0m \u001B[31m183.5 MB/s\u001B[0m eta \u001B[36m0:00:01\u001B[0m\n\u001B[2K   \u001B[91m━━━━━━━━━━━━━━━━━━━━━━━━━━━━━━━━━━━━━━\u001B[0m\u001B[91m╸\u001B[0m \u001B[32m102.0/102.0 MB\u001B[0m \u001B[31m183.5 MB/s\u001B[0m eta \u001B[36m0:00:01\u001B[0m\n\u001B[2K   \u001B[91m━━━━━━━━━━━━━━━━━━━━━━━━━━━━━━━━━━━━━━\u001B[0m\u001B[91m╸\u001B[0m \u001B[32m102.0/102.0 MB\u001B[0m \u001B[31m183.5 MB/s\u001B[0m eta \u001B[36m0:00:01\u001B[0m\n\u001B[2K   \u001B[91m━━━━━━━━━━━━━━━━━━━━━━━━━━━━━━━━━━━━━━\u001B[0m\u001B[91m╸\u001B[0m \u001B[32m102.0/102.0 MB\u001B[0m \u001B[31m183.5 MB/s\u001B[0m eta \u001B[36m0:00:01\u001B[0m\n\u001B[2K   \u001B[91m━━━━━━━━━━━━━━━━━━━━━━━━━━━━━━━━━━━━━━\u001B[0m\u001B[91m╸\u001B[0m \u001B[32m102.0/102.0 MB\u001B[0m \u001B[31m183.5 MB/s\u001B[0m eta \u001B[36m0:00:01\u001B[0m\n\u001B[2K   \u001B[91m━━━━━━━━━━━━━━━━━━━━━━━━━━━━━━━━━━━━━━\u001B[0m\u001B[91m╸\u001B[0m \u001B[32m102.0/102.0 MB\u001B[0m \u001B[31m183.5 MB/s\u001B[0m eta \u001B[36m0:00:01\u001B[0m\n\u001B[2K   \u001B[91m━━━━━━━━━━━━━━━━━━━━━━━━━━━━━━━━━━━━━━\u001B[0m\u001B[91m╸\u001B[0m \u001B[32m102.0/102.0 MB\u001B[0m \u001B[31m183.5 MB/s\u001B[0m eta \u001B[36m0:00:01\u001B[0m\n\u001B[2K   \u001B[91m━━━━━━━━━━━━━━━━━━━━━━━━━━━━━━━━━━━━━━\u001B[0m\u001B[91m╸\u001B[0m \u001B[32m102.0/102.0 MB\u001B[0m \u001B[31m183.5 MB/s\u001B[0m eta \u001B[36m0:00:01\u001B[0m\n\u001B[2K   \u001B[91m━━━━━━━━━━━━━━━━━━━━━━━━━━━━━━━━━━━━━━\u001B[0m\u001B[91m╸\u001B[0m \u001B[32m102.0/102.0 MB\u001B[0m \u001B[31m183.5 MB/s\u001B[0m eta \u001B[36m0:00:01\u001B[0m\n\u001B[2K   \u001B[91m━━━━━━━━━━━━━━━━━━━━━━━━━━━━━━━━━━━━━━\u001B[0m\u001B[91m╸\u001B[0m \u001B[32m102.0/102.0 MB\u001B[0m \u001B[31m183.5 MB/s\u001B[0m eta \u001B[36m0:00:01\u001B[0m\n\u001B[2K   \u001B[91m━━━━━━━━━━━━━━━━━━━━━━━━━━━━━━━━━━━━━━\u001B[0m\u001B[91m╸\u001B[0m \u001B[32m102.0/102.0 MB\u001B[0m \u001B[31m183.5 MB/s\u001B[0m eta \u001B[36m0:00:01\u001B[0m\n\u001B[2K   \u001B[91m━━━━━━━━━━━━━━━━━━━━━━━━━━━━━━━━━━━━━━\u001B[0m\u001B[91m╸\u001B[0m \u001B[32m102.0/102.0 MB\u001B[0m \u001B[31m183.5 MB/s\u001B[0m eta \u001B[36m0:00:01\u001B[0m\n\u001B[2K   \u001B[91m━━━━━━━━━━━━━━━━━━━━━━━━━━━━━━━━━━━━━━\u001B[0m\u001B[91m╸\u001B[0m \u001B[32m102.0/102.0 MB\u001B[0m \u001B[31m183.5 MB/s\u001B[0m eta \u001B[36m0:00:01\u001B[0m\n\u001B[2K   \u001B[90m━━━━━━━━━━━━━━━━━━━━━━━━━━━━━━━━━━━━━━━━\u001B[0m \u001B[32m102.0/102.0 MB\u001B[0m \u001B[31m3.2 MB/s\u001B[0m eta \u001B[36m0:00:00\u001B[0m\n\u001B[?25hDownloading numpy-1.26.4-cp311-cp311-manylinux_2_17_x86_64.manylinux2014_x86_64.whl (18.3 MB)\n\u001B[?25l   \u001B[90m━━━━━━━━━━━━━━━━━━━━━━━━━━━━━━━━━━━━━━━━\u001B[0m \u001B[32m0.0/18.3 MB\u001B[0m \u001B[31m?\u001B[0m eta \u001B[36m-:--:--\u001B[0m\n\u001B[2K   \u001B[91m━━━━━━━━━━━━━━\u001B[0m\u001B[90m╺\u001B[0m\u001B[90m━━━━━━━━━━━━━━━━━━━━━━━━━\u001B[0m \u001B[32m6.6/18.3 MB\u001B[0m \u001B[31m198.5 MB/s\u001B[0m eta \u001B[36m0:00:01\u001B[0m\n\u001B[2K   \u001B[91m━━━━━━━━━━━━━━━━━━━━━━━━━━━━━━\u001B[0m\u001B[90m╺\u001B[0m\u001B[90m━━━━━━━━━\u001B[0m \u001B[32m13.9/18.3 MB\u001B[0m \u001B[31m202.7 MB/s\u001B[0m eta \u001B[36m0:00:01\u001B[0m\n\u001B[2K   \u001B[91m━━━━━━━━━━━━━━━━━━━━━━━━━━━━━━━━━━━━━━━\u001B[0m\u001B[91m╸\u001B[0m \u001B[32m18.2/18.3 MB\u001B[0m \u001B[31m212.2 MB/s\u001B[0m eta \u001B[36m0:00:01\u001B[0m\n\u001B[2K   \u001B[91m━━━━━━━━━━━━━━━━━━━━━━━━━━━━━━━━━━━━━━━\u001B[0m\u001B[91m╸\u001B[0m \u001B[32m18.2/18.3 MB\u001B[0m \u001B[31m212.2 MB/s\u001B[0m eta \u001B[36m0:00:01\u001B[0m\n\u001B[2K   \u001B[91m━━━━━━━━━━━━━━━━━━━━━━━━━━━━━━━━━━━━━━━\u001B[0m\u001B[91m╸\u001B[0m \u001B[32m18.2/18.3 MB\u001B[0m \u001B[31m212.2 MB/s\u001B[0m eta \u001B[36m0:00:01\u001B[0m\n\u001B[2K   \u001B[91m━━━━━━━━━━━━━━━━━━━━━━━━━━━━━━━━━━━━━━━\u001B[0m\u001B[91m╸\u001B[0m \u001B[32m18.2/18.3 MB\u001B[0m \u001B[31m212.2 MB/s\u001B[0m eta \u001B[36m0:00:01\u001B[0m\n\u001B[2K   \u001B[91m━━━━━━━━━━━━━━━━━━━━━━━━━━━━━━━━━━━━━━━\u001B[0m\u001B[91m╸\u001B[0m \u001B[32m18.2/18.3 MB\u001B[0m \u001B[31m212.2 MB/s\u001B[0m eta \u001B[36m0:00:01\u001B[0m\n\u001B[2K   \u001B[91m━━━━━━━━━━━━━━━━━━━━━━━━━━━━━━━━━━━━━━━\u001B[0m\u001B[91m╸\u001B[0m \u001B[32m18.2/18.3 MB\u001B[0m \u001B[31m212.2 MB/s\u001B[0m eta \u001B[36m0:00:01\u001B[0m\n\u001B[2K   \u001B[91m━━━━━━━━━━━━━━━━━━━━━━━━━━━━━━━━━━━━━━━\u001B[0m\u001B[91m╸\u001B[0m \u001B[32m18.2/18.3 MB\u001B[0m \u001B[31m212.2 MB/s\u001B[0m eta \u001B[36m0:00:01\u001B[0m\n\u001B[2K   \u001B[91m━━━━━━━━━━━━━━━━━━━━━━━━━━━━━━━━━━━━━━━\u001B[0m\u001B[91m╸\u001B[0m \u001B[32m18.2/18.3 MB\u001B[0m \u001B[31m212.2 MB/s\u001B[0m eta \u001B[36m0:00:01\u001B[0m\n\u001B[2K   \u001B[91m━━━━━━━━━━━━━━━━━━━━━━━━━━━━━━━━━━━━━━━\u001B[0m\u001B[91m╸\u001B[0m \u001B[32m18.2/18.3 MB\u001B[0m \u001B[31m212.2 MB/s\u001B[0m eta \u001B[36m0:00:01\u001B[0m\n\u001B[2K   \u001B[91m━━━━━━━━━━━━━━━━━━━━━━━━━━━━━━━━━━━━━━━\u001B[0m\u001B[91m╸\u001B[0m \u001B[32m18.2/18.3 MB\u001B[0m \u001B[31m212.2 MB/s\u001B[0m eta \u001B[36m0:00:01\u001B[0m\n\u001B[2K   \u001B[91m━━━━━━━━━━━━━━━━━━━━━━━━━━━━━━━━━━━━━━━\u001B[0m\u001B[91m╸\u001B[0m \u001B[32m18.2/18.3 MB\u001B[0m \u001B[31m212.2 MB/s\u001B[0m eta \u001B[36m0:00:01\u001B[0m\n\u001B[2K   \u001B[91m━━━━━━━━━━━━━━━━━━━━━━━━━━━━━━━━━━━━━━━\u001B[0m\u001B[91m╸\u001B[0m \u001B[32m18.2/18.3 MB\u001B[0m \u001B[31m212.2 MB/s\u001B[0m eta \u001B[36m0:00:01\u001B[0m\n\u001B[2K   \u001B[91m━━━━━━━━━━━━━━━━━━━━━━━━━━━━━━━━━━━━━━━\u001B[0m\u001B[91m╸\u001B[0m \u001B[32m18.2/18.3 MB\u001B[0m \u001B[31m212.2 MB/s\u001B[0m eta \u001B[36m0:00:01\u001B[0m\n\u001B[2K   \u001B[91m━━━━━━━━━━━━━━━━━━━━━━━━━━━━━━━━━━━━━━━\u001B[0m\u001B[91m╸\u001B[0m \u001B[32m18.2/18.3 MB\u001B[0m \u001B[31m212.2 MB/s\u001B[0m eta \u001B[36m0:00:01\u001B[0m\n\u001B[2K   \u001B[91m━━━━━━━━━━━━━━━━━━━━━━━━━━━━━━━━━━━━━━━\u001B[0m\u001B[91m╸\u001B[0m \u001B[32m18.2/18.3 MB\u001B[0m \u001B[31m212.2 MB/s\u001B[0m eta \u001B[36m0:00:01\u001B[0m\n\u001B[2K   \u001B[91m━━━━━━━━━━━━━━━━━━━━━━━━━━━━━━━━━━━━━━━\u001B[0m\u001B[91m╸\u001B[0m \u001B[32m18.2/18.3 MB\u001B[0m \u001B[31m212.2 MB/s\u001B[0m eta \u001B[36m0:00:01\u001B[0m\n\u001B[2K   \u001B[91m━━━━━━━━━━━━━━━━━━━━━━━━━━━━━━━━━━━━━━━\u001B[0m\u001B[91m╸\u001B[0m \u001B[32m18.2/18.3 MB\u001B[0m \u001B[31m212.2 MB/s\u001B[0m eta \u001B[36m0:00:01\u001B[0m\n\u001B[2K   \u001B[90m━━━━━━━━━━━━━━━━━━━━━━━━━━━━━━━━━━━━━━━━\u001B[0m \u001B[32m18.3/18.3 MB\u001B[0m \u001B[31m15.7 MB/s\u001B[0m eta \u001B[36m0:00:00\u001B[0m\n\u001B[?25hDownloading opencv_contrib_python-4.11.0.86-cp37-abi3-manylinux_2_17_x86_64.manylinux2014_x86_64.whl (69.1 MB)\n\u001B[?25l   \u001B[90m━━━━━━━━━━━━━━━━━━━━━━━━━━━━━━━━━━━━━━━━\u001B[0m \u001B[32m0.0/69.1 MB\u001B[0m \u001B[31m?\u001B[0m eta \u001B[36m-:--:--\u001B[0m\n\u001B[2K   \u001B[91m━━━\u001B[0m\u001B[90m╺\u001B[0m\u001B[90m━━━━━━━━━━━━━━━━━━━━━━━━━━━━━━━━━━━━\u001B[0m \u001B[32m5.7/69.1 MB\u001B[0m \u001B[31m171.5 MB/s\u001B[0m eta \u001B[36m0:00:01\u001B[0m\n\u001B[2K   \u001B[91m━━━━━━━\u001B[0m\u001B[90m╺\u001B[0m\u001B[90m━━━━━━━━━━━━━━━━━━━━━━━━━━━━━━━━\u001B[0m \u001B[32m12.6/69.1 MB\u001B[0m \u001B[31m191.5 MB/s\u001B[0m eta \u001B[36m0:00:01\u001B[0m\n\u001B[2K   \u001B[91m━━━━━━━━━━━\u001B[0m\u001B[91m╸\u001B[0m\u001B[90m━━━━━━━━━━━━━━━━━━━━━━━━━━━━\u001B[0m \u001B[32m20.2/69.1 MB\u001B[0m \u001B[31m212.7 MB/s\u001B[0m eta \u001B[36m0:00:01\u001B[0m\n\u001B[2K   \u001B[91m━━━━━━━━━━━━━━━━\u001B[0m\u001B[90m╺\u001B[0m\u001B[90m━━━━━━━━━━━━━━━━━━━━━━━\u001B[0m \u001B[32m27.9/69.1 MB\u001B[0m \u001B[31m197.9 MB/s\u001B[0m eta \u001B[36m0:00:01\u001B[0m\n\u001B[2K   \u001B[91m━━━━━━━━━━━━━━━━━━━━\u001B[0m\u001B[90m╺\u001B[0m\u001B[90m━━━━━━━━━━━━━━━━━━━\u001B[0m \u001B[32m35.0/69.1 MB\u001B[0m \u001B[31m205.7 MB/s\u001B[0m eta \u001B[36m0:00:01\u001B[0m\n\u001B[2K   \u001B[91m━━━━━━━━━━━━━━━━━━━━━━━━\u001B[0m\u001B[90m╺\u001B[0m\u001B[90m━━━━━━━━━━━━━━━\u001B[0m \u001B[32m42.3/69.1 MB\u001B[0m \u001B[31m208.8 MB/s\u001B[0m eta \u001B[36m0:00:01\u001B[0m\n\u001B[2K   \u001B[91m━━━━━━━━━━━━━━━━━━━━━━━━━━━━\u001B[0m\u001B[91m╸\u001B[0m\u001B[90m━━━━━━━━━━━\u001B[0m \u001B[32m49.5/69.1 MB\u001B[0m \u001B[31m208.8 MB/s\u001B[0m eta \u001B[36m0:00:01\u001B[0m\n\u001B[2K   \u001B[91m━━━━━━━━━━━━━━━━━━━━━━━━━━━━━━━━\u001B[0m\u001B[91m╸\u001B[0m\u001B[90m━━━━━━━\u001B[0m \u001B[32m56.8/69.1 MB\u001B[0m \u001B[31m204.4 MB/s\u001B[0m eta \u001B[36m0:00:01\u001B[0m\n\u001B[2K   \u001B[91m━━━━━━━━━━━━━━━━━━━━━━━━━━━━━━━━━━━━━\u001B[0m\u001B[90m╺\u001B[0m\u001B[90m━━\u001B[0m \u001B[32m64.2/69.1 MB\u001B[0m \u001B[31m212.5 MB/s\u001B[0m eta \u001B[36m0:00:01\u001B[0m\n\u001B[2K   \u001B[91m━━━━━━━━━━━━━━━━━━━━━━━━━━━━━━━━━━━━━━━\u001B[0m\u001B[91m╸\u001B[0m \u001B[32m69.1/69.1 MB\u001B[0m \u001B[31m216.6 MB/s\u001B[0m eta \u001B[36m0:00:01\u001B[0m\n\u001B[2K   \u001B[91m━━━━━━━━━━━━━━━━━━━━━━━━━━━━━━━━━━━━━━━\u001B[0m\u001B[91m╸\u001B[0m \u001B[32m69.1/69.1 MB\u001B[0m \u001B[31m216.6 MB/s\u001B[0m eta \u001B[36m0:00:01\u001B[0m\n\u001B[2K   \u001B[91m━━━━━━━━━━━━━━━━━━━━━━━━━━━━━━━━━━━━━━━\u001B[0m\u001B[91m╸\u001B[0m \u001B[32m69.1/69.1 MB\u001B[0m \u001B[31m216.6 MB/s\u001B[0m eta \u001B[36m0:00:01\u001B[0m\n\u001B[2K   \u001B[91m━━━━━━━━━━━━━━━━━━━━━━━━━━━━━━━━━━━━━━━\u001B[0m\u001B[91m╸\u001B[0m \u001B[32m69.1/69.1 MB\u001B[0m \u001B[31m216.6 MB/s\u001B[0m eta \u001B[36m0:00:01\u001B[0m\n\u001B[2K   \u001B[91m━━━━━━━━━━━━━━━━━━━━━━━━━━━━━━━━━━━━━━━\u001B[0m\u001B[91m╸\u001B[0m \u001B[32m69.1/69.1 MB\u001B[0m \u001B[31m216.6 MB/s\u001B[0m eta \u001B[36m0:00:01\u001B[0m\n\u001B[2K   \u001B[91m━━━━━━━━━━━━━━━━━━━━━━━━━━━━━━━━━━━━━━━\u001B[0m\u001B[91m╸\u001B[0m \u001B[32m69.1/69.1 MB\u001B[0m \u001B[31m216.6 MB/s\u001B[0m eta \u001B[36m0:00:01\u001B[0m\n\u001B[2K   \u001B[91m━━━━━━━━━━━━━━━━━━━━━━━━━━━━━━━━━━━━━━━\u001B[0m\u001B[91m╸\u001B[0m \u001B[32m69.1/69.1 MB\u001B[0m \u001B[31m216.6 MB/s\u001B[0m eta \u001B[36m0:00:01\u001B[0m\n\u001B[2K   \u001B[91m━━━━━━━━━━━━━━━━━━━━━━━━━━━━━━━━━━━━━━━\u001B[0m\u001B[91m╸\u001B[0m \u001B[32m69.1/69.1 MB\u001B[0m \u001B[31m216.6 MB/s\u001B[0m eta \u001B[36m0:00:01\u001B[0m\n\u001B[2K   \u001B[91m━━━━━━━━━━━━━━━━━━━━━━━━━━━━━━━━━━━━━━━\u001B[0m\u001B[91m╸\u001B[0m \u001B[32m69.1/69.1 MB\u001B[0m \u001B[31m216.6 MB/s\u001B[0m eta \u001B[36m0:00:01\u001B[0m\n\u001B[2K   \u001B[91m━━━━━━━━━━━━━━━━━━━━━━━━━━━━━━━━━━━━━━━\u001B[0m\u001B[91m╸\u001B[0m \u001B[32m69.1/69.1 MB\u001B[0m \u001B[31m216.6 MB/s\u001B[0m eta \u001B[36m0:00:01\u001B[0m\n\u001B[2K   \u001B[91m━━━━━━━━━━━━━━━━━━━━━━━━━━━━━━━━━━━━━━━\u001B[0m\u001B[91m╸\u001B[0m \u001B[32m69.1/69.1 MB\u001B[0m \u001B[31m216.6 MB/s\u001B[0m eta \u001B[36m0:00:01\u001B[0m\n\u001B[2K   \u001B[91m━━━━━━━━━━━━━━━━━━━━━━━━━━━━━━━━━━━━━━━\u001B[0m\u001B[91m╸\u001B[0m \u001B[32m69.1/69.1 MB\u001B[0m \u001B[31m216.6 MB/s\u001B[0m eta \u001B[36m0:00:01\u001B[0m\n\u001B[2K   \u001B[91m━━━━━━━━━━━━━━━━━━━━━━━━━━━━━━━━━━━━━━━\u001B[0m\u001B[91m╸\u001B[0m \u001B[32m69.1/69.1 MB\u001B[0m \u001B[31m216.6 MB/s\u001B[0m eta \u001B[36m0:00:01\u001B[0m\n\u001B[2K   \u001B[91m━━━━━━━━━━━━━━━━━━━━━━━━━━━━━━━━━━━━━━━\u001B[0m\u001B[91m╸\u001B[0m \u001B[32m69.1/69.1 MB\u001B[0m \u001B[31m216.6 MB/s\u001B[0m eta \u001B[36m0:00:01\u001B[0m\n\u001B[2K   \u001B[91m━━━━━━━━━━━━━━━━━━━━━━━━━━━━━━━━━━━━━━━\u001B[0m\u001B[91m╸\u001B[0m \u001B[32m69.1/69.1 MB\u001B[0m \u001B[31m216.6 MB/s\u001B[0m eta \u001B[36m0:00:01\u001B[0m\n\u001B[2K   \u001B[91m━━━━━━━━━━━━━━━━━━━━━━━━━━━━━━━━━━━━━━━\u001B[0m\u001B[91m╸\u001B[0m \u001B[32m69.1/69.1 MB\u001B[0m \u001B[31m216.6 MB/s\u001B[0m eta \u001B[36m0:00:01\u001B[0m\n\u001B[2K   \u001B[91m━━━━━━━━━━━━━━━━━━━━━━━━━━━━━━━━━━━━━━━\u001B[0m\u001B[91m╸\u001B[0m \u001B[32m69.1/69.1 MB\u001B[0m \u001B[31m216.6 MB/s\u001B[0m eta \u001B[36m0:00:01\u001B[0m\n\u001B[2K   \u001B[90m━━━━━━━━━━━━━━━━━━━━━━━━━━━━━━━━━━━━━━━━\u001B[0m \u001B[32m69.1/69.1 MB\u001B[0m \u001B[31m15.3 MB/s\u001B[0m eta \u001B[36m0:00:00\u001B[0m\n\u001B[?25hDownloading ml_dtypes-0.5.1-cp311-cp311-manylinux_2_17_x86_64.manylinux2014_x86_64.whl (4.7 MB)\n\u001B[?25l   \u001B[90m━━━━━━━━━━━━━━━━━━━━━━━━━━━━━━━━━━━━━━━━\u001B[0m \u001B[32m0.0/4.7 MB\u001B[0m \u001B[31m?\u001B[0m eta \u001B[36m-:--:--\u001B[0m\n\u001B[2K   \u001B[91m━━━━━━━━━━━━━━━━━━━━━━━━━━━━━━━━━━━━━━━\u001B[0m\u001B[91m╸\u001B[0m \u001B[32m4.7/4.7 MB\u001B[0m \u001B[31m216.3 MB/s\u001B[0m eta \u001B[36m0:00:01\u001B[0m\n\u001B[2K   \u001B[90m━━━━━━━━━━━━━━━━━━━━━━━━━━━━━━━━━━━━━━━━\u001B[0m \u001B[32m4.7/4.7 MB\u001B[0m \u001B[31m90.8 MB/s\u001B[0m eta \u001B[36m0:00:00\u001B[0m\n\u001B[?25hInstalling collected packages: protobuf, numpy, sounddevice, opencv-contrib-python, ml_dtypes, jaxlib, jax, mediapipe\n  Attempting uninstall: protobuf\n    Found existing installation: protobuf 4.24.1\n    Not uninstalling protobuf at /databricks/python3/lib/python3.11/site-packages, outside environment /local_disk0/.ephemeral_nfs/envs/pythonEnv-7142bd67-c037-4c26-8229-c3fa723865ef\n    Can't uninstall 'protobuf'. No files were found to uninstall.\n  Attempting uninstall: numpy\n    Found existing installation: numpy 1.23.5\n    Not uninstalling numpy at /databricks/python3/lib/python3.11/site-packages, outside environment /local_disk0/.ephemeral_nfs/envs/pythonEnv-7142bd67-c037-4c26-8229-c3fa723865ef\n    Can't uninstall 'numpy'. No files were found to uninstall.\n  Attempting uninstall: ml_dtypes\n    Found existing installation: ml-dtypes 0.3.2\n    Not uninstalling ml-dtypes at /databricks/python3/lib/python3.11/site-packages, outside environment /local_disk0/.ephemeral_nfs/envs/pythonEnv-7142bd67-c037-4c26-8229-c3fa723865ef\n    Can't uninstall 'ml-dtypes'. No files were found to uninstall.\n\u001B[31mERROR: pip's dependency resolver does not currently take into account all the packages that are installed. This behaviour is the source of the following dependency conflicts.\npetastorm 0.12.1 requires pyspark>=2.1.0, which is not installed.\nnumba 0.57.1 requires numpy<1.25,>=1.21, but you have numpy 1.26.4 which is incompatible.\ntensorflow 2.16.1 requires ml-dtypes~=0.3.1, but you have ml-dtypes 0.5.1 which is incompatible.\nydata-profiling 4.5.1 requires numpy<1.24,>=1.16.0, but you have numpy 1.26.4 which is incompatible.\u001B[0m\u001B[31m\n\u001B[0mSuccessfully installed jax-0.5.0 jaxlib-0.5.0 mediapipe-0.10.20 ml_dtypes-0.5.1 numpy-1.26.4 opencv-contrib-python-4.11.0.86 protobuf-4.25.6 sounddevice-0.5.1\n\u001B[43mNote: you may need to restart the kernel using %restart_python or dbutils.library.restartPython() to use updated packages.\u001B[0m\nCollecting git+https://github.com/openai/CLIP.git\n  Cloning https://github.com/openai/CLIP.git to /tmp/pip-req-build-sz41u6fs\n  Running command git clone --filter=blob:none --quiet https://github.com/openai/CLIP.git /tmp/pip-req-build-sz41u6fs\n  Resolved https://github.com/openai/CLIP.git to commit dcba3cb2e2827b402d2701e7e1c7d9fed8a20ef1\n  Preparing metadata (setup.py): started\n  Preparing metadata (setup.py): finished with status 'done'\nCollecting ftfy (from clip==1.0)\n  Obtaining dependency information for ftfy from https://files.pythonhosted.org/packages/ab/6e/81d47999aebc1b155f81eca4477a616a70f238a2549848c38983f3c22a82/ftfy-6.3.1-py3-none-any.whl.metadata\n  Downloading ftfy-6.3.1-py3-none-any.whl.metadata (7.3 kB)\nRequirement already satisfied: packaging in /databricks/python3/lib/python3.11/site-packages (from clip==1.0) (23.2)\nRequirement already satisfied: regex in /databricks/python3/lib/python3.11/site-packages (from clip==1.0) (2022.7.9)\nRequirement already satisfied: tqdm in /databricks/python3/lib/python3.11/site-packages (from clip==1.0) (4.65.0)\nRequirement already satisfied: torch in /databricks/python3/lib/python3.11/site-packages (from clip==1.0) (2.3.1+cpu)\nRequirement already satisfied: torchvision in /databricks/python3/lib/python3.11/site-packages (from clip==1.0) (0.18.1+cpu)\nRequirement already satisfied: wcwidth in /databricks/python3/lib/python3.11/site-packages (from ftfy->clip==1.0) (0.2.5)\nRequirement already satisfied: filelock in /databricks/python3/lib/python3.11/site-packages (from torch->clip==1.0) (3.13.4)\nRequirement already satisfied: typing-extensions>=4.8.0 in /databricks/python3/lib/python3.11/site-packages (from torch->clip==1.0) (4.10.0)\nRequirement already satisfied: sympy in /databricks/python3/lib/python3.11/site-packages (from torch->clip==1.0) (1.11.1)\nRequirement already satisfied: networkx in /databricks/python3/lib/python3.11/site-packages (from torch->clip==1.0) (3.1)\nRequirement already satisfied: jinja2 in /databricks/python3/lib/python3.11/site-packages (from torch->clip==1.0) (3.1.2)\nRequirement already satisfied: fsspec in /databricks/python3/lib/python3.11/site-packages (from torch->clip==1.0) (2023.5.0)\nRequirement already satisfied: numpy in /local_disk0/.ephemeral_nfs/envs/pythonEnv-7142bd67-c037-4c26-8229-c3fa723865ef/lib/python3.11/site-packages (from torchvision->clip==1.0) (1.26.4)\nRequirement already satisfied: pillow!=8.3.*,>=5.3.0 in /databricks/python3/lib/python3.11/site-packages (from torchvision->clip==1.0) (9.4.0)\nRequirement already satisfied: MarkupSafe>=2.0 in /databricks/python3/lib/python3.11/site-packages (from jinja2->torch->clip==1.0) (2.1.1)\nRequirement already satisfied: mpmath>=0.19 in /databricks/python3/lib/python3.11/site-packages (from sympy->torch->clip==1.0) (1.3.0)\nDownloading ftfy-6.3.1-py3-none-any.whl (44 kB)\n\u001B[?25l   \u001B[90m━━━━━━━━━━━━━━━━━━━━━━━━━━━━━━━━━━━━━━━━\u001B[0m \u001B[32m0.0/44.8 kB\u001B[0m \u001B[31m?\u001B[0m eta \u001B[36m-:--:--\u001B[0m\n\u001B[2K   \u001B[90m━━━━━━━━━━━━━━━━━━━━━━━━━━━━━━━━━━━━━━━━\u001B[0m \u001B[32m44.8/44.8 kB\u001B[0m \u001B[31m2.0 MB/s\u001B[0m eta \u001B[36m0:00:00\u001B[0m\n\u001B[?25hBuilding wheels for collected packages: clip\n  Building wheel for clip (setup.py): started\n  Building wheel for clip (setup.py): finished with status 'done'\n  Created wheel for clip: filename=clip-1.0-py3-none-any.whl size=1369490 sha256=3096d79a5c0a30e14106c3d9a290c263bbca528fc5e609e456e8aedb5e1efa7a\n  Stored in directory: /tmp/pip-ephem-wheel-cache-67t_uqcm/wheels/3f/7c/a4/9b490845988bf7a4db33674d52f709f088f64392063872eb9a\nSuccessfully built clip\nInstalling collected packages: ftfy, clip\nSuccessfully installed clip-1.0 ftfy-6.3.1\n\u001B[43mNote: you may need to restart the kernel using %restart_python or dbutils.library.restartPython() to use updated packages.\u001B[0m\nCollecting dlib\n  Downloading dlib-19.24.6.tar.gz (3.4 MB)\n\u001B[?25l     \u001B[90m━━━━━━━━━━━━━━━━━━━━━━━━━━━━━━━━━━━━━━━━\u001B[0m \u001B[32m0.0/3.4 MB\u001B[0m \u001B[31m?\u001B[0m eta \u001B[36m-:--:--\u001B[0m\n\u001B[2K     \u001B[91m━━━━━━━\u001B[0m\u001B[90m╺\u001B[0m\u001B[90m━━━━━━━━━━━━━━━━━━━━━━━━━━━━━━━━\u001B[0m \u001B[32m0.6/3.4 MB\u001B[0m \u001B[31m18.0 MB/s\u001B[0m eta \u001B[36m0:00:01\u001B[0m\n\u001B[2K     \u001B[91m━━━━━━━━━━━━━━━━━━━━━━━━━━━━━━━━━━━━━━━\u001B[0m\u001B[91m╸\u001B[0m \u001B[32m3.4/3.4 MB\u001B[0m \u001B[31m66.4 MB/s\u001B[0m eta \u001B[36m0:00:01\u001B[0m\n\u001B[2K     \u001B[90m━━━━━━━━━━━━━━━━━━━━━━━━━━━━━━━━━━━━━━━━\u001B[0m \u001B[32m3.4/3.4 MB\u001B[0m \u001B[31m44.9 MB/s\u001B[0m eta \u001B[36m0:00:00\u001B[0m\n\u001B[?25h  Preparing metadata (setup.py): started\n  Preparing metadata (setup.py): finished with status 'done'\nBuilding wheels for collected packages: dlib\n  Building wheel for dlib (setup.py): started\n  Building wheel for dlib (setup.py): still running...\n  Building wheel for dlib (setup.py): still running...\n  Building wheel for dlib (setup.py): still running...\n  Building wheel for dlib (setup.py): finished with status 'done'\n  Created wheel for dlib: filename=dlib-19.24.6-cp311-cp311-linux_x86_64.whl size=4089497 sha256=09224f79f5fa3e39743a376d912b5d8434f35c00a5ade318b663f570436a3e6d\n  Stored in directory: /root/.cache/pip/wheels/fe/c7/1f/c778b9f7cc6d8d0da4f6697f619f9eb5a49d54d2a2c8267f3c\nSuccessfully built dlib\nInstalling collected packages: dlib\nSuccessfully installed dlib-19.24.6\n\u001B[43mNote: you may need to restart the kernel using %restart_python or dbutils.library.restartPython() to use updated packages.\u001B[0m\nCollecting protobuf==3.20.3\n  Obtaining dependency information for protobuf==3.20.3 from https://files.pythonhosted.org/packages/8d/14/619e24a4c70df2901e1f4dbc50a6291eb63a759172558df326347dce1f0d/protobuf-3.20.3-py2.py3-none-any.whl.metadata\n  Downloading protobuf-3.20.3-py2.py3-none-any.whl.metadata (720 bytes)\nDownloading protobuf-3.20.3-py2.py3-none-any.whl (162 kB)\n\u001B[?25l   \u001B[90m━━━━━━━━━━━━━━━━━━━━━━━━━━━━━━━━━━━━━━━━\u001B[0m \u001B[32m0.0/162.1 kB\u001B[0m \u001B[31m?\u001B[0m eta \u001B[36m-:--:--\u001B[0m\n\u001B[2K   \u001B[90m━━━━━━━━━━━━━━━━━━━━━━━━━━━━━━━━━━━━━━━━\u001B[0m \u001B[32m162.1/162.1 kB\u001B[0m \u001B[31m5.0 MB/s\u001B[0m eta \u001B[36m0:00:00\u001B[0m\n\u001B[?25hInstalling collected packages: protobuf\n  Attempting uninstall: protobuf\n    Found existing installation: protobuf 4.25.6\n    Uninstalling protobuf-4.25.6:\n      Successfully uninstalled protobuf-4.25.6\n\u001B[31mERROR: pip's dependency resolver does not currently take into account all the packages that are installed. This behaviour is the source of the following dependency conflicts.\nmediapipe 0.10.20 requires protobuf<5,>=4.25.3, but you have protobuf 3.20.3 which is incompatible.\ngrpcio-status 1.60.0 requires protobuf>=4.21.6, but you have protobuf 3.20.3 which is incompatible.\ntensorflow 2.16.1 requires ml-dtypes~=0.3.1, but you have ml-dtypes 0.5.1 which is incompatible.\u001B[0m\u001B[31m\n\u001B[0mSuccessfully installed protobuf-3.20.3\n\u001B[43mNote: you may need to restart the kernel using %restart_python or dbutils.library.restartPython() to use updated packages.\u001B[0m\nCollecting pytorch_tabnet\n  Obtaining dependency information for pytorch_tabnet from https://files.pythonhosted.org/packages/0f/92/ed98b89b7cf5661656daa4cc88e578f712eb5eae41b8f46a56c1ece3a895/pytorch_tabnet-4.1.0-py3-none-any.whl.metadata\n  Downloading pytorch_tabnet-4.1.0-py3-none-any.whl.metadata (15 kB)\nRequirement already satisfied: numpy>=1.17 in /local_disk0/.ephemeral_nfs/envs/pythonEnv-7142bd67-c037-4c26-8229-c3fa723865ef/lib/python3.11/site-packages (from pytorch_tabnet) (1.26.4)\nRequirement already satisfied: scikit_learn>0.21 in /databricks/python3/lib/python3.11/site-packages (from pytorch_tabnet) (1.3.0)\nRequirement already satisfied: scipy>1.4 in /databricks/python3/lib/python3.11/site-packages (from pytorch_tabnet) (1.11.1)\nRequirement already satisfied: torch>=1.3 in /databricks/python3/lib/python3.11/site-packages (from pytorch_tabnet) (2.3.1+cpu)\nRequirement already satisfied: tqdm>=4.36 in /databricks/python3/lib/python3.11/site-packages (from pytorch_tabnet) (4.65.0)\nRequirement already satisfied: joblib>=1.1.1 in /databricks/python3/lib/python3.11/site-packages (from scikit_learn>0.21->pytorch_tabnet) (1.2.0)\nRequirement already satisfied: threadpoolctl>=2.0.0 in /databricks/python3/lib/python3.11/site-packages (from scikit_learn>0.21->pytorch_tabnet) (2.2.0)\nRequirement already satisfied: filelock in /databricks/python3/lib/python3.11/site-packages (from torch>=1.3->pytorch_tabnet) (3.13.4)\nRequirement already satisfied: typing-extensions>=4.8.0 in /databricks/python3/lib/python3.11/site-packages (from torch>=1.3->pytorch_tabnet) (4.10.0)\nRequirement already satisfied: sympy in /databricks/python3/lib/python3.11/site-packages (from torch>=1.3->pytorch_tabnet) (1.11.1)\nRequirement already satisfied: networkx in /databricks/python3/lib/python3.11/site-packages (from torch>=1.3->pytorch_tabnet) (3.1)\nRequirement already satisfied: jinja2 in /databricks/python3/lib/python3.11/site-packages (from torch>=1.3->pytorch_tabnet) (3.1.2)\nRequirement already satisfied: fsspec in /databricks/python3/lib/python3.11/site-packages (from torch>=1.3->pytorch_tabnet) (2023.5.0)\nRequirement already satisfied: MarkupSafe>=2.0 in /databricks/python3/lib/python3.11/site-packages (from jinja2->torch>=1.3->pytorch_tabnet) (2.1.1)\nRequirement already satisfied: mpmath>=0.19 in /databricks/python3/lib/python3.11/site-packages (from sympy->torch>=1.3->pytorch_tabnet) (1.3.0)\nDownloading pytorch_tabnet-4.1.0-py3-none-any.whl (44 kB)\n\u001B[?25l   \u001B[90m━━━━━━━━━━━━━━━━━━━━━━━━━━━━━━━━━━━━━━━━\u001B[0m \u001B[32m0.0/44.5 kB\u001B[0m \u001B[31m?\u001B[0m eta \u001B[36m-:--:--\u001B[0m\n\u001B[2K   \u001B[90m━━━━━━━━━━━━━━━━━━━━━━━━━━━━━━━━━━━━━━━━\u001B[0m \u001B[32m44.5/44.5 kB\u001B[0m \u001B[31m2.0 MB/s\u001B[0m eta \u001B[36m0:00:00\u001B[0m\n\u001B[?25hInstalling collected packages: pytorch_tabnet\nSuccessfully installed pytorch_tabnet-4.1.0\n\u001B[43mNote: you may need to restart the kernel using %restart_python or dbutils.library.restartPython() to use updated packages.\u001B[0m\n"
     ]
    }
   ],
   "source": [
    "!pip install mediapipe\n",
    "!pip install git+https://github.com/openai/CLIP.git\n",
    "!pip install dlib\n",
    "!pip install protobuf==3.20.3\n",
    "!pip install pytorch_tabnet\n"
   ]
  },
  {
   "cell_type": "code",
   "execution_count": 0,
   "metadata": {
    "application/vnd.databricks.v1+cell": {
     "cellMetadata": {
      "byteLimit": 2048000,
      "rowLimit": 10000
     },
     "inputWidgets": {},
     "nuid": "a748a6c5-db7d-40e8-a040-8b08c728ef2e",
     "showTitle": false,
     "tableResultSettingsMap": {},
     "title": ""
    }
   },
   "outputs": [
    {
     "output_type": "stream",
     "name": "stdout",
     "output_type": "stream",
     "text": [
      "Spark session started successfully.\n"
     ]
    }
   ],
   "source": [
    "from pyspark.sql import SparkSession\n",
    "\n",
    "# Start Spark Session\n",
    "spark = SparkSession.builder \\\n",
    "    .appName(\"PySparkWithExternalPackages\") \\\n",
    "    .config(\"spark.executorEnv.PYTHONPATH\", \"/usr/local/lib/python3.10/dist-packages\") \\\n",
    "    .config(\"spark.pyspark.python\", \"python3\") \\\n",
    "    .config(\"spark.pyspark.driver.python\", \"python3\") \\\n",
    "    .getOrCreate()\n",
    "\n",
    "print(\"Spark session started successfully.\")\n"
   ]
  },
  {
   "cell_type": "code",
   "execution_count": 0,
   "metadata": {
    "application/vnd.databricks.v1+cell": {
     "cellMetadata": {
      "byteLimit": 2048000,
      "rowLimit": 10000
     },
     "inputWidgets": {},
     "nuid": "d966a1f8-d4f2-4363-a6f7-3aad5d1a53af",
     "showTitle": false,
     "tableResultSettingsMap": {},
     "title": ""
    }
   },
   "outputs": [
    {
     "output_type": "stream",
     "name": "stderr",
     "output_type": "stream",
     "text": [
      "2025-01-28 21:59:11.032662: I external/local_tsl/tsl/cuda/cudart_stub.cc:32] Could not find cuda drivers on your machine, GPU will not be used.\n2025-01-28 21:59:11.110758: I external/local_tsl/tsl/cuda/cudart_stub.cc:32] Could not find cuda drivers on your machine, GPU will not be used.\n2025-01-28 21:59:11.435337: I tensorflow/core/platform/cpu_feature_guard.cc:210] This TensorFlow binary is optimized to use available CPU instructions in performance-critical operations.\nTo enable the following instructions: AVX2 AVX512F FMA, in other operations, rebuild TensorFlow with the appropriate compiler flags.\n2025-01-28 21:59:15.523730: W tensorflow/compiler/tf2tensorrt/utils/py_utils.cc:38] TF-TRT Warning: Could not find TensorRT\n"
     ]
    }
   ],
   "source": [
    "import os\n",
    "import shutil\n",
    "import torch\n",
    "import pandas as pd\n",
    "import numpy as np\n",
    "import matplotlib.pyplot as plt\n",
    "import seaborn as sns\n",
    "from PIL import Image, UnidentifiedImageError\n",
    "from sklearn.preprocessing import LabelEncoder\n",
    "from sklearn.model_selection import train_test_split\n",
    "from sklearn.metrics import mean_squared_error, r2_score, mean_absolute_error\n",
    "from transformers import CLIPProcessor, CLIPModel\n",
    "from torchvision import transforms\n",
    "from IPython.display import FileLink, HTML\n",
    "import logging\n",
    "import requests\n",
    "from io import BytesIO\n",
    "import cv2\n",
    "import dlib\n",
    "import mediapipe\n",
    "import math\n",
    "import torch\n",
    "import clip\n",
    "\n"
   ]
  },
  {
   "cell_type": "code",
   "execution_count": 0,
   "metadata": {
    "application/vnd.databricks.v1+cell": {
     "cellMetadata": {
      "byteLimit": 2048000,
      "rowLimit": 10000
     },
     "inputWidgets": {},
     "nuid": "55fefa3a-90af-48dd-b809-12c95593be1c",
     "showTitle": false,
     "tableResultSettingsMap": {},
     "title": ""
    }
   },
   "outputs": [],
   "source": [
    "#Load the data set\n",
    "union_df_path = \"/dbfs/FileStore/Data_NotNorm__1_.csv\"\n",
    "# Reading CSV files into DataFrames\n",
    "union_df = pd.read_csv(union_df_path)"
   ]
  },
  {
   "cell_type": "code",
   "execution_count": 0,
   "metadata": {
    "application/vnd.databricks.v1+cell": {
     "cellMetadata": {
      "byteLimit": 2048000,
      "rowLimit": 10000
     },
     "inputWidgets": {},
     "nuid": "f26395c5-3324-48e0-832c-b3e15b9df669",
     "showTitle": false,
     "tableResultSettingsMap": {},
     "title": ""
    }
   },
   "outputs": [
    {
     "output_type": "stream",
     "name": "stdout",
     "output_type": "stream",
     "text": [
      "Index(['smile', 'wear professional Attire', 'use clean background',\n       'look serious', 'show your face clearly', 'use formal expression',\n       'wear suit', 'look confidence', 'look approachability',\n       'don't look emotional', 'crop the picture', 'avoid noise or artifacts',\n       'use positive atmosphere', 'use corporate environment',\n       'look trustworthiness', 'be energetic', 'look distinctive', 'look calm',\n       'fix your hair', 'show your face more', 'show your body more',\n       'put your face horizontally in the center',\n       'put your face vertically in the center', 'don't tilt your head',\n       'use eye contact', 'use high resolution', 'use good lighting',\n       'use color harmony in the pic', 'use lighting quality', 'LABEL'],\n      dtype='object')\n"
     ]
    }
   ],
   "source": [
    "# עדכון הערכים בעמודה \"tilt your head\" כך שהערך החדש יהיה הערך הנוכחי פחות 1\n",
    "union_df[\"tilt your head\"] = 1 - union_df[\"tilt your head\"] \n",
    "\n",
    "# שינוי שם העמודה כך שהיא תתחיל ב\"DONT\"\n",
    "union_df.rename(columns={\"tilt your head\": \"don't tilt your head\"}, inplace=True)\n",
    "\n",
    "print(union_df.columns)"
   ]
  },
  {
   "cell_type": "code",
   "execution_count": 0,
   "metadata": {
    "application/vnd.databricks.v1+cell": {
     "cellMetadata": {
      "byteLimit": 2048000,
      "rowLimit": 10000
     },
     "inputWidgets": {},
     "nuid": "88c5090b-8367-4c86-b54b-c5dad02362e9",
     "showTitle": false,
     "tableResultSettingsMap": {},
     "title": ""
    }
   },
   "outputs": [],
   "source": [
    "from sklearn.preprocessing import LabelEncoder\n",
    "import torch\n",
    "import torch.nn as nn\n",
    "import torch.optim as optim\n",
    "from sklearn.model_selection import train_test_split\n",
    "import pandas as pd"
   ]
  },
  {
   "cell_type": "code",
   "execution_count": 0,
   "metadata": {
    "application/vnd.databricks.v1+cell": {
     "cellMetadata": {
      "byteLimit": 2048000,
      "rowLimit": 10000
     },
     "inputWidgets": {},
     "nuid": "8bd5cd81-6a9f-4624-931f-027b45121453",
     "showTitle": false,
     "tableResultSettingsMap": {},
     "title": ""
    }
   },
   "outputs": [],
   "source": [
    "# Define a Residual Block class\n",
    "class ResidualBlock(nn.Module):\n",
    "    def __init__(self, input_channels, output_channels, kernel_size=3, stride=1, padding=1):\n",
    "        super(ResidualBlock, self).__init__()\n",
    "        # Define the layers for the residual block\n",
    "        self.conv1 = nn.Conv1d(input_channels, output_channels, kernel_size, stride, padding)\n",
    "        self.bn1 = nn.BatchNorm1d(output_channels)\n",
    "        self.relu = nn.ReLU()\n",
    "\n",
    "        self.conv2 = nn.Conv1d(output_channels, output_channels, kernel_size, stride, padding)\n",
    "        self.bn2 = nn.BatchNorm1d(output_channels)\n",
    "\n",
    "        self.conv3 = nn.Conv1d(output_channels, output_channels, kernel_size, stride, padding)\n",
    "        self.bn3 = nn.BatchNorm1d(output_channels)\n",
    "\n",
    "        # Define a downsample layer if the number of channels changes\n",
    "        self.downsample = nn.Conv1d(input_channels, output_channels, kernel_size=1, stride=1) \\\n",
    "            if input_channels != output_channels else None\n",
    "\n",
    "    def forward(self, x):\n",
    "        # Save the input for the residual connection\n",
    "        identity = x\n",
    "        if self.downsample:\n",
    "            identity = self.downsample(x)\n",
    "\n",
    "        # Pass through the layers\n",
    "        out = self.conv1(x)\n",
    "        out = self.bn1(out)\n",
    "        out = self.relu(out)\n",
    "\n",
    "        out = self.conv2(out)\n",
    "        out = self.bn2(out)\n",
    "        out = self.relu(out)\n",
    "\n",
    "        out = self.conv3(out)\n",
    "        out = self.bn3(out)\n",
    "\n",
    "        # Add the residual connection\n",
    "        out += identity\n",
    "        out = self.relu(out)\n",
    "        return out\n",
    "\n",
    "# Define the main model class\n",
    "class LinkedInScorePredictor(nn.Module):\n",
    "    def __init__(self, input_dim):\n",
    "        super(LinkedInScorePredictor, self).__init__()\n",
    "        self.input_dim = input_dim\n",
    "\n",
    "        # Initial convolutional layer\n",
    "        self.initial_conv = nn.Conv1d(1, 16, kernel_size=3, stride=1, padding=1)\n",
    "        self.initial_bn = nn.BatchNorm1d(16)\n",
    "        self.initial_relu = nn.ReLU()\n",
    "\n",
    "        # Two residual blocks\n",
    "        self.res_block1 = ResidualBlock(16, 32)\n",
    "        self.res_block2 = ResidualBlock(32, 64)\n",
    "\n",
    "        # Global pooling to reduce feature dimensions\n",
    "        self.global_pool = nn.AdaptiveAvgPool1d(1)\n",
    "\n",
    "        # Fully connected layers for final predictions\n",
    "        self.fc_layers = nn.Sequential(\n",
    "            nn.Linear(64, 128),\n",
    "            nn.ReLU(),\n",
    "            nn.Dropout(0.3),\n",
    "            nn.Linear(128, 64),\n",
    "            nn.ReLU(),\n",
    "            nn.Dropout(0.3),\n",
    "            nn.Linear(64, 1)  # Final output for predicting score\n",
    "        )\n",
    "\n",
    "    def forward(self, x):\n",
    "        # Add a channel dimension for Conv1D\n",
    "        x = x.unsqueeze(1)\n",
    "\n",
    "        # Pass through initial convolutional layer\n",
    "        x = self.initial_conv(x)\n",
    "        x = self.initial_bn(x)\n",
    "        x = self.initial_relu(x)\n",
    "\n",
    "        # Pass through the residual blocks\n",
    "        x = self.res_block1(x)\n",
    "        x = self.res_block2(x)\n",
    "\n",
    "        # Apply global pooling\n",
    "        x = self.global_pool(x)\n",
    "        x = x.view(x.size(0), -1)  # Flatten\n",
    "\n",
    "        # Pass through fully connected layers\n",
    "        x = self.fc_layers(x)\n",
    "        return x\n"
   ]
  },
  {
   "cell_type": "code",
   "execution_count": 0,
   "metadata": {
    "application/vnd.databricks.v1+cell": {
     "cellMetadata": {
      "byteLimit": 2048000,
      "rowLimit": 10000
     },
     "inputWidgets": {},
     "nuid": "44784231-877e-4adf-b132-bcd64da49ecb",
     "showTitle": false,
     "tableResultSettingsMap": {},
     "title": ""
    }
   },
   "outputs": [],
   "source": [
    "import os\n",
    "from pyspark.sql import SparkSession\n",
    "from pyspark.sql.functions import lit\n",
    "from pyspark.sql.functions import udf\n",
    "from pyspark.sql.types import DoubleType, StringType\n",
    "from transformers import pipeline\n",
    "from PIL import Image\n",
    "import numpy as np\n",
    "import tensorflow as tf\n",
    "from tensorflow.keras.models import Model\n",
    "from tensorflow.keras.applications import MobileNet\n",
    "from tensorflow.keras.layers import Dense, GlobalAveragePooling2D\n"
   ]
  },
  {
   "cell_type": "code",
   "execution_count": 0,
   "metadata": {
    "application/vnd.databricks.v1+cell": {
     "cellMetadata": {
      "byteLimit": 2048000,
      "rowLimit": 10000
     },
     "inputWidgets": {},
     "nuid": "af21d878-bc5c-4517-8eb6-66aa99c4f193",
     "showTitle": false,
     "tableResultSettingsMap": {},
     "title": ""
    }
   },
   "outputs": [
    {
     "output_type": "stream",
     "name": "stdout",
     "output_type": "stream",
     "text": [
      "Collecting opencv-python-headless\n  Obtaining dependency information for opencv-python-headless from https://files.pythonhosted.org/packages/dd/5c/c139a7876099916879609372bfa513b7f1257f7f1a908b0bdc1c2328241b/opencv_python_headless-4.11.0.86-cp37-abi3-manylinux_2_17_x86_64.manylinux2014_x86_64.whl.metadata\n  Downloading opencv_python_headless-4.11.0.86-cp37-abi3-manylinux_2_17_x86_64.manylinux2014_x86_64.whl.metadata (20 kB)\nRequirement already satisfied: mediapipe in /local_disk0/.ephemeral_nfs/envs/pythonEnv-7142bd67-c037-4c26-8229-c3fa723865ef/lib/python3.11/site-packages (0.10.20)\nRequirement already satisfied: numpy>=1.21.2 in /local_disk0/.ephemeral_nfs/envs/pythonEnv-7142bd67-c037-4c26-8229-c3fa723865ef/lib/python3.11/site-packages (from opencv-python-headless) (1.26.4)\nRequirement already satisfied: absl-py in /databricks/python3/lib/python3.11/site-packages (from mediapipe) (1.0.0)\nRequirement already satisfied: attrs>=19.1.0 in /databricks/python3/lib/python3.11/site-packages (from mediapipe) (22.1.0)\nRequirement already satisfied: flatbuffers>=2.0 in /databricks/python3/lib/python3.11/site-packages (from mediapipe) (24.3.25)\nRequirement already satisfied: jax in /local_disk0/.ephemeral_nfs/envs/pythonEnv-7142bd67-c037-4c26-8229-c3fa723865ef/lib/python3.11/site-packages (from mediapipe) (0.5.0)\nRequirement already satisfied: jaxlib in /local_disk0/.ephemeral_nfs/envs/pythonEnv-7142bd67-c037-4c26-8229-c3fa723865ef/lib/python3.11/site-packages (from mediapipe) (0.5.0)\nRequirement already satisfied: matplotlib in /databricks/python3/lib/python3.11/site-packages (from mediapipe) (3.7.2)\nRequirement already satisfied: opencv-contrib-python in /local_disk0/.ephemeral_nfs/envs/pythonEnv-7142bd67-c037-4c26-8229-c3fa723865ef/lib/python3.11/site-packages (from mediapipe) (4.11.0.86)\nCollecting protobuf<5,>=4.25.3 (from mediapipe)\n  Obtaining dependency information for protobuf<5,>=4.25.3 from https://files.pythonhosted.org/packages/d4/f0/6d5c100f6b18d973e86646aa5fc09bc12ee88a28684a56fd95511bceee68/protobuf-4.25.6-cp37-abi3-manylinux2014_x86_64.whl.metadata\n  Using cached protobuf-4.25.6-cp37-abi3-manylinux2014_x86_64.whl.metadata (541 bytes)\nRequirement already satisfied: sounddevice>=0.4.4 in /local_disk0/.ephemeral_nfs/envs/pythonEnv-7142bd67-c037-4c26-8229-c3fa723865ef/lib/python3.11/site-packages (from mediapipe) (0.5.1)\nRequirement already satisfied: sentencepiece in /databricks/python3/lib/python3.11/site-packages (from mediapipe) (0.1.99)\nRequirement already satisfied: CFFI>=1.0 in /databricks/python3/lib/python3.11/site-packages (from sounddevice>=0.4.4->mediapipe) (1.15.1)\nRequirement already satisfied: six in /usr/lib/python3/dist-packages (from absl-py->mediapipe) (1.16.0)\nRequirement already satisfied: ml_dtypes>=0.4.0 in /local_disk0/.ephemeral_nfs/envs/pythonEnv-7142bd67-c037-4c26-8229-c3fa723865ef/lib/python3.11/site-packages (from jax->mediapipe) (0.5.1)\nRequirement already satisfied: opt_einsum in /databricks/python3/lib/python3.11/site-packages (from jax->mediapipe) (3.3.0)\nRequirement already satisfied: scipy>=1.11.1 in /databricks/python3/lib/python3.11/site-packages (from jax->mediapipe) (1.11.1)\nRequirement already satisfied: contourpy>=1.0.1 in /databricks/python3/lib/python3.11/site-packages (from matplotlib->mediapipe) (1.0.5)\nRequirement already satisfied: cycler>=0.10 in /databricks/python3/lib/python3.11/site-packages (from matplotlib->mediapipe) (0.11.0)\nRequirement already satisfied: fonttools>=4.22.0 in /databricks/python3/lib/python3.11/site-packages (from matplotlib->mediapipe) (4.25.0)\nRequirement already satisfied: kiwisolver>=1.0.1 in /databricks/python3/lib/python3.11/site-packages (from matplotlib->mediapipe) (1.4.4)\nRequirement already satisfied: packaging>=20.0 in /databricks/python3/lib/python3.11/site-packages (from matplotlib->mediapipe) (23.2)\nRequirement already satisfied: pillow>=6.2.0 in /databricks/python3/lib/python3.11/site-packages (from matplotlib->mediapipe) (9.4.0)\nRequirement already satisfied: pyparsing<3.1,>=2.3.1 in /databricks/python3/lib/python3.11/site-packages (from matplotlib->mediapipe) (3.0.9)\nRequirement already satisfied: python-dateutil>=2.7 in /databricks/python3/lib/python3.11/site-packages (from matplotlib->mediapipe) (2.8.2)\nRequirement already satisfied: pycparser in /databricks/python3/lib/python3.11/site-packages (from CFFI>=1.0->sounddevice>=0.4.4->mediapipe) (2.21)\nDownloading opencv_python_headless-4.11.0.86-cp37-abi3-manylinux_2_17_x86_64.manylinux2014_x86_64.whl (50.0 MB)\n\u001B[?25l   \u001B[90m━━━━━━━━━━━━━━━━━━━━━━━━━━━━━━━━━━━━━━━━\u001B[0m \u001B[32m0.0/50.0 MB\u001B[0m \u001B[31m?\u001B[0m eta \u001B[36m-:--:--\u001B[0m\n\u001B[2K   \u001B[91m╸\u001B[0m\u001B[90m━━━━━━━━━━━━━━━━━━━━━━━━━━━━━━━━━━━━━━━\u001B[0m \u001B[32m1.0/50.0 MB\u001B[0m \u001B[31m31.2 MB/s\u001B[0m eta \u001B[36m0:00:02\u001B[0m\n\u001B[2K   \u001B[91m━━━━━\u001B[0m\u001B[91m╸\u001B[0m\u001B[90m━━━━━━━━━━━━━━━━━━━━━━━━━━━━━━━━━━\u001B[0m \u001B[32m7.4/50.0 MB\u001B[0m \u001B[31m107.9 MB/s\u001B[0m eta \u001B[36m0:00:01\u001B[0m\n\u001B[2K   \u001B[91m━━━━━━━━━━\u001B[0m\u001B[90m╺\u001B[0m\u001B[90m━━━━━━━━━━━━━━━━━━━━━━━━━━━━━\u001B[0m \u001B[32m12.9/50.0 MB\u001B[0m \u001B[31m168.3 MB/s\u001B[0m eta \u001B[36m0:00:01\u001B[0m\n\u001B[2K   \u001B[91m━━━━━━━━━━━━━━\u001B[0m\u001B[90m╺\u001B[0m\u001B[90m━━━━━━━━━━━━━━━━━━━━━━━━━\u001B[0m \u001B[32m17.6/50.0 MB\u001B[0m \u001B[31m144.5 MB/s\u001B[0m eta \u001B[36m0:00:01\u001B[0m\n\u001B[2K   \u001B[91m━━━━━━━━━━━━━━━━━\u001B[0m\u001B[91m╸\u001B[0m\u001B[90m━━━━━━━━━━━━━━━━━━━━━━\u001B[0m \u001B[32m22.1/50.0 MB\u001B[0m \u001B[31m135.6 MB/s\u001B[0m eta \u001B[36m0:00:01\u001B[0m\n\u001B[2K   \u001B[91m━━━━━━━━━━━━━━━━━━━━━\u001B[0m\u001B[90m╺\u001B[0m\u001B[90m━━━━━━━━━━━━━━━━━━\u001B[0m \u001B[32m26.5/50.0 MB\u001B[0m \u001B[31m116.5 MB/s\u001B[0m eta \u001B[36m0:00:01\u001B[0m\n\u001B[2K   \u001B[91m━━━━━━━━━━━━━━━━━━━━━━━━━\u001B[0m\u001B[90m╺\u001B[0m\u001B[90m━━━━━━━━━━━━━━\u001B[0m \u001B[32m31.5/50.0 MB\u001B[0m \u001B[31m126.3 MB/s\u001B[0m eta \u001B[36m0:00:01\u001B[0m\n\u001B[2K   \u001B[91m━━━━━━━━━━━━━━━━━━━━━━━━━━━━━\u001B[0m\u001B[90m╺\u001B[0m\u001B[90m━━━━━━━━━━\u001B[0m \u001B[32m36.4/50.0 MB\u001B[0m \u001B[31m142.6 MB/s\u001B[0m eta \u001B[36m0:00:01\u001B[0m\n\u001B[2K   \u001B[91m━━━━━━━━━━━━━━━━━━━━━━━━━━━━━━━━━━\u001B[0m\u001B[90m╺\u001B[0m\u001B[90m━━━━━\u001B[0m \u001B[32m42.8/50.0 MB\u001B[0m \u001B[31m153.7 MB/s\u001B[0m eta \u001B[36m0:00:01\u001B[0m\n\u001B[2K   \u001B[91m━━━━━━━━━━━━━━━━━━━━━━━━━━━━━━━━━━━━━━━\u001B[0m\u001B[91m╸\u001B[0m \u001B[32m50.0/50.0 MB\u001B[0m \u001B[31m191.3 MB/s\u001B[0m eta \u001B[36m0:00:01\u001B[0m\n\u001B[2K   \u001B[91m━━━━━━━━━━━━━━━━━━━━━━━━━━━━━━━━━━━━━━━\u001B[0m\u001B[91m╸\u001B[0m \u001B[32m50.0/50.0 MB\u001B[0m \u001B[31m191.3 MB/s\u001B[0m eta \u001B[36m0:00:01\u001B[0m\n\u001B[2K   \u001B[91m━━━━━━━━━━━━━━━━━━━━━━━━━━━━━━━━━━━━━━━\u001B[0m\u001B[91m╸\u001B[0m \u001B[32m50.0/50.0 MB\u001B[0m \u001B[31m191.3 MB/s\u001B[0m eta \u001B[36m0:00:01\u001B[0m\n\u001B[2K   \u001B[91m━━━━━━━━━━━━━━━━━━━━━━━━━━━━━━━━━━━━━━━\u001B[0m\u001B[91m╸\u001B[0m \u001B[32m50.0/50.0 MB\u001B[0m \u001B[31m191.3 MB/s\u001B[0m eta \u001B[36m0:00:01\u001B[0m\n\u001B[2K   \u001B[91m━━━━━━━━━━━━━━━━━━━━━━━━━━━━━━━━━━━━━━━\u001B[0m\u001B[91m╸\u001B[0m \u001B[32m50.0/50.0 MB\u001B[0m \u001B[31m191.3 MB/s\u001B[0m eta \u001B[36m0:00:01\u001B[0m\n\u001B[2K   \u001B[91m━━━━━━━━━━━━━━━━━━━━━━━━━━━━━━━━━━━━━━━\u001B[0m\u001B[91m╸\u001B[0m \u001B[32m50.0/50.0 MB\u001B[0m \u001B[31m191.3 MB/s\u001B[0m eta \u001B[36m0:00:01\u001B[0m\n\u001B[2K   \u001B[91m━━━━━━━━━━━━━━━━━━━━━━━━━━━━━━━━━━━━━━━\u001B[0m\u001B[91m╸\u001B[0m \u001B[32m50.0/50.0 MB\u001B[0m \u001B[31m191.3 MB/s\u001B[0m eta \u001B[36m0:00:01\u001B[0m\n\u001B[2K   \u001B[91m━━━━━━━━━━━━━━━━━━━━━━━━━━━━━━━━━━━━━━━\u001B[0m\u001B[91m╸\u001B[0m \u001B[32m50.0/50.0 MB\u001B[0m \u001B[31m191.3 MB/s\u001B[0m eta \u001B[36m0:00:01\u001B[0m\n\u001B[2K   \u001B[91m━━━━━━━━━━━━━━━━━━━━━━━━━━━━━━━━━━━━━━━\u001B[0m\u001B[91m╸\u001B[0m \u001B[32m50.0/50.0 MB\u001B[0m \u001B[31m191.3 MB/s\u001B[0m eta \u001B[36m0:00:01\u001B[0m\n\u001B[2K   \u001B[91m━━━━━━━━━━━━━━━━━━━━━━━━━━━━━━━━━━━━━━━\u001B[0m\u001B[91m╸\u001B[0m \u001B[32m50.0/50.0 MB\u001B[0m \u001B[31m191.3 MB/s\u001B[0m eta \u001B[36m0:00:01\u001B[0m\n\u001B[2K   \u001B[90m━━━━━━━━━━━━━━━━━━━━━━━━━━━━━━━━━━━━━━━━\u001B[0m \u001B[32m50.0/50.0 MB\u001B[0m \u001B[31m23.5 MB/s\u001B[0m eta \u001B[36m0:00:00\u001B[0m\n\u001B[?25hUsing cached protobuf-4.25.6-cp37-abi3-manylinux2014_x86_64.whl (294 kB)\nInstalling collected packages: protobuf, opencv-python-headless\n  Attempting uninstall: protobuf\n    Found existing installation: protobuf 3.20.3\n    Uninstalling protobuf-3.20.3:\n      Successfully uninstalled protobuf-3.20.3\n\u001B[31mERROR: pip's dependency resolver does not currently take into account all the packages that are installed. This behaviour is the source of the following dependency conflicts.\ntensorflow 2.16.1 requires ml-dtypes~=0.3.1, but you have ml-dtypes 0.5.1 which is incompatible.\u001B[0m\u001B[31m\n\u001B[0mSuccessfully installed opencv-python-headless-4.11.0.86 protobuf-4.25.6\n\u001B[43mNote: you may need to restart the kernel using %restart_python or dbutils.library.restartPython() to use updated packages.\u001B[0m\n"
     ]
    }
   ],
   "source": [
    "# Install the required packages\n",
    "%pip install opencv-python-headless mediapipe"
   ]
  },
  {
   "cell_type": "code",
   "execution_count": 0,
   "metadata": {
    "application/vnd.databricks.v1+cell": {
     "cellMetadata": {
      "byteLimit": 2048000,
      "rowLimit": 10000
     },
     "inputWidgets": {},
     "nuid": "1d989f3c-d0cf-4749-9390-95c8602257bd",
     "showTitle": false,
     "tableResultSettingsMap": {},
     "title": ""
    }
   },
   "outputs": [
    {
     "output_type": "stream",
     "name": "stdout",
     "output_type": "stream",
     "text": [
      "Collecting git+https://github.com/openai/CLIP.git\n  Cloning https://github.com/openai/CLIP.git to /tmp/pip-req-build-zcz191o6\n  Running command git clone --filter=blob:none --quiet https://github.com/openai/CLIP.git /tmp/pip-req-build-zcz191o6\n  Resolved https://github.com/openai/CLIP.git to commit dcba3cb2e2827b402d2701e7e1c7d9fed8a20ef1\n  Preparing metadata (setup.py): started\n  Preparing metadata (setup.py): finished with status 'done'\nRequirement already satisfied: ftfy in /local_disk0/.ephemeral_nfs/envs/pythonEnv-7142bd67-c037-4c26-8229-c3fa723865ef/lib/python3.11/site-packages (from clip==1.0) (6.3.1)\nRequirement already satisfied: packaging in /databricks/python3/lib/python3.11/site-packages (from clip==1.0) (23.2)\nRequirement already satisfied: regex in /databricks/python3/lib/python3.11/site-packages (from clip==1.0) (2022.7.9)\nRequirement already satisfied: tqdm in /databricks/python3/lib/python3.11/site-packages (from clip==1.0) (4.65.0)\nRequirement already satisfied: torch in /databricks/python3/lib/python3.11/site-packages (from clip==1.0) (2.3.1+cpu)\nRequirement already satisfied: torchvision in /databricks/python3/lib/python3.11/site-packages (from clip==1.0) (0.18.1+cpu)\nRequirement already satisfied: wcwidth in /databricks/python3/lib/python3.11/site-packages (from ftfy->clip==1.0) (0.2.5)\nRequirement already satisfied: filelock in /databricks/python3/lib/python3.11/site-packages (from torch->clip==1.0) (3.13.4)\nRequirement already satisfied: typing-extensions>=4.8.0 in /databricks/python3/lib/python3.11/site-packages (from torch->clip==1.0) (4.10.0)\nRequirement already satisfied: sympy in /databricks/python3/lib/python3.11/site-packages (from torch->clip==1.0) (1.11.1)\nRequirement already satisfied: networkx in /databricks/python3/lib/python3.11/site-packages (from torch->clip==1.0) (3.1)\nRequirement already satisfied: jinja2 in /databricks/python3/lib/python3.11/site-packages (from torch->clip==1.0) (3.1.2)\nRequirement already satisfied: fsspec in /databricks/python3/lib/python3.11/site-packages (from torch->clip==1.0) (2023.5.0)\nRequirement already satisfied: numpy in /local_disk0/.ephemeral_nfs/envs/pythonEnv-7142bd67-c037-4c26-8229-c3fa723865ef/lib/python3.11/site-packages (from torchvision->clip==1.0) (1.26.4)\nRequirement already satisfied: pillow!=8.3.*,>=5.3.0 in /databricks/python3/lib/python3.11/site-packages (from torchvision->clip==1.0) (9.4.0)\nRequirement already satisfied: MarkupSafe>=2.0 in /databricks/python3/lib/python3.11/site-packages (from jinja2->torch->clip==1.0) (2.1.1)\nRequirement already satisfied: mpmath>=0.19 in /databricks/python3/lib/python3.11/site-packages (from sympy->torch->clip==1.0) (1.3.0)\n\u001B[43mNote: you may need to restart the kernel using %restart_python or dbutils.library.restartPython() to use updated packages.\u001B[0m\n"
     ]
    }
   ],
   "source": [
    "pip install git+https://github.com/openai/CLIP.git\n"
   ]
  },
  {
   "cell_type": "code",
   "execution_count": 0,
   "metadata": {
    "application/vnd.databricks.v1+cell": {
     "cellMetadata": {
      "byteLimit": 2048000,
      "rowLimit": 10000
     },
     "inputWidgets": {},
     "nuid": "0b4800a3-6781-498f-b545-21e363ed7097",
     "showTitle": false,
     "tableResultSettingsMap": {},
     "title": ""
    }
   },
   "outputs": [
    {
     "output_type": "stream",
     "name": "stdout",
     "output_type": "stream",
     "text": [
      "Requirement already satisfied: torch in /databricks/python3/lib/python3.11/site-packages (2.3.1+cpu)\nRequirement already satisfied: filelock in /databricks/python3/lib/python3.11/site-packages (from torch) (3.13.4)\nRequirement already satisfied: typing-extensions>=4.8.0 in /databricks/python3/lib/python3.11/site-packages (from torch) (4.10.0)\nRequirement already satisfied: sympy in /databricks/python3/lib/python3.11/site-packages (from torch) (1.11.1)\nRequirement already satisfied: networkx in /databricks/python3/lib/python3.11/site-packages (from torch) (3.1)\nRequirement already satisfied: jinja2 in /databricks/python3/lib/python3.11/site-packages (from torch) (3.1.2)\nRequirement already satisfied: fsspec in /databricks/python3/lib/python3.11/site-packages (from torch) (2023.5.0)\nRequirement already satisfied: MarkupSafe>=2.0 in /databricks/python3/lib/python3.11/site-packages (from jinja2->torch) (2.1.1)\nRequirement already satisfied: mpmath>=0.19 in /databricks/python3/lib/python3.11/site-packages (from sympy->torch) (1.3.0)\n\u001B[43mNote: you may need to restart the kernel using %restart_python or dbutils.library.restartPython() to use updated packages.\u001B[0m\n"
     ]
    }
   ],
   "source": [
    "\n",
    "!pip install torch"
   ]
  },
  {
   "cell_type": "code",
   "execution_count": 0,
   "metadata": {
    "application/vnd.databricks.v1+cell": {
     "cellMetadata": {
      "byteLimit": 2048000,
      "rowLimit": 10000
     },
     "inputWidgets": {},
     "nuid": "02ba39f2-9e95-4b40-bf7d-a2496bcbe2a9",
     "showTitle": false,
     "tableResultSettingsMap": {},
     "title": ""
    }
   },
   "outputs": [
    {
     "output_type": "stream",
     "name": "stderr",
     "output_type": "stream",
     "text": [
      "\r  0%|                                               | 0.00/338M [00:00<?, ?iB/s]\r  8%|███▎                                   | 28.4M/338M [00:00<00:01, 298MiB/s]\r 17%|██████▌                                | 56.9M/338M [00:00<00:01, 188MiB/s]\r 23%|████████▉                              | 77.0M/338M [00:00<00:01, 186MiB/s]\r 29%|███████████▏                           | 96.5M/338M [00:00<00:01, 192MiB/s]\r 36%|██████████████▎                         | 121M/338M [00:00<00:01, 211MiB/s]\r 44%|█████████████████▍                      | 147M/338M [00:00<00:00, 232MiB/s]\r 52%|████████████████████▉                   | 177M/338M [00:00<00:00, 256MiB/s]\r 63%|█████████████████████████▏              | 213M/338M [00:00<00:00, 292MiB/s]\r 72%|████████████████████████████▊           | 243M/338M [00:01<00:00, 300MiB/s]\r 81%|████████████████████████████████▏       | 272M/338M [00:01<00:00, 279MiB/s]\r 89%|███████████████████████████████████▍    | 299M/338M [00:01<00:00, 262MiB/s]\r 96%|██████████████████████████████████████▍ | 325M/338M [00:01<00:00, 249MiB/s]\r100%|████████████████████████████████████████| 338M/338M [00:01<00:00, 248MiB/s]\n"
     ]
    },
    {
     "output_type": "stream",
     "name": "stdout",
     "output_type": "stream",
     "text": [
      "CLIP model and preprocessing pipeline loaded successfully.\n"
     ]
    }
   ],
   "source": [
    "import clip\n",
    "import torch\n",
    "from PIL import Image\n",
    "\n",
    "# Device selection\n",
    "device = \"cuda\" if torch.cuda.is_available() else \"cpu\"\n",
    "\n",
    "# Load the CLIP model and preprocessing pipeline\n",
    "Clip_model, Clip_preprocess = clip.load(\"ViT-B/32\", device=device)\n",
    "\n",
    "# Confirm successful loading\n",
    "print(\"CLIP model and preprocessing pipeline loaded successfully.\")\n"
   ]
  },
  {
   "cell_type": "code",
   "execution_count": 0,
   "metadata": {
    "application/vnd.databricks.v1+cell": {
     "cellMetadata": {
      "byteLimit": 2048000,
      "rowLimit": 10000
     },
     "inputWidgets": {},
     "nuid": "4706b9f2-024b-406b-bcb6-0c89cc5d85e5",
     "showTitle": false,
     "tableResultSettingsMap": {},
     "title": ""
    }
   },
   "outputs": [
    {
     "output_type": "stream",
     "name": "stdout",
     "output_type": "stream",
     "text": [
      "Collecting opencv-python\n  Obtaining dependency information for opencv-python from https://files.pythonhosted.org/packages/2c/8b/90eb44a40476fa0e71e05a0283947cfd74a5d36121a11d926ad6f3193cc4/opencv_python-4.11.0.86-cp37-abi3-manylinux_2_17_x86_64.manylinux2014_x86_64.whl.metadata\n  Downloading opencv_python-4.11.0.86-cp37-abi3-manylinux_2_17_x86_64.manylinux2014_x86_64.whl.metadata (20 kB)\nRequirement already satisfied: numpy>=1.21.2 in /local_disk0/.ephemeral_nfs/envs/pythonEnv-7142bd67-c037-4c26-8229-c3fa723865ef/lib/python3.11/site-packages (from opencv-python) (1.26.4)\nDownloading opencv_python-4.11.0.86-cp37-abi3-manylinux_2_17_x86_64.manylinux2014_x86_64.whl (63.0 MB)\n\u001B[?25l   \u001B[90m━━━━━━━━━━━━━━━━━━━━━━━━━━━━━━━━━━━━━━━━\u001B[0m \u001B[32m0.0/63.0 MB\u001B[0m \u001B[31m?\u001B[0m eta \u001B[36m-:--:--\u001B[0m\n\u001B[2K   \u001B[91m━\u001B[0m\u001B[91m╸\u001B[0m\u001B[90m━━━━━━━━━━━━━━━━━━━━━━━━━━━━━━━━━━━━━━\u001B[0m \u001B[32m2.4/63.0 MB\u001B[0m \u001B[31m72.7 MB/s\u001B[0m eta \u001B[36m0:00:01\u001B[0m\n\u001B[2K   \u001B[91m━━━━━━\u001B[0m\u001B[90m╺\u001B[0m\u001B[90m━━━━━━━━━━━━━━━━━━━━━━━━━━━━━━━━━\u001B[0m \u001B[32m9.8/63.0 MB\u001B[0m \u001B[31m143.4 MB/s\u001B[0m eta \u001B[36m0:00:01\u001B[0m\n\u001B[2K   \u001B[91m━━━━━━━━━━\u001B[0m\u001B[91m╸\u001B[0m\u001B[90m━━━━━━━━━━━━━━━━━━━━━━━━━━━━━\u001B[0m \u001B[32m17.1/63.0 MB\u001B[0m \u001B[31m211.0 MB/s\u001B[0m eta \u001B[36m0:00:01\u001B[0m\n\u001B[2K   \u001B[91m━━━━━━━━━━━━━━━\u001B[0m\u001B[90m╺\u001B[0m\u001B[90m━━━━━━━━━━━━━━━━━━━━━━━━\u001B[0m \u001B[32m24.3/63.0 MB\u001B[0m \u001B[31m209.2 MB/s\u001B[0m eta \u001B[36m0:00:01\u001B[0m\n\u001B[2K   \u001B[91m━━━━━━━━━━━━━━━━━━━━\u001B[0m\u001B[90m╺\u001B[0m\u001B[90m━━━━━━━━━━━━━━━━━━━\u001B[0m \u001B[32m31.5/63.0 MB\u001B[0m \u001B[31m207.9 MB/s\u001B[0m eta \u001B[36m0:00:01\u001B[0m\n\u001B[2K   \u001B[91m━━━━━━━━━━━━━━━━━━━━━━━━\u001B[0m\u001B[91m╸\u001B[0m\u001B[90m━━━━━━━━━━━━━━━\u001B[0m \u001B[32m38.8/63.0 MB\u001B[0m \u001B[31m208.9 MB/s\u001B[0m eta \u001B[36m0:00:01\u001B[0m\n\u001B[2K   \u001B[91m━━━━━━━━━━━━━━━━━━━━━━━━━━━━━\u001B[0m\u001B[90m╺\u001B[0m\u001B[90m━━━━━━━━━━\u001B[0m \u001B[32m45.8/63.0 MB\u001B[0m \u001B[31m205.8 MB/s\u001B[0m eta \u001B[36m0:00:01\u001B[0m\n\u001B[2K   \u001B[91m━━━━━━━━━━━━━━━━━━━━━━━━━━━━━━━━━\u001B[0m\u001B[90m╺\u001B[0m\u001B[90m━━━━━━\u001B[0m \u001B[32m52.7/63.0 MB\u001B[0m \u001B[31m202.3 MB/s\u001B[0m eta \u001B[36m0:00:01\u001B[0m\n\u001B[2K   \u001B[91m━━━━━━━━━━━━━━━━━━━━━━━━━━━━━━━━━━━━━━\u001B[0m\u001B[90m╺\u001B[0m\u001B[90m━\u001B[0m \u001B[32m60.0/63.0 MB\u001B[0m \u001B[31m208.8 MB/s\u001B[0m eta \u001B[36m0:00:01\u001B[0m\n\u001B[2K   \u001B[91m━━━━━━━━━━━━━━━━━━━━━━━━━━━━━━━━━━━━━━━\u001B[0m\u001B[91m╸\u001B[0m \u001B[32m63.0/63.0 MB\u001B[0m \u001B[31m214.1 MB/s\u001B[0m eta \u001B[36m0:00:01\u001B[0m\n\u001B[2K   \u001B[91m━━━━━━━━━━━━━━━━━━━━━━━━━━━━━━━━━━━━━━━\u001B[0m\u001B[91m╸\u001B[0m \u001B[32m63.0/63.0 MB\u001B[0m \u001B[31m214.1 MB/s\u001B[0m eta \u001B[36m0:00:01\u001B[0m\n\u001B[2K   \u001B[91m━━━━━━━━━━━━━━━━━━━━━━━━━━━━━━━━━━━━━━━\u001B[0m\u001B[91m╸\u001B[0m \u001B[32m63.0/63.0 MB\u001B[0m \u001B[31m214.1 MB/s\u001B[0m eta \u001B[36m0:00:01\u001B[0m\n\u001B[2K   \u001B[91m━━━━━━━━━━━━━━━━━━━━━━━━━━━━━━━━━━━━━━━\u001B[0m\u001B[91m╸\u001B[0m \u001B[32m63.0/63.0 MB\u001B[0m \u001B[31m214.1 MB/s\u001B[0m eta \u001B[36m0:00:01\u001B[0m\n\u001B[2K   \u001B[91m━━━━━━━━━━━━━━━━━━━━━━━━━━━━━━━━━━━━━━━\u001B[0m\u001B[91m╸\u001B[0m \u001B[32m63.0/63.0 MB\u001B[0m \u001B[31m214.1 MB/s\u001B[0m eta \u001B[36m0:00:01\u001B[0m\n\u001B[2K   \u001B[91m━━━━━━━━━━━━━━━━━━━━━━━━━━━━━━━━━━━━━━━\u001B[0m\u001B[91m╸\u001B[0m \u001B[32m63.0/63.0 MB\u001B[0m \u001B[31m214.1 MB/s\u001B[0m eta \u001B[36m0:00:01\u001B[0m\n\u001B[2K   \u001B[91m━━━━━━━━━━━━━━━━━━━━━━━━━━━━━━━━━━━━━━━\u001B[0m\u001B[91m╸\u001B[0m \u001B[32m63.0/63.0 MB\u001B[0m \u001B[31m214.1 MB/s\u001B[0m eta \u001B[36m0:00:01\u001B[0m\n\u001B[2K   \u001B[91m━━━━━━━━━━━━━━━━━━━━━━━━━━━━━━━━━━━━━━━\u001B[0m\u001B[91m╸\u001B[0m \u001B[32m63.0/63.0 MB\u001B[0m \u001B[31m214.1 MB/s\u001B[0m eta \u001B[36m0:00:01\u001B[0m\n\u001B[2K   \u001B[91m━━━━━━━━━━━━━━━━━━━━━━━━━━━━━━━━━━━━━━━\u001B[0m\u001B[91m╸\u001B[0m \u001B[32m63.0/63.0 MB\u001B[0m \u001B[31m214.1 MB/s\u001B[0m eta \u001B[36m0:00:01\u001B[0m\n\u001B[2K   \u001B[91m━━━━━━━━━━━━━━━━━━━━━━━━━━━━━━━━━━━━━━━\u001B[0m\u001B[91m╸\u001B[0m \u001B[32m63.0/63.0 MB\u001B[0m \u001B[31m214.1 MB/s\u001B[0m eta \u001B[36m0:00:01\u001B[0m\n\u001B[2K   \u001B[91m━━━━━━━━━━━━━━━━━━━━━━━━━━━━━━━━━━━━━━━\u001B[0m\u001B[91m╸\u001B[0m \u001B[32m63.0/63.0 MB\u001B[0m \u001B[31m214.1 MB/s\u001B[0m eta \u001B[36m0:00:01\u001B[0m\n\u001B[2K   \u001B[91m━━━━━━━━━━━━━━━━━━━━━━━━━━━━━━━━━━━━━━━\u001B[0m\u001B[91m╸\u001B[0m \u001B[32m63.0/63.0 MB\u001B[0m \u001B[31m214.1 MB/s\u001B[0m eta \u001B[36m0:00:01\u001B[0m\n\u001B[2K   \u001B[91m━━━━━━━━━━━━━━━━━━━━━━━━━━━━━━━━━━━━━━━\u001B[0m\u001B[91m╸\u001B[0m \u001B[32m63.0/63.0 MB\u001B[0m \u001B[31m214.1 MB/s\u001B[0m eta \u001B[36m0:00:01\u001B[0m\n\u001B[2K   \u001B[91m━━━━━━━━━━━━━━━━━━━━━━━━━━━━━━━━━━━━━━━\u001B[0m\u001B[91m╸\u001B[0m \u001B[32m63.0/63.0 MB\u001B[0m \u001B[31m214.1 MB/s\u001B[0m eta \u001B[36m0:00:01\u001B[0m\n\u001B[2K   \u001B[91m━━━━━━━━━━━━━━━━━━━━━━━━━━━━━━━━━━━━━━━\u001B[0m\u001B[91m╸\u001B[0m \u001B[32m63.0/63.0 MB\u001B[0m \u001B[31m214.1 MB/s\u001B[0m eta \u001B[36m0:00:01\u001B[0m\n\u001B[2K   \u001B[91m━━━━━━━━━━━━━━━━━━━━━━━━━━━━━━━━━━━━━━━\u001B[0m\u001B[91m╸\u001B[0m \u001B[32m63.0/63.0 MB\u001B[0m \u001B[31m214.1 MB/s\u001B[0m eta \u001B[36m0:00:01\u001B[0m\n\u001B[2K   \u001B[91m━━━━━━━━━━━━━━━━━━━━━━━━━━━━━━━━━━━━━━━\u001B[0m\u001B[91m╸\u001B[0m \u001B[32m63.0/63.0 MB\u001B[0m \u001B[31m214.1 MB/s\u001B[0m eta \u001B[36m0:00:01\u001B[0m\n\u001B[2K   \u001B[91m━━━━━━━━━━━━━━━━━━━━━━━━━━━━━━━━━━━━━━━\u001B[0m\u001B[91m╸\u001B[0m \u001B[32m63.0/63.0 MB\u001B[0m \u001B[31m214.1 MB/s\u001B[0m eta \u001B[36m0:00:01\u001B[0m\n\u001B[2K   \u001B[91m━━━━━━━━━━━━━━━━━━━━━━━━━━━━━━━━━━━━━━━\u001B[0m\u001B[91m╸\u001B[0m \u001B[32m63.0/63.0 MB\u001B[0m \u001B[31m214.1 MB/s\u001B[0m eta \u001B[36m0:00:01\u001B[0m\n\u001B[2K   \u001B[91m━━━━━━━━━━━━━━━━━━━━━━━━━━━━━━━━━━━━━━━\u001B[0m\u001B[91m╸\u001B[0m \u001B[32m63.0/63.0 MB\u001B[0m \u001B[31m214.1 MB/s\u001B[0m eta \u001B[36m0:00:01\u001B[0m\n\u001B[2K   \u001B[91m━━━━━━━━━━━━━━━━━━━━━━━━━━━━━━━━━━━━━━━\u001B[0m\u001B[91m╸\u001B[0m \u001B[32m63.0/63.0 MB\u001B[0m \u001B[31m214.1 MB/s\u001B[0m eta \u001B[36m0:00:01\u001B[0m\n\u001B[2K   \u001B[91m━━━━━━━━━━━━━━━━━━━━━━━━━━━━━━━━━━━━━━━\u001B[0m\u001B[91m╸\u001B[0m \u001B[32m63.0/63.0 MB\u001B[0m \u001B[31m214.1 MB/s\u001B[0m eta \u001B[36m0:00:01\u001B[0m\n\u001B[2K   \u001B[91m━━━━━━━━━━━━━━━━━━━━━━━━━━━━━━━━━━━━━━━\u001B[0m\u001B[91m╸\u001B[0m \u001B[32m63.0/63.0 MB\u001B[0m \u001B[31m214.1 MB/s\u001B[0m eta \u001B[36m0:00:01\u001B[0m\n\u001B[2K   \u001B[91m━━━━━━━━━━━━━━━━━━━━━━━━━━━━━━━━━━━━━━━\u001B[0m\u001B[91m╸\u001B[0m \u001B[32m63.0/63.0 MB\u001B[0m \u001B[31m214.1 MB/s\u001B[0m eta \u001B[36m0:00:01\u001B[0m\n\u001B[2K   \u001B[91m━━━━━━━━━━━━━━━━━━━━━━━━━━━━━━━━━━━━━━━\u001B[0m\u001B[91m╸\u001B[0m \u001B[32m63.0/63.0 MB\u001B[0m \u001B[31m214.1 MB/s\u001B[0m eta \u001B[36m0:00:01\u001B[0m\n\u001B[2K   \u001B[91m━━━━━━━━━━━━━━━━━━━━━━━━━━━━━━━━━━━━━━━\u001B[0m\u001B[91m╸\u001B[0m \u001B[32m63.0/63.0 MB\u001B[0m \u001B[31m214.1 MB/s\u001B[0m eta \u001B[36m0:00:01\u001B[0m\n\u001B[2K   \u001B[91m━━━━━━━━━━━━━━━━━━━━━━━━━━━━━━━━━━━━━━━\u001B[0m\u001B[91m╸\u001B[0m \u001B[32m63.0/63.0 MB\u001B[0m \u001B[31m214.1 MB/s\u001B[0m eta \u001B[36m0:00:01\u001B[0m\n\u001B[2K   \u001B[91m━━━━━━━━━━━━━━━━━━━━━━━━━━━━━━━━━━━━━━━\u001B[0m\u001B[91m╸\u001B[0m \u001B[32m63.0/63.0 MB\u001B[0m \u001B[31m214.1 MB/s\u001B[0m eta \u001B[36m0:00:01\u001B[0m\n\u001B[2K   \u001B[91m━━━━━━━━━━━━━━━━━━━━━━━━━━━━━━━━━━━━━━━\u001B[0m\u001B[91m╸\u001B[0m \u001B[32m63.0/63.0 MB\u001B[0m \u001B[31m214.1 MB/s\u001B[0m eta \u001B[36m0:00:01\u001B[0m\n\u001B[2K   \u001B[91m━━━━━━━━━━━━━━━━━━━━━━━━━━━━━━━━━━━━━━━\u001B[0m\u001B[91m╸\u001B[0m \u001B[32m63.0/63.0 MB\u001B[0m \u001B[31m214.1 MB/s\u001B[0m eta \u001B[36m0:00:01\u001B[0m\n\u001B[2K   \u001B[91m━━━━━━━━━━━━━━━━━━━━━━━━━━━━━━━━━━━━━━━\u001B[0m\u001B[91m╸\u001B[0m \u001B[32m63.0/63.0 MB\u001B[0m \u001B[31m214.1 MB/s\u001B[0m eta \u001B[36m0:00:01\u001B[0m\n\u001B[2K   \u001B[91m━━━━━━━━━━━━━━━━━━━━━━━━━━━━━━━━━━━━━━━\u001B[0m\u001B[91m╸\u001B[0m \u001B[32m63.0/63.0 MB\u001B[0m \u001B[31m214.1 MB/s\u001B[0m eta \u001B[36m0:00:01\u001B[0m\n\u001B[2K   \u001B[91m━━━━━━━━━━━━━━━━━━━━━━━━━━━━━━━━━━━━━━━\u001B[0m\u001B[91m╸\u001B[0m \u001B[32m63.0/63.0 MB\u001B[0m \u001B[31m214.1 MB/s\u001B[0m eta \u001B[36m0:00:01\u001B[0m\n\u001B[2K   \u001B[91m━━━━━━━━━━━━━━━━━━━━━━━━━━━━━━━━━━━━━━━\u001B[0m\u001B[91m╸\u001B[0m \u001B[32m63.0/63.0 MB\u001B[0m \u001B[31m214.1 MB/s\u001B[0m eta \u001B[36m0:00:01\u001B[0m\n\u001B[2K   \u001B[91m━━━━━━━━━━━━━━━━━━━━━━━━━━━━━━━━━━━━━━━\u001B[0m\u001B[91m╸\u001B[0m \u001B[32m63.0/63.0 MB\u001B[0m \u001B[31m214.1 MB/s\u001B[0m eta \u001B[36m0:00:01\u001B[0m\n\u001B[2K   \u001B[91m━━━━━━━━━━━━━━━━━━━━━━━━━━━━━━━━━━━━━━━\u001B[0m\u001B[91m╸\u001B[0m \u001B[32m63.0/63.0 MB\u001B[0m \u001B[31m214.1 MB/s\u001B[0m eta \u001B[36m0:00:01\u001B[0m\n\u001B[2K   \u001B[91m━━━━━━━━━━━━━━━━━━━━━━━━━━━━━━━━━━━━━━━\u001B[0m\u001B[91m╸\u001B[0m \u001B[32m63.0/63.0 MB\u001B[0m \u001B[31m214.1 MB/s\u001B[0m eta \u001B[36m0:00:01\u001B[0m\n\u001B[2K   \u001B[91m━━━━━━━━━━━━━━━━━━━━━━━━━━━━━━━━━━━━━━━\u001B[0m\u001B[91m╸\u001B[0m \u001B[32m63.0/63.0 MB\u001B[0m \u001B[31m214.1 MB/s\u001B[0m eta \u001B[36m0:00:01\u001B[0m\n\u001B[2K   \u001B[91m━━━━━━━━━━━━━━━━━━━━━━━━━━━━━━━━━━━━━━━\u001B[0m\u001B[91m╸\u001B[0m \u001B[32m63.0/63.0 MB\u001B[0m \u001B[31m214.1 MB/s\u001B[0m eta \u001B[36m0:00:01\u001B[0m\n\u001B[2K   \u001B[91m━━━━━━━━━━━━━━━━━━━━━━━━━━━━━━━━━━━━━━━\u001B[0m\u001B[91m╸\u001B[0m \u001B[32m63.0/63.0 MB\u001B[0m \u001B[31m214.1 MB/s\u001B[0m eta \u001B[36m0:00:01\u001B[0m\n\u001B[2K   \u001B[90m━━━━━━━━━━━━━━━━━━━━━━━━━━━━━━━━━━━━━━━━\u001B[0m \u001B[32m63.0/63.0 MB\u001B[0m \u001B[31m6.9 MB/s\u001B[0m eta \u001B[36m0:00:00\u001B[0m\n\u001B[?25hInstalling collected packages: opencv-python\nSuccessfully installed opencv-python-4.11.0.86\n\u001B[43mNote: you may need to restart the kernel using %restart_python or dbutils.library.restartPython() to use updated packages.\u001B[0m\n"
     ]
    }
   ],
   "source": [
    "%pip install opencv-python\n"
   ]
  },
  {
   "cell_type": "code",
   "execution_count": 0,
   "metadata": {
    "application/vnd.databricks.v1+cell": {
     "cellMetadata": {
      "byteLimit": 2048000,
      "rowLimit": 10000
     },
     "inputWidgets": {},
     "nuid": "675b3f9c-ef29-4ba2-b76f-f7dec214bace",
     "showTitle": false,
     "tableResultSettingsMap": {},
     "title": ""
    }
   },
   "outputs": [
    {
     "output_type": "stream",
     "name": "stdout",
     "output_type": "stream",
     "text": [
      "Requirement already satisfied: opencv-contrib-python in /local_disk0/.ephemeral_nfs/envs/pythonEnv-7142bd67-c037-4c26-8229-c3fa723865ef/lib/python3.11/site-packages (4.11.0.86)\nRequirement already satisfied: numpy>=1.21.2 in /local_disk0/.ephemeral_nfs/envs/pythonEnv-7142bd67-c037-4c26-8229-c3fa723865ef/lib/python3.11/site-packages (from opencv-contrib-python) (1.26.4)\n\u001B[43mNote: you may need to restart the kernel using %restart_python or dbutils.library.restartPython() to use updated packages.\u001B[0m\n"
     ]
    }
   ],
   "source": [
    "%pip install opencv-contrib-python\n"
   ]
  },
  {
   "cell_type": "code",
   "execution_count": 0,
   "metadata": {
    "application/vnd.databricks.v1+cell": {
     "cellMetadata": {
      "byteLimit": 2048000,
      "rowLimit": 10000
     },
     "inputWidgets": {},
     "nuid": "a28192be-ed5a-4aef-aa1a-bf2c48dcffdb",
     "showTitle": false,
     "tableResultSettingsMap": {},
     "title": ""
    }
   },
   "outputs": [],
   "source": [
    "import os\n",
    "import numpy as np\n",
    "import cv2\n",
    "import dlib\n",
    "import mediapipe\n",
    "import math\n",
    "import torch\n",
    "import clip\n",
    "from PIL import Image\n",
    "from io import BytesIO\n",
    "\n",
    "# Define the path to your local directory\n",
    "# output_directory = \"/dbfs/FileStore/all_images_combined\"\n",
    "\n",
    "# -------------\n",
    "# HELPER LOAD FUNCTION\n",
    "# -------------\n",
    "\n",
    "def load_local_image(image_filename):\n",
    "    \"\"\"\n",
    "    Load an image from the local directory `output_directory`.\n",
    "    Returns a NumPy array (BGR) suitable for OpenCV.\n",
    "    \"\"\"\n",
    "    # Construct the full path\n",
    "    full_path = os.path.join(output_directory, image_filename)\n",
    "    # Use PIL to open, then convert to NumPy (as OpenCV usually uses BGR)\n",
    "    pil_image = Image.open(full_path).convert(\"RGB\")\n",
    "    img_array = np.array(pil_image)\n",
    "    # Convert RGB (PIL) to BGR (OpenCV)\n",
    "    img_array = cv2.cvtColor(img_array, cv2.COLOR_RGB2BGR)\n",
    "    return img_array\n",
    "\n",
    "\n",
    "# -------------\n",
    "# Example CLIP-related functions (requires correct CLIP setup)\n",
    "# -------------\n",
    "\n",
    "# NOTE: This part requires that you have a CLIP model loaded in memory:\n",
    "#       - device = ...\n",
    "#       - Clip_model, Clip_preprocess = ...\n",
    "#       - clip = ...\n",
    "# Adapt these as needed in your environment.\n",
    "\n",
    "def check_single_feature(image_filename, prompt_yes, prompt_no):\n",
    "    \"\"\"\n",
    "    Check a single feature using CLIP text-image similarity.\n",
    "\n",
    "    Args:\n",
    "        image_filename (str): The file name of the image (not URL).\n",
    "        prompt_yes (str): Positive prompt text.\n",
    "        prompt_no (str): Negative prompt text.\n",
    "\n",
    "    Returns:\n",
    "        dict: Dictionary containing prompt_yes score, prompt_no score, final_decision.\n",
    "    \"\"\"\n",
    "    # Load image from local path\n",
    "    full_path = os.path.join(output_directory, image_filename)\n",
    "    pil_img = Image.open(full_path).convert(\"RGB\")\n",
    "    \n",
    "    # Preprocess for CLIP and move to device\n",
    "    image = Clip_preprocess(pil_img).unsqueeze(0).to(device)\n",
    "\n",
    "    # Prepare prompts\n",
    "    text_prompts = [prompt_yes, prompt_no]\n",
    "    text = clip.tokenize(text_prompts).to(device)\n",
    "\n",
    "    # Compute similarity\n",
    "    with torch.no_grad():\n",
    "        image_features = Clip_model.encode_image(image)\n",
    "        text_features = Clip_model.encode_text(text)\n",
    "\n",
    "        image_features /= image_features.norm(dim=-1, keepdim=True)\n",
    "        text_features /= text_features.norm(dim=-1, keepdim=True)\n",
    "\n",
    "        similarities = (100.0 * image_features @ text_features.T).softmax(dim=-1)\n",
    "\n",
    "    scores = similarities.cpu().numpy().flatten()\n",
    "    result = {\n",
    "        \"prompt_yes\": f\"{prompt_yes}: {scores[0]:.2f}%\",\n",
    "        \"prompt_no\": f\"{prompt_no}: {scores[1]:.2f}%\",\n",
    "        \"final_decision\": \"Yes\" if scores[0] > scores[1] else \"No\"\n",
    "    }\n",
    "    return result\n",
    "\n",
    "\n",
    "# -------------\n",
    "# BODY PROPORTION\n",
    "# -------------\n",
    "\n",
    "def calculate_body_proportion(image_filename):\n",
    "    \"\"\"\n",
    "    Calculate the proportion of the body (as detected by MediaPipe Pose) relative to the image size.\n",
    "    \"\"\"\n",
    "    import mediapipe as mp\n",
    "\n",
    "    # Load local image\n",
    "    img_array = load_local_image(image_filename)\n",
    "    h, w, _ = img_array.shape\n",
    "\n",
    "    mp_pose = mp.solutions.pose\n",
    "    with mp_pose.Pose(static_image_mode=True, min_detection_confidence=0.5) as pose:\n",
    "        results = pose.process(cv2.cvtColor(img_array, cv2.COLOR_BGR2RGB))\n",
    "\n",
    "        if not results.pose_landmarks:\n",
    "            print(\"No body detected.\")\n",
    "            return 0\n",
    "\n",
    "        body_landmarks = results.pose_landmarks.landmark\n",
    "        x_coords = [min(max(lm.x, 0), 1) * w for lm in body_landmarks]\n",
    "        y_coords = [min(max(lm.y, 0), 1) * h for lm in body_landmarks]\n",
    "\n",
    "        x_min, x_max = min(x_coords), max(x_coords)\n",
    "        y_min, y_max = min(y_coords), max(y_coords)\n",
    "\n",
    "        body_width = x_max - x_min\n",
    "        body_height = y_max - y_min\n",
    "        body_area = body_width * body_height\n",
    "        image_area = w * h\n",
    "\n",
    "        proportion = body_area / image_area\n",
    "        return proportion\n",
    "\n",
    "\n",
    "# -------------\n",
    "# NOSE CENTER SCORE\n",
    "# -------------\n",
    "\n",
    "def calculate_nose_center_score(image_filename):\n",
    "    \"\"\"\n",
    "    Calculate how close the nose (landmark) is to the image center in x-dimension.\n",
    "    \"\"\"\n",
    "    import dlib\n",
    "    import mediapipe as mp\n",
    "\n",
    "    # Load local image as PIL\n",
    "    full_path = os.path.join(output_directory, image_filename)\n",
    "    try:\n",
    "        pil_img = Image.open(full_path).convert(\"RGB\")\n",
    "    except Exception as e:\n",
    "        raise Exception(f\"Failed to load image from local path: {e}\")\n",
    "\n",
    "    img_array = np.array(pil_img)\n",
    "    img_height, img_width = img_array.shape[:2]\n",
    "    image_center_x = img_width / 2\n",
    "\n",
    "    # Try Dlib first\n",
    "    try:\n",
    "        detector = dlib.get_frontal_face_detector()\n",
    "        predictor = dlib.shape_predictor(dlib.data_file(\"shape_predictor_68_face_landmarks.dat\"))\n",
    "        faces = detector(img_array, 1)\n",
    "\n",
    "        if len(faces) > 0:\n",
    "            face = faces[0]\n",
    "            landmarks = predictor(img_array, face)\n",
    "            # Landmark 30 is the nose tip\n",
    "            nose_x = landmarks.part(30).x\n",
    "\n",
    "            normalized_distance_x = abs(nose_x - image_center_x) / img_width\n",
    "            return normalized_distance_x\n",
    "    except Exception:\n",
    "        print(\"Dlib failed to detect nose. Trying with MediaPipe...\")\n",
    "\n",
    "    # Fallback to MediaPipe\n",
    "    try:\n",
    "        mp_face_mesh = mp.solutions.face_mesh\n",
    "        with mp_face_mesh.FaceMesh(static_image_mode=True, max_num_faces=1, min_detection_confidence=0.5) as face_mesh:\n",
    "            results = face_mesh.process(cv2.cvtColor(img_array, cv2.COLOR_BGR2RGB))\n",
    "\n",
    "            if not results.multi_face_landmarks:\n",
    "                return 0\n",
    "\n",
    "            # Nose tip index in MediaPipe is 1\n",
    "            face_landmarks = results.multi_face_landmarks[0]\n",
    "            nose_x = face_landmarks.landmark[1].x * img_width\n",
    "\n",
    "            normalized_distance_x = abs(nose_x - image_center_x)\n",
    "            return normalized_distance_x\n",
    "    except Exception as e:\n",
    "        print(f\"MediaPipe failed: {e}\")\n",
    "        return 0\n",
    "\n",
    "\n",
    "# -------------\n",
    "# FACE PROPORTIONS\n",
    "# -------------\n",
    "\n",
    "def calculate_face_proportions(image_filename):\n",
    "    \"\"\"\n",
    "    Calculate what fraction of the image area is occupied by the detected face(s).\n",
    "    \"\"\"\n",
    "    import mediapipe as mp\n",
    "\n",
    "    # Load local image\n",
    "    img_array = load_local_image(image_filename)\n",
    "    h, w, _ = img_array.shape\n",
    "\n",
    "    mp_face_detection = mp.solutions.face_detection\n",
    "    with mp_face_detection.FaceDetection(model_selection=1, min_detection_confidence=0.5) as face_detection:\n",
    "        results = face_detection.process(cv2.cvtColor(img_array, cv2.COLOR_BGR2RGB))\n",
    "\n",
    "        if not results.detections:\n",
    "            return 0\n",
    "\n",
    "        total_face_area = 0\n",
    "        for detection in results.detections:\n",
    "            bboxC = detection.location_data.relative_bounding_box\n",
    "            x, y, width, height = bboxC.xmin, bboxC.ymin, bboxC.width, bboxC.height\n",
    "            total_face_area += (width * w) * (height * h)\n",
    "\n",
    "        image_area = h * w\n",
    "        proportion = total_face_area / image_area\n",
    "        return proportion\n",
    "\n",
    "\n",
    "# -------------\n",
    "# CENTER SCORE Y-AXIS\n",
    "# -------------\n",
    "\n",
    "def calculate_center_score_y_axis(image_filename):\n",
    "    \"\"\"\n",
    "    Returns how close the nose tip is to the vertical center of the image (score 0-1).\n",
    "    \"\"\"\n",
    "    import mediapipe as mp\n",
    "\n",
    "    img_array = load_local_image(image_filename)\n",
    "    h, w, _ = img_array.shape\n",
    "\n",
    "    mp_face_mesh = mp.solutions.face_mesh\n",
    "    with mp_face_mesh.FaceMesh(static_image_mode=True, max_num_faces=1, min_detection_confidence=0.5) as face_mesh:\n",
    "        results = face_mesh.process(cv2.cvtColor(img_array, cv2.COLOR_BGR2RGB))\n",
    "        if not results.multi_face_landmarks:\n",
    "            return 0\n",
    "\n",
    "        face_landmarks = results.multi_face_landmarks[0]\n",
    "        nose_tip_index = 1  # nose tip\n",
    "        nose_tip_y = face_landmarks.landmark[nose_tip_index].y * h\n",
    "        image_center_y = h / 2\n",
    "\n",
    "        normalized_distance_y = abs(nose_tip_y - image_center_y) / (h / 2)\n",
    "        score = max(0, 1 - normalized_distance_y)\n",
    "        return score\n",
    "\n",
    "\n",
    "# -------------\n",
    "# CENTER SCORE X-AXIS\n",
    "# -------------\n",
    "\n",
    "def calculate_center_score_x_axis(image_filename):\n",
    "    \"\"\"\n",
    "    Returns how centered the eye region is horizontally (score 0-1).\n",
    "    \"\"\"\n",
    "    import mediapipe as mp\n",
    "\n",
    "    img_array = load_local_image(image_filename)\n",
    "    h, w, _ = img_array.shape\n",
    "\n",
    "    mp_face_mesh = mp.solutions.face_mesh\n",
    "    with mp_face_mesh.FaceMesh(static_image_mode=True, max_num_faces=1, min_detection_confidence=0.5) as face_mesh:\n",
    "        results = face_mesh.process(cv2.cvtColor(img_array, cv2.COLOR_BGR2RGB))\n",
    "        if not results.multi_face_landmarks:\n",
    "            return 0\n",
    "\n",
    "        face_landmarks = results.multi_face_landmarks[0]\n",
    "        left_eye_indices = [33, 160, 158]\n",
    "        right_eye_indices = [362, 385, 387]\n",
    "\n",
    "        left_eye = np.mean([(face_landmarks.landmark[i].x * w,\n",
    "                             face_landmarks.landmark[i].y * h) for i in left_eye_indices], axis=0)\n",
    "        right_eye = np.mean([(face_landmarks.landmark[i].x * w,\n",
    "                              face_landmarks.landmark[i].y * h) for i in right_eye_indices], axis=0)\n",
    "\n",
    "        image_center_x = w / 2\n",
    "        eye_center_x = (left_eye[0] + right_eye[0]) / 2\n",
    "\n",
    "        normalized_distance = abs(eye_center_x - image_center_x) / (w / 2)\n",
    "        score = max(0, 1 - normalized_distance)\n",
    "        return score\n",
    "\n",
    "\n",
    "# -------------\n",
    "# TILT HEAD\n",
    "# -------------\n",
    "\n",
    "def calculate_tilt_head(image_filename):\n",
    "    \"\"\"\n",
    "    Calculate how tilted the head is (in degrees) based on the eye line.\n",
    "    Returns a normalized tilt score (0-??).\n",
    "    \"\"\"\n",
    "    import mediapipe as mp\n",
    "\n",
    "    img_array = load_local_image(image_filename)\n",
    "    h, w, _ = img_array.shape\n",
    "\n",
    "    mp_face_mesh = mp.solutions.face_mesh\n",
    "    with mp_face_mesh.FaceMesh(static_image_mode=True, max_num_faces=1, min_detection_confidence=0.5) as face_mesh:\n",
    "        results = face_mesh.process(cv2.cvtColor(img_array, cv2.COLOR_BGR2RGB))\n",
    "        if not results.multi_face_landmarks:\n",
    "            return 0\n",
    "\n",
    "        face_landmarks = results.multi_face_landmarks[0]\n",
    "        left_eye_indices = [33, 160, 158]\n",
    "        right_eye_indices = [362, 385, 387]\n",
    "\n",
    "        left_eye = np.mean([(face_landmarks.landmark[i].x * w,\n",
    "                             face_landmarks.landmark[i].y * h) for i in left_eye_indices], axis=0)\n",
    "        right_eye = np.mean([(face_landmarks.landmark[i].x * w,\n",
    "                              face_landmarks.landmark[i].y * h) for i in right_eye_indices], axis=0)\n",
    "\n",
    "        delta_x = right_eye[0] - left_eye[0]\n",
    "        delta_y = right_eye[1] - left_eye[1]\n",
    "        tilt_angle_radians = np.arctan2(delta_y, delta_x)\n",
    "        tilt_angle_degrees = np.degrees(tilt_angle_radians)\n",
    "\n",
    "        # Example normalization: compare to a max tilt of 30 degrees\n",
    "        max_tilt = 30.0\n",
    "        normalized_tilt_score = max(0, abs(tilt_angle_degrees) / max_tilt)\n",
    "        return normalized_tilt_score\n",
    "\n",
    "\n",
    "# -------------\n",
    "# LOOKING DIRECTION\n",
    "# -------------\n",
    "\n",
    "def calculate_looking_direction_score(image_filename):\n",
    "    \"\"\"\n",
    "    Estimate if the person is looking at the camera (eye alignment with nose).\n",
    "    Returns a score 0-1 (1 = direct look).\n",
    "    \"\"\"\n",
    "    import mediapipe as mp\n",
    "\n",
    "    img_array = load_local_image(image_filename)\n",
    "    h, w, _ = img_array.shape\n",
    "\n",
    "    mp_face_mesh = mp.solutions.face_mesh\n",
    "    with mp_face_mesh.FaceMesh(static_image_mode=True, max_num_faces=1, min_detection_confidence=0.5) as face_mesh:\n",
    "        results = face_mesh.process(cv2.cvtColor(img_array, cv2.COLOR_BGR2RGB))\n",
    "        if not results.multi_face_landmarks:\n",
    "            return 0\n",
    "\n",
    "        face_landmarks = results.multi_face_landmarks[0]\n",
    "        left_eye_indices = [33, 160, 158]\n",
    "        right_eye_indices = [362, 385, 387]\n",
    "        nose_tip_index = 1\n",
    "\n",
    "        left_eye = np.mean([(face_landmarks.landmark[i].x * w,\n",
    "                             face_landmarks.landmark[i].y * h) for i in left_eye_indices], axis=0)\n",
    "        right_eye = np.mean([(face_landmarks.landmark[i].x * w,\n",
    "                              face_landmarks.landmark[i].y * h) for i in right_eye_indices], axis=0)\n",
    "        nose_tip = face_landmarks.landmark[nose_tip_index]\n",
    "        nose_tip = (nose_tip.x * w, nose_tip.y * h)\n",
    "\n",
    "        eye_center_x = (left_eye[0] + right_eye[0]) / 2\n",
    "        delta_x = abs(nose_tip[0] - eye_center_x)\n",
    "\n",
    "        # Example threshold for 0 score:\n",
    "        max_delta = w * 0.05\n",
    "        normalized_score = max(0, 1 - (delta_x / max_delta))\n",
    "        return normalized_score\n",
    "\n",
    "\n",
    "# -------------\n",
    "# FACE COORD DETECTION\n",
    "# -------------\n",
    "\n",
    "def detect_face_coordinates(image_filename):\n",
    "    \"\"\"\n",
    "    Detect face coordinates using Mediapipe. Return (x_min, y_min, x_max, y_max).\n",
    "    \"\"\"\n",
    "    import mediapipe as mp\n",
    "\n",
    "    mp_face_detection = mp.solutions.face_detection\n",
    "    face_detector = mp_face_detection.FaceDetection(min_detection_confidence=0.5)\n",
    "\n",
    "    # Load local image\n",
    "    pil_img = Image.open(os.path.join(output_directory, image_filename)).convert(\"RGB\")\n",
    "    img_array = np.array(pil_img)\n",
    "\n",
    "    results = face_detector.process(img_array)\n",
    "    if results.detections:\n",
    "        detection = results.detections[0]\n",
    "        bboxC = detection.location_data.relative_bounding_box\n",
    "        h, w, _ = img_array.shape\n",
    "        x_min = int(bboxC.xmin * w)\n",
    "        y_min = int(bboxC.ymin * h)\n",
    "        x_max = x_min + int(bboxC.width * w)\n",
    "        y_max = y_min + int(bboxC.height * h)\n",
    "        return (x_min, y_min, x_max, y_max)\n",
    "\n",
    "    return None\n",
    "\n",
    "\n",
    "# -------------\n",
    "# DPI SCORE\n",
    "# -------------\n",
    "\n",
    "def calculate_dpi_score(image_filename):\n",
    "    \"\"\"\n",
    "    Approximate resolution-based score.\n",
    "    \"\"\"\n",
    "    from PIL import Image\n",
    "\n",
    "    img = Image.open(os.path.join(output_directory, image_filename))\n",
    "    width, height = img.size\n",
    "    total_pixels = width * height\n",
    "\n",
    "    # Example base: 480 x 360 (172800 pixels)\n",
    "    max_pixels = 480 * 360\n",
    "    normalized_score = min(total_pixels / max_pixels, 1)\n",
    "    return normalized_score\n",
    "\n",
    "\n",
    "# -------------\n",
    "# BACKGROUND BRIGHTNESS\n",
    "# -------------\n",
    "\n",
    "def calculate_background_brightness(image_filename):\n",
    "    \"\"\"\n",
    "    Estimate overall brightness of the image. Returns a normalized brightness (0-1).\n",
    "    \"\"\"\n",
    "    img_array = load_local_image(image_filename)\n",
    "\n",
    "    # Convert BGR to RGB for standard brightness formula\n",
    "    rgb_array = cv2.cvtColor(img_array, cv2.COLOR_BGR2RGB)\n",
    "    # brightness ~ 0.299*R + 0.587*G + 0.114*B\n",
    "    brightness = 0.299 * rgb_array[:, :, 0] + \\\n",
    "                 0.587 * rgb_array[:, :, 1] + \\\n",
    "                 0.114 * rgb_array[:, :, 2]\n",
    "\n",
    "    overall_brightness = np.mean(brightness)\n",
    "    # Example normalization factor\n",
    "    X = 180.0\n",
    "    normalized_brightness = overall_brightness / X\n",
    "    clamped_brightness = min(normalized_brightness, 1)\n",
    "    return clamped_brightness\n",
    "\n",
    "\n",
    "# -------------\n",
    "# MAIN FEATURE SCORES AGGREGATOR\n",
    "# -------------\n",
    "\n",
    "def feature_scores(image_filename):\n",
    "    \"\"\"\n",
    "    Runs a set of checks on the image file and returns a dictionary of scores.\n",
    "    \"\"\"\n",
    "    feature_checks = [\n",
    "        {\"name\": \"smile\", \"prompt_yes\": \"smile\", \"prompt_no\": \"Else\"},\n",
    "        {\"name\": \"wear professional Attire\", \"prompt_yes\": \"person with professional Attire\", \"prompt_no\": \"Else\"},\n",
    "        {\"name\": \"use clean background\", \"prompt_yes\": \"clean background\", \"prompt_no\": \"aggressive background that steals all the attention\"},\n",
    "        {\"name\": \"look serious\", \"prompt_yes\": \"serious\", \"prompt_no\": \"Silly\"},\n",
    "        {\"name\": \"show your face clearly\", \"prompt_yes\": \"clearly contains a face\", \"prompt_no\": \"Else\"},\n",
    "        {\"name\": \"use formal expression\", \"prompt_yes\": \"job expressions\", \"prompt_no\": \"Else\"},\n",
    "        {\"name\": \"wear suit\", \"prompt_yes\": \"person with suit\", \"prompt_no\": \"casual outfit\"},\n",
    "        {\"name\": \"look confidence\", \"prompt_yes\": \"confident person\", \"prompt_no\": \"Else\"},\n",
    "        {\"name\": \"look approachability\", \"prompt_yes\": \"friendly\", \"prompt_no\": \"Else\"},\n",
    "        {\"name\": \"don't look emotional\", \"prompt_yes\": \"neutral expression\", \"prompt_no\": \"emotional expression\"},\n",
    "        {\"name\": \"crop the picture\", \"prompt_yes\": \"good image frame/lines\", \"prompt_no\": \"aggressively cut image\"},\n",
    "        {\"name\": \"avoid noise or artifacts\", \"prompt_yes\": \"no noise and artifacts\", \"prompt_no\": \"Else\"},\n",
    "        {\"name\": \"use positive atmosphere\", \"prompt_yes\": \"positive atmosphere\", \"prompt_no\": \"Negative atmosphere\"},\n",
    "        {\"name\": \"use corporate environment\", \"prompt_yes\": \"office\", \"prompt_no\": \"Else\"},\n",
    "        {\"name\": \"look trustworthiness\", \"prompt_yes\": \"trustworthy\", \"prompt_no\": \"untrust\"},\n",
    "        {\"name\": \"be energetic\", \"prompt_yes\": \"positive energey\", \"prompt_no\": \"unwelcoming\"},\n",
    "        {\"name\": \"look distinctive\", \"prompt_yes\": \"distinct and memorable\", \"prompt_no\": \"Regular\"},\n",
    "        {\"name\": \"look calm\", \"prompt_yes\": \"calm\", \"prompt_no\": \"Upset\"},\n",
    "        {\"name\": \"fix your hair\", \"prompt_yes\": \"neat hair\", \"prompt_no\": \"messy hair\"},\n",
    "        {\"name\": \"show your face more\", \"prompt_yes\": \"whole face\", \"prompt_no\": \"cover face\"},\n",
    "        {\"name\": \"show your body more\", \"prompt_yes\": \"head and shoulder\", \"prompt_no\": \"cant see shoulder\"},\n",
    "        {\"name\": \"put your face horizontally in the center\", \"prompt_yes\": \"person in middle\", \"prompt_no\": \"too far to the side\"},\n",
    "        {\"name\": \"put your face vertically in the center\", \"prompt_yes\": \"person in middle\", \"prompt_no\": \"too far vertucally\"},\n",
    "        {\"name\": \"tilt your head\", \"prompt_yes\": \"straight head\", \"prompt_no\": \"Else\"},\n",
    "        {\"name\": \"use eye contact\", \"prompt_yes\": \"looking to the camera\", \"prompt_no\": \"eyes off camera\"},\n",
    "        {\"name\": \"use high resolution\", \"prompt_yes\": \"clear\", \"prompt_no\": \"blurry\"},\n",
    "        {\"name\": \"use good lighting\", \"prompt_yes\": \"good lighting\", \"prompt_no\": \"bad lighting\"},\n",
    "        {\"name\": \"use color harmony in the pic\", \"prompt_yes\": \"Colorful image\", \"prompt_no\": \"Monochromatic image\"},\n",
    "      \n",
    "    ]\n",
    "\n",
    "\n",
    "\n",
    "\n",
    "\n",
    "    scores = {}\n",
    "    all_results = {}\n",
    "\n",
    "    # 1) Use CLIP-based checks\n",
    "    for check in feature_checks:\n",
    "        # Will return a dictionary like:\n",
    "        # {\n",
    "        #   \"prompt_yes\": \"some text: 12.34%\",\n",
    "        #   \"prompt_no\": \"some text: 87.66%\",\n",
    "        #   \"final_decision\": \"Yes\" or \"No\"\n",
    "        # }\n",
    "        result = check_single_feature(image_filename, check[\"prompt_yes\"], check[\"prompt_no\"])\n",
    "        all_results[check[\"name\"]] = result\n",
    "\n",
    "    # Extract the \"Yes\" percentage for each feature\n",
    "    for feature_name, result in all_results.items():\n",
    "        yes_score_str = result[\"prompt_yes\"].split(\":\")[1].strip().replace('%', '')\n",
    "        yes_score = float(yes_score_str)\n",
    "        scores[feature_name] = yes_score\n",
    "\n",
    "    # 2) If face_proportion is not 0, override or supplement that feature\n",
    "    fp = calculate_face_proportions(image_filename)\n",
    "    if fp != 0:\n",
    "        scores[\"show your face more\"] = fp\n",
    "\n",
    "    bp = calculate_body_proportion(image_filename)\n",
    "    if bp != 0:\n",
    "        scores[\"show your body more\"] = bp\n",
    "\n",
    "    cscore_x = calculate_center_score_x_axis(image_filename)\n",
    "    if cscore_x != 0:\n",
    "        scores[\"put your face horizontally in the center\"] = cscore_x\n",
    "\n",
    "    cscore_y = calculate_center_score_y_axis(image_filename)\n",
    "    if cscore_y != 0:\n",
    "        scores[\"put your face vertically in the center\"] = cscore_y\n",
    "\n",
    "    tilt = calculate_tilt_head(image_filename)\n",
    "    if tilt != 0:\n",
    "        scores[\"tilt your head\"] = tilt\n",
    "\n",
    "    looking_dir = calculate_looking_direction_score(image_filename)\n",
    "    if looking_dir != 0:\n",
    "        scores[\"use eye contact\"] = looking_dir\n",
    "\n",
    "    # 3) Additional numeric scores\n",
    "    scores[\"use high resolution\"] = calculate_dpi_score(image_filename)\n",
    "    scores[\"use lighting quality\"] = calculate_background_brightness(image_filename)\n",
    "    # If you had a colorfulness or sharpness measure, you can add them similarly.\n",
    "\n",
    "    return scores\n"
   ]
  },
  {
   "cell_type": "code",
   "execution_count": 0,
   "metadata": {
    "application/vnd.databricks.v1+cell": {
     "cellMetadata": {
      "byteLimit": 2048000,
      "rowLimit": 10000
     },
     "inputWidgets": {},
     "nuid": "406a5bd6-126b-4732-a8ab-3b7519884e1e",
     "showTitle": false,
     "tableResultSettingsMap": {},
     "title": ""
    }
   },
   "outputs": [
    {
     "output_type": "execute_result",
     "data": {
      "text/plain": [
       "LinkedInScorePredictor(\n",
       "  (initial_conv): Conv1d(1, 16, kernel_size=(3,), stride=(1,), padding=(1,))\n",
       "  (initial_bn): BatchNorm1d(16, eps=1e-05, momentum=0.1, affine=True, track_running_stats=True)\n",
       "  (initial_relu): ReLU()\n",
       "  (res_block1): ResidualBlock(\n",
       "    (conv1): Conv1d(16, 32, kernel_size=(3,), stride=(1,), padding=(1,))\n",
       "    (bn1): BatchNorm1d(32, eps=1e-05, momentum=0.1, affine=True, track_running_stats=True)\n",
       "    (relu): ReLU()\n",
       "    (conv2): Conv1d(32, 32, kernel_size=(3,), stride=(1,), padding=(1,))\n",
       "    (bn2): BatchNorm1d(32, eps=1e-05, momentum=0.1, affine=True, track_running_stats=True)\n",
       "    (conv3): Conv1d(32, 32, kernel_size=(3,), stride=(1,), padding=(1,))\n",
       "    (bn3): BatchNorm1d(32, eps=1e-05, momentum=0.1, affine=True, track_running_stats=True)\n",
       "    (downsample): Conv1d(16, 32, kernel_size=(1,), stride=(1,))\n",
       "  )\n",
       "  (res_block2): ResidualBlock(\n",
       "    (conv1): Conv1d(32, 64, kernel_size=(3,), stride=(1,), padding=(1,))\n",
       "    (bn1): BatchNorm1d(64, eps=1e-05, momentum=0.1, affine=True, track_running_stats=True)\n",
       "    (relu): ReLU()\n",
       "    (conv2): Conv1d(64, 64, kernel_size=(3,), stride=(1,), padding=(1,))\n",
       "    (bn2): BatchNorm1d(64, eps=1e-05, momentum=0.1, affine=True, track_running_stats=True)\n",
       "    (conv3): Conv1d(64, 64, kernel_size=(3,), stride=(1,), padding=(1,))\n",
       "    (bn3): BatchNorm1d(64, eps=1e-05, momentum=0.1, affine=True, track_running_stats=True)\n",
       "    (downsample): Conv1d(32, 64, kernel_size=(1,), stride=(1,))\n",
       "  )\n",
       "  (global_pool): AdaptiveAvgPool1d(output_size=1)\n",
       "  (fc_layers): Sequential(\n",
       "    (0): Linear(in_features=64, out_features=128, bias=True)\n",
       "    (1): ReLU()\n",
       "    (2): Dropout(p=0.3, inplace=False)\n",
       "    (3): Linear(in_features=128, out_features=64, bias=True)\n",
       "    (4): ReLU()\n",
       "    (5): Dropout(p=0.3, inplace=False)\n",
       "    (6): Linear(in_features=64, out_features=1, bias=True)\n",
       "  )\n",
       ")"
      ]
     },
     "execution_count": 17,
     "metadata": {},
     "output_type": "execute_result"
    }
   ],
   "source": [
    "# Load the model state dict\n",
    "input_dim = 28 #as defined in the model\n",
    "model = LinkedInScorePredictor(input_dim)  # Replace with your model class\n",
    "model.load_state_dict(torch.load(\"/dbfs/models/linkedin_score_predictor.pth\"))\n",
    "model.eval()"
   ]
  },
  {
   "cell_type": "code",
   "execution_count": 0,
   "metadata": {
    "application/vnd.databricks.v1+cell": {
     "cellMetadata": {
      "byteLimit": 2048000,
      "rowLimit": 10000
     },
     "inputWidgets": {},
     "nuid": "bd9044f8-6f40-4685-909d-da89babcc824",
     "showTitle": false,
     "tableResultSettingsMap": {},
     "title": ""
    }
   },
   "outputs": [],
   "source": [
    "import os\n",
    "os.environ['TF_CPP_MIN_LOG_LEVEL'] = '3'  # 0 = כל ההודעות, 1 = אזהרות, 2 = שגיאות, 3 = שקט"
   ]
  },
  {
   "cell_type": "code",
   "execution_count": 0,
   "metadata": {
    "application/vnd.databricks.v1+cell": {
     "cellMetadata": {
      "byteLimit": 2048000,
      "rowLimit": 10000
     },
     "inputWidgets": {},
     "nuid": "a766de41-c824-4282-b939-384269c88d48",
     "showTitle": false,
     "tableResultSettingsMap": {},
     "title": ""
    }
   },
   "outputs": [],
   "source": [
    "import logging\n",
    "logging.getLogger(\"torch\").setLevel(logging.ERROR)\n"
   ]
  },
  {
   "cell_type": "code",
   "execution_count": 0,
   "metadata": {
    "application/vnd.databricks.v1+cell": {
     "cellMetadata": {
      "byteLimit": 2048000,
      "rowLimit": 10000
     },
     "inputWidgets": {},
     "nuid": "3cff31dd-f1f3-4dc5-9bbb-3eb89faa411a",
     "showTitle": false,
     "tableResultSettingsMap": {},
     "title": ""
    }
   },
   "outputs": [
    {
     "output_type": "stream",
     "name": "stdout",
     "output_type": "stream",
     "text": [
      "Image downloaded and saved to /root/downloaded_images/single_image.jpeg\n"
     ]
    },
    {
     "output_type": "stream",
     "name": "stderr",
     "output_type": "stream",
     "text": [
      "INFO: Created TensorFlow Lite XNNPACK delegate for CPU.\nWARNING: All log messages before absl::InitializeLog() is called are written to STDERR\nW0000 00:00:1738101642.887907    4385 inference_feedback_manager.cc:114] Feedback manager requires a model with a single signature inference. Disabling support for feedback tensors.\nW0000 00:00:1738101642.998293    4391 inference_feedback_manager.cc:114] Feedback manager requires a model with a single signature inference. Disabling support for feedback tensors.\nW0000 00:00:1738101643.049178    4391 inference_feedback_manager.cc:114] Feedback manager requires a model with a single signature inference. Disabling support for feedback tensors.\nW0000 00:00:1738101643.072943    4390 landmark_projection_calculator.cc:186] Using NORM_RECT without IMAGE_DIMENSIONS is only supported for the square ROI. Provide IMAGE_DIMENSIONS or use PROJECTION_MATRIX.\nW0000 00:00:1738101643.098910    4397 inference_feedback_manager.cc:114] Feedback manager requires a model with a single signature inference. Disabling support for feedback tensors.\nW0000 00:00:1738101643.106794    4397 inference_feedback_manager.cc:114] Feedback manager requires a model with a single signature inference. Disabling support for feedback tensors.\nW0000 00:00:1738101643.130270    4402 inference_feedback_manager.cc:114] Feedback manager requires a model with a single signature inference. Disabling support for feedback tensors.\nW0000 00:00:1738101643.135951    4403 inference_feedback_manager.cc:114] Feedback manager requires a model with a single signature inference. Disabling support for feedback tensors.\nW0000 00:00:1738101643.164620    4406 inference_feedback_manager.cc:114] Feedback manager requires a model with a single signature inference. Disabling support for feedback tensors.\nW0000 00:00:1738101643.175992    4406 inference_feedback_manager.cc:114] Feedback manager requires a model with a single signature inference. Disabling support for feedback tensors.\nW0000 00:00:1738101643.204350    4413 inference_feedback_manager.cc:114] Feedback manager requires a model with a single signature inference. Disabling support for feedback tensors.\nW0000 00:00:1738101643.223353    4410 inference_feedback_manager.cc:114] Feedback manager requires a model with a single signature inference. Disabling support for feedback tensors.\n"
     ]
    },
    {
     "output_type": "display_data",
     "data": {
      "image/png": "[encoded data removed]",
      "text/plain": [
       "<Figure size 640x480 with 1 Axes>"
      ]
     },
     "metadata": {},
     "output_type": "display_data"
    },
    {
     "output_type": "stream",
     "name": "stdout",
     "output_type": "stream",
     "text": [
      "Your score is: 92.181\nTop features to improve:\n- Use a corporate-style background\n  Current value: 0.290, Suggested value: 0.950\n  Expected improvement in score: 7.656\n- Look approachable\n  Current value: 0.340, Suggested value: 0.650\n  Expected improvement in score: 4.831\n- Avoid noise or visual artifacts\n  Current value: 0.440, Suggested value: 0.700\n  Expected improvement in score: 2.875\n"
     ]
    }
   ],
   "source": [
    "import os\n",
    "import requests\n",
    "from PIL import Image\n",
    "from io import BytesIO\n",
    "import numpy as np\n",
    "import torch\n",
    "import matplotlib.pyplot as plt\n",
    "\n",
    "# Friendly feature names mapping\n",
    "friendly_feature_names = {\n",
    "    \"put your face horizontally in the center\": \"Center your face horizontally in the photo\",\n",
    "    \"use clean background\": \"Use a clean, clutter-free background with no distraction\",\n",
    "    \"look calm\": \"Keep a calm and composed expression\",\n",
    "    \"use good lighting\": \"The image might be too bright, Ensure bright, balanced lighting\",\n",
    "    \"look trustworthiness\": \"Appear trustworthy\",\n",
    "    \"look serious\": \"Adopt a professional, serious look\",\n",
    "    \"don't look emotional\": \"Avoid overly emotional expressions\",\n",
    "    \"wear professional Attire\": \"Dress in professional attire\",\n",
    "    \"smile\": \"Smile naturally to appear approachable\",\n",
    "    \"use positive atmosphere\": \"Create a positive, inviting atmosphere\",\n",
    "    \"use high resolution\": \"Use a high-resolution image\",\n",
    "    \"don't tilt your head\": \"Keep your head straight\",\n",
    "    \"show your body more\": \"Show more of your upper body\",\n",
    "    \"use eye contact\": \"Make direct eye contact\",\n",
    "    \"show your face more\": \"Ensure your face is clearly visible\",\n",
    "    \"look approachability\": \"Look approachable\",\n",
    "    \"use corporate environment\": \"Use a corporate-style background\",\n",
    "    \"look confidence\": \"Project confidence\",\n",
    "    \"crop the picture\": \"Crop the picture to focus on your face\",\n",
    "    \"wear suit\": \"Consider wearing a suit\",\n",
    "    \"be energetic\": \"Appear energetic\",\n",
    "    \"look distinctive\": \"Stand out with a unique style\",\n",
    "    \"use color harmony in the pic\": \"Maintain color harmony\",\n",
    "    \"put your face vertically in the center\": \"Center your face vertically in the photo\",\n",
    "    \"avoid noise or artifacts\": \"Avoid noise or visual artifacts\",\n",
    "    \"fix your hair\": \"Style your hair neatly\",\n",
    "    \"use lighting quality\": \"Improve lighting quality\",\n",
    "    \"use formal expression\": \"Use a formal expression\",\n",
    "    \"show your face clearly\": \"Ensure your face is well-lit and clear\",\n",
    "    \"tilt your head\": \"Tilt your head to the center of the frame\"\n",
    "}\n",
    "\n",
    "def suggest_best_improvements(model, person_scores, top_n=3):\n",
    "    \"\"\"\n",
    "    Suggest the top N features to improve LinkedIn score.\n",
    "    Args:\n",
    "        model: The trained model for predicting LinkedIn score.\n",
    "        person_scores: Dictionary with person's feature scores.\n",
    "        top_n: Number of top features to suggest for improvement (default: 3).\n",
    "    Returns:\n",
    "        Current score and list of top N suggestions with their improvements.\n",
    "    \"\"\"\n",
    "    test_values = list(np.arange(0.0, 1.0, 0.05))\n",
    "    base_features = {key: value for key, value in person_scores.items() if key != \"LABEL\" }\n",
    "\n",
    "    # Predict current score\n",
    "    base_tensor = torch.tensor([list(base_features.values())], dtype=torch.float32)\n",
    "    current_score = model(base_tensor).item()\n",
    "\n",
    "    improvements = []\n",
    "\n",
    "    # Iterate over features to find the best improvements\n",
    "    for feature in base_features.keys():\n",
    "        if feature == \"Appear trustworthy\" or feature == \"Appear energetic\" :\n",
    "            continue\n",
    "\n",
    "\n",
    "\n",
    "        best_improvement = 0\n",
    "        best_value = None\n",
    "\n",
    "        for value in test_values:\n",
    "            improved_features = base_features.copy()\n",
    "            improved_features[feature] = value\n",
    "\n",
    "            # Predict improved score\n",
    "            improved_tensor = torch.tensor([list(improved_features.values())], dtype=torch.float32)\n",
    "            improved_score = model(improved_tensor).item()\n",
    "\n",
    "            # Calculate improvement\n",
    "            score_increase = improved_score - current_score \n",
    "\n",
    "            if score_increase > best_improvement and value > base_features[feature]:\n",
    "                best_improvement = score_increase\n",
    "                if best_improvement + current_score > 100 - 15 :\n",
    "                    best_improvement = 100 -15- current_score\n",
    "                best_value = value\n",
    "\n",
    "        if best_improvement > 0:\n",
    "            improvements.append((feature, best_improvement, base_features[feature], best_value))\n",
    "\n",
    "    # Sort improvements by their impact and return the top N\n",
    "    improvements.sort(key=lambda x: x[1], reverse=True)\n",
    "    return current_score, improvements[:top_n]\n",
    "\n",
    "def rename_features(scores):\n",
    "    \"\"\"\n",
    "    Rename features using friendly names.\n",
    "    Args:\n",
    "        scores: Dictionary of feature scores.\n",
    "    Returns:\n",
    "        Renamed dictionary with friendly feature names.\n",
    "    \"\"\"\n",
    "    renamed_scores = {}\n",
    "    for key, value in scores.items():\n",
    "        friendly_name = friendly_feature_names.get(key, key)\n",
    "        renamed_scores[friendly_name] = value\n",
    "    return renamed_scores\n",
    "\n",
    "# Download and process the image\n",
    "image_url = \"https://media.licdn.com/dms/image/v2/D4D03AQGKV06sgU5I0w/profile-displayphoto-shrink_400_400/profile-displayphoto-shrink_400_400/0/1720856224785?e=1743638400&v=beta&t=yRyly5eVAx5LJY3a_ov7rHMGrlKTS2fFuyYld9JXWOk\"\n",
    "output_directory = os.path.expanduser(\"~/downloaded_images\")\n",
    "os.makedirs(output_directory, exist_ok=True)\n",
    "save_path = os.path.join(output_directory, \"single_image.jpeg\")\n",
    "\n",
    "try:\n",
    "    response = requests.get(image_url)\n",
    "    response.raise_for_status()\n",
    "    image = Image.open(BytesIO(response.content))\n",
    "    image.save(save_path)\n",
    "    print(f\"Image downloaded and saved to {save_path}\")\n",
    "except Exception as e:\n",
    "    print(f\"Failed to download or save the image: {e}\")\n",
    "\n",
    "# Example: Process the saved image\n",
    "try:\n",
    "    person_scores = feature_scores(save_path)  # Assume this extracts feature scores\n",
    "    person_scores = rename_features(person_scores)\n",
    "\n",
    "    current_score, top_improvements = suggest_best_improvements(model, person_scores, top_n=3)\n",
    "    residual = 100 - max(union_df[\"LABEL\"])  # TODO: Adjust residual logic as needed\n",
    "    current_score = min(current_score + residual, 100)\n",
    "\n",
    "    # Plot the image\n",
    "    plt.imshow(image)\n",
    "    plt.axis('off')\n",
    "    plt.title(\"Uploaded Image\")\n",
    "    plt.show()\n",
    "\n",
    "    print(f\"Your score is: {current_score:.3f}\")\n",
    "    print(\"Top features to improve:\")\n",
    "    for feature, improvement, curr_value, best_value in top_improvements:\n",
    "        friendly_feature = friendly_feature_names.get(feature, feature)\n",
    "        print(f\"- {friendly_feature}\")\n",
    "        print(f\"  Current value: {curr_value:.3f}, Suggested value: {best_value:.3f}\")\n",
    "        print(f\"  Expected improvement in score: {improvement:.3f}\")\n",
    "\n",
    "except Exception as e:\n",
    "    print(f\"Failed to process the image: {e}\")\n"
   ]
  },
  {
   "cell_type": "code",
   "execution_count": 0,
   "metadata": {
    "application/vnd.databricks.v1+cell": {
     "cellMetadata": {
      "byteLimit": 2048000,
      "rowLimit": 10000
     },
     "inputWidgets": {},
     "nuid": "e48121e8-9354-4ac4-94ce-85dd819d2aff",
     "showTitle": false,
     "tableResultSettingsMap": {},
     "title": ""
    }
   },
   "outputs": [],
   "source": [
    "def get_feedback_from_model(image_url):\n",
    "    import os\n",
    "    import requests\n",
    "    from io import BytesIO\n",
    "    from PIL import Image\n",
    "    import matplotlib.pyplot as plt\n",
    "\n",
    "    output_directory = os.path.expanduser(\"~/downloaded_images\")\n",
    "    os.makedirs(output_directory, exist_ok=True)\n",
    "    save_path = os.path.join(output_directory, \"single_image.jpeg\")\n",
    "    output_text = \"\"\n",
    "\n",
    "    try:\n",
    "        response = requests.get(image_url)\n",
    "        response.raise_for_status()\n",
    "        image = Image.open(BytesIO(response.content))\n",
    "        image.save(save_path)\n",
    "        output_text += f\"Image downloaded and saved to {save_path}\\n\"\n",
    "    except Exception as e:\n",
    "        return f\"Failed to download or save the image: {e}\"\n",
    "\n",
    "    try:\n",
    "        person_scores = feature_scores(save_path)  # Assume this extracts feature scores\n",
    "        person_scores = rename_features(person_scores)\n",
    "\n",
    "        current_score, top_improvements = suggest_best_improvements(model, person_scores, top_n=3)\n",
    "        residual = 100 - max(union_df[\"LABEL\"])  # TODO: Adjust residual logic as needed\n",
    "        current_score = min(current_score + residual, 100)\n",
    "\n",
    "        # Generate the plot (optional, no return needed for visual output)\n",
    "        plt.imshow(image)\n",
    "        plt.axis('off')\n",
    "        plt.title(\"Uploaded Image\")\n",
    "        plt.show()\n",
    "\n",
    "        output_text += f\"Your score is: {current_score:.3f}\\n\"\n",
    "        output_text += \"Top features to improve:\\n\"\n",
    "        for feature, improvement, curr_value, best_value in top_improvements:\n",
    "            friendly_feature = friendly_feature_names.get(feature, feature)\n",
    "            output_text += f\"- {friendly_feature}\\n\"\n",
    "            output_text += f\"  Current value: {int(curr_value)}, Suggested value: {int(best_value)}\\n\"\n",
    "            if current_score+improvement  > 100:\n",
    "                 improvement = 100 - current_score\n",
    "            output_text += f\"  Expected improvement in score: {improvement:.3f}\\n\"\n",
    "\n",
    "    except Exception as e:\n",
    "        return f\"Failed to process the image: {e}\"\n",
    "\n",
    "    return output_text\n"
   ]
  },
  {
   "cell_type": "code",
   "execution_count": 0,
   "metadata": {
    "application/vnd.databricks.v1+cell": {
     "cellMetadata": {
      "byteLimit": 2048000,
      "rowLimit": 10000
     },
     "inputWidgets": {},
     "nuid": "b03dad05-b021-4e56-bc8d-898cb832d631",
     "showTitle": false,
     "tableResultSettingsMap": {},
     "title": ""
    }
   },
   "outputs": [
    {
     "output_type": "stream",
     "name": "stdout",
     "output_type": "stream",
     "text": [
      "--2025-01-28 22:00:54--  https://bin.equinox.io/c/bNyj1mQVY4c/ngrok-stable-linux-amd64.zip\r\nResolving bin.equinox.io (bin.equinox.io)... 35.71.179.82, 99.83.220.108, 75.2.60.68, ...\r\nConnecting to bin.equinox.io (bin.equinox.io)|35.71.179.82|:443... connected.\r\nHTTP request sent, awaiting response... 200 OK\r\nLength: 14949170 (14M) [application/octet-stream]\r\nSaving to: ‘/tmp/ngrok/ngrok.zip’\r\n\r\n\r/tmp/ngrok/ngrok.zi   0%[                    ]       0  --.-KB/s               \r/tmp/ngrok/ngrok.zi 100%[===================>]  14.26M  94.6MB/s    in 0.2s    \r\n\r\n2025-01-28 22:00:55 (94.6 MB/s) - ‘/tmp/ngrok/ngrok.zip’ saved [14949170/14949170]\r\n\r\n-rw-r--r-- 1 root root 14949170 Jan 28 22:00 /tmp/ngrok/ngrok.zip\r\n"
     ]
    }
   ],
   "source": [
    "# Create a specific directory to save ngrok.zip\n",
    "!mkdir -p /tmp/ngrok\n",
    "\n",
    "# Download ngrok.zip into the specified directory\n",
    "!wget -O /tmp/ngrok/ngrok.zip https://bin.equinox.io/c/bNyj1mQVY4c/ngrok-stable-linux-amd64.zip\n",
    "\n",
    "# Verify the download\n",
    "!ls -l /tmp/ngrok/ngrok.zip\n"
   ]
  },
  {
   "cell_type": "code",
   "execution_count": 0,
   "metadata": {
    "application/vnd.databricks.v1+cell": {
     "cellMetadata": {
      "byteLimit": 2048000,
      "rowLimit": 10000
     },
     "inputWidgets": {},
     "nuid": "5c9ad405-97ab-41c1-a313-19a042739946",
     "showTitle": false,
     "tableResultSettingsMap": {},
     "title": ""
    }
   },
   "outputs": [
    {
     "output_type": "stream",
     "name": "stdout",
     "output_type": "stream",
     "text": [
      "Archive:  /tmp/ngrok/ngrok.zip\r\n  inflating: /tmp/ngrok/ngrok        \r\n-rwxr-xr-x 1 root root 47079576 Jan 23 17:10 /tmp/ngrok/ngrok\r\nAuthtoken saved to configuration file: /root/.config/ngrok/ngrok.yml\r\n"
     ]
    }
   ],
   "source": [
    "# Navigate to the directory\n",
    "!cd /tmp/ngrok\n",
    "\n",
    "# Extract ngrok.zip\n",
    "!unzip -o /tmp/ngrok/ngrok.zip -d /tmp/ngrok\n",
    "\n",
    "# Verify the extracted ngrok binary\n",
    "!ls -l /tmp/ngrok/ngrok\n",
    "\n",
    "# Make the binary executable\n",
    "!chmod +x /tmp/ngrok/ngrok\n",
    "\n",
    "# Authenticate ngrok\n",
    "!/tmp/ngrok/ngrok authtoken <your_ngrok_token>\n",
    "\n"
   ]
  },
  {
   "cell_type": "code",
   "execution_count": 0,
   "metadata": {
    "application/vnd.databricks.v1+cell": {
     "cellMetadata": {
      "byteLimit": 2048000,
      "rowLimit": 10000
     },
     "inputWidgets": {},
     "nuid": "8f877da0-c678-4207-8c4a-59ae9f4fb31e",
     "showTitle": false,
     "tableResultSettingsMap": {},
     "title": ""
    }
   },
   "outputs": [
    {
     "output_type": "stream",
     "name": "stdout",
     "output_type": "stream",
     "text": [
      "Collecting flask==3.1.0\n  Obtaining dependency information for flask==3.1.0 from https://files.pythonhosted.org/packages/af/47/93213ee66ef8fae3b93b3e29206f6b251e65c97bd91d8e1c5596ef15af0a/flask-3.1.0-py3-none-any.whl.metadata\n  Downloading flask-3.1.0-py3-none-any.whl.metadata (2.7 kB)\nCollecting werkzeug==3.1.3\n  Obtaining dependency information for werkzeug==3.1.3 from https://files.pythonhosted.org/packages/52/24/ab44c871b0f07f491e5d2ad12c9bd7358e527510618cb1b803a88e986db1/werkzeug-3.1.3-py3-none-any.whl.metadata\n  Downloading werkzeug-3.1.3-py3-none-any.whl.metadata (3.7 kB)\nRequirement already satisfied: Jinja2>=3.1.2 in /databricks/python3/lib/python3.11/site-packages (from flask==3.1.0) (3.1.2)\nCollecting itsdangerous>=2.2 (from flask==3.1.0)\n  Obtaining dependency information for itsdangerous>=2.2 from https://files.pythonhosted.org/packages/04/96/92447566d16df59b2a776c0fb82dbc4d9e07cd95062562af01e408583fc4/itsdangerous-2.2.0-py3-none-any.whl.metadata\n  Downloading itsdangerous-2.2.0-py3-none-any.whl.metadata (1.9 kB)\nCollecting click>=8.1.3 (from flask==3.1.0)\n  Obtaining dependency information for click>=8.1.3 from https://files.pythonhosted.org/packages/7e/d4/7ebdbd03970677812aac39c869717059dbb71a4cfc033ca6e5221787892c/click-8.1.8-py3-none-any.whl.metadata\n  Downloading click-8.1.8-py3-none-any.whl.metadata (2.3 kB)\nCollecting blinker>=1.9 (from flask==3.1.0)\n  Obtaining dependency information for blinker>=1.9 from https://files.pythonhosted.org/packages/10/cb/f2ad4230dc2eb1a74edf38f1a38b9b52277f75bef262d8908e60d957e13c/blinker-1.9.0-py3-none-any.whl.metadata\n  Downloading blinker-1.9.0-py3-none-any.whl.metadata (1.6 kB)\nRequirement already satisfied: MarkupSafe>=2.1.1 in /databricks/python3/lib/python3.11/site-packages (from werkzeug==3.1.3) (2.1.1)\nDownloading flask-3.1.0-py3-none-any.whl (102 kB)\n\u001B[?25l   \u001B[90m━━━━━━━━━━━━━━━━━━━━━━━━━━━━━━━━━━━━━━━━\u001B[0m \u001B[32m0.0/103.0 kB\u001B[0m \u001B[31m?\u001B[0m eta \u001B[36m-:--:--\u001B[0m\n\u001B[2K   \u001B[90m━━━━━━━━━━━━━━━━━━━━━━━━━━━━━━━━━━━━━━━━\u001B[0m \u001B[32m103.0/103.0 kB\u001B[0m \u001B[31m5.5 MB/s\u001B[0m eta \u001B[36m0:00:00\u001B[0m\n\u001B[?25hDownloading werkzeug-3.1.3-py3-none-any.whl (224 kB)\n\u001B[?25l   \u001B[90m━━━━━━━━━━━━━━━━━━━━━━━━━━━━━━━━━━━━━━━━\u001B[0m \u001B[32m0.0/224.5 kB\u001B[0m \u001B[31m?\u001B[0m eta \u001B[36m-:--:--\u001B[0m\n\u001B[2K   \u001B[90m━━━━━━━━━━━━━━━━━━━━━━━━━━━━━━━━━━━━━━━━\u001B[0m \u001B[32m224.5/224.5 kB\u001B[0m \u001B[31m27.7 MB/s\u001B[0m eta \u001B[36m0:00:00\u001B[0m\n\u001B[?25hDownloading blinker-1.9.0-py3-none-any.whl (8.5 kB)\nDownloading click-8.1.8-py3-none-any.whl (98 kB)\n\u001B[?25l   \u001B[90m━━━━━━━━━━━━━━━━━━━━━━━━━━━━━━━━━━━━━━━━\u001B[0m \u001B[32m0.0/98.2 kB\u001B[0m \u001B[31m?\u001B[0m eta \u001B[36m-:--:--\u001B[0m\n\u001B[2K   \u001B[90m━━━━━━━━━━━━━━━━━━━━━━━━━━━━━━━━━━━━━━━━\u001B[0m \u001B[32m98.2/98.2 kB\u001B[0m \u001B[31m14.1 MB/s\u001B[0m eta \u001B[36m0:00:00\u001B[0m\n\u001B[?25hDownloading itsdangerous-2.2.0-py3-none-any.whl (16 kB)\nInstalling collected packages: werkzeug, itsdangerous, click, blinker, flask\n  Attempting uninstall: werkzeug\n    Found existing installation: Werkzeug 2.2.3\n    Not uninstalling werkzeug at /databricks/python3/lib/python3.11/site-packages, outside environment /local_disk0/.ephemeral_nfs/envs/pythonEnv-7142bd67-c037-4c26-8229-c3fa723865ef\n    Can't uninstall 'Werkzeug'. No files were found to uninstall.\n  Attempting uninstall: itsdangerous\n    Found existing installation: itsdangerous 2.0.1\n    Not uninstalling itsdangerous at /databricks/python3/lib/python3.11/site-packages, outside environment /local_disk0/.ephemeral_nfs/envs/pythonEnv-7142bd67-c037-4c26-8229-c3fa723865ef\n    Can't uninstall 'itsdangerous'. No files were found to uninstall.\n  Attempting uninstall: click\n    Found existing installation: click 8.0.4\n    Not uninstalling click at /databricks/python3/lib/python3.11/site-packages, outside environment /local_disk0/.ephemeral_nfs/envs/pythonEnv-7142bd67-c037-4c26-8229-c3fa723865ef\n    Can't uninstall 'click'. No files were found to uninstall.\n  Attempting uninstall: blinker\n    Found existing installation: blinker 1.4\n    Not uninstalling blinker at /usr/lib/python3/dist-packages, outside environment /local_disk0/.ephemeral_nfs/envs/pythonEnv-7142bd67-c037-4c26-8229-c3fa723865ef\n    Can't uninstall 'blinker'. No files were found to uninstall.\n  Attempting uninstall: flask\n    Found existing installation: Flask 2.2.5\n    Not uninstalling flask at /databricks/python3/lib/python3.11/site-packages, outside environment /local_disk0/.ephemeral_nfs/envs/pythonEnv-7142bd67-c037-4c26-8229-c3fa723865ef\n    Can't uninstall 'Flask'. No files were found to uninstall.\n\u001B[31mERROR: pip's dependency resolver does not currently take into account all the packages that are installed. This behaviour is the source of the following dependency conflicts.\ndatabricks-feature-engineering 0.6.0 requires flask<3,>=1.1.2, but you have flask 3.1.0 which is incompatible.\ntensorflow 2.16.1 requires ml-dtypes~=0.3.1, but you have ml-dtypes 0.5.1 which is incompatible.\u001B[0m\u001B[31m\n\u001B[0mSuccessfully installed blinker-1.9.0 click-8.1.8 flask-3.1.0 itsdangerous-2.2.0 werkzeug-3.1.3\n\u001B[43mNote: you may need to restart the kernel using %restart_python or dbutils.library.restartPython() to use updated packages.\u001B[0m\n"
     ]
    }
   ],
   "source": [
    "!pip install flask==3.1.0 werkzeug==3.1.3 --upgrade\n"
   ]
  },
  {
   "cell_type": "code",
   "execution_count": 0,
   "metadata": {
    "application/vnd.databricks.v1+cell": {
     "cellMetadata": {
      "byteLimit": 2048000,
      "rowLimit": 10000
     },
     "inputWidgets": {},
     "nuid": "01b492e5-1505-4db2-a172-b86682f9919b",
     "showTitle": false,
     "tableResultSettingsMap": {},
     "title": ""
    }
   },
   "outputs": [
    {
     "output_type": "stream",
     "name": "stdout",
     "output_type": "stream",
     "text": [
      " * Serving Flask app 'app'\n * Debug mode: off\n"
     ]
    },
    {
     "output_type": "stream",
     "name": "stderr",
     "output_type": "stream",
     "text": [
      "Address already in use\nPort 5000 is in use by another program. Either identify and stop that program, or start the server with a different port.\n"
     ]
    },
    {
     "output_type": "stream",
     "name": "stdout",
     "output_type": "stream",
     "text": [
      "ngrok is running. Access your app here: https://4375-172-203-163-114.ngrok-free.app\n"
     ]
    }
   ],
   "source": [
    "from flask import Flask, request, render_template_string, send_from_directory\n",
    "import os\n",
    "import threading\n",
    "from werkzeug.utils import secure_filename\n",
    "import subprocess\n",
    "import time\n",
    "import json\n",
    "\n",
    "# Initialize Flask app\n",
    "app = Flask(\"app\", template_folder='/tmp/templates', static_folder='/tmp/static')\n",
    "\n",
    "# Configure upload folder\n",
    "UPLOAD_FOLDER = '/tmp/uploads'\n",
    "os.makedirs(UPLOAD_FOLDER, exist_ok=True)\n",
    "app.config['UPLOAD_FOLDER'] = UPLOAD_FOLDER\n",
    "\n",
    "# HTML template with proper formatting\n",
    "html_template = \"\"\"\n",
    "<!doctype html>\n",
    "<html>\n",
    "<head>\n",
    "    <title>Image Evaluation App</title>\n",
    "    <style>\n",
    "        body {\n",
    "            font-family: Arial, sans-serif;\n",
    "            background-color: #F3F2EF; /* LinkedIn background */\n",
    "            color: #1D2226; /* Text color */\n",
    "            margin: 0;\n",
    "            display: flex;\n",
    "            justify-content: center;\n",
    "            align-items: center;\n",
    "            height: 100vh;\n",
    "        }\n",
    "        .container {\n",
    "            background: white;\n",
    "            padding: 30px;\n",
    "            border-radius: 10px;\n",
    "            box-shadow: 0px 4px 10px rgba(0, 0, 0, 0.1);\n",
    "            text-align: center;\n",
    "            width: 50%;\n",
    "            min-width: 400px;\n",
    "        }\n",
    "        img {\n",
    "            max-width: 300px;\n",
    "            height: auto;\n",
    "            border: 2px solid #0077B5;\n",
    "            border-radius: 10px;\n",
    "        }\n",
    "        button {\n",
    "            background-color: #0077B5;\n",
    "            color: white;\n",
    "            border: none;\n",
    "            padding: 12px 20px;\n",
    "            font-size: 16px;\n",
    "            cursor: pointer;\n",
    "            border-radius: 5px;\n",
    "            font-weight: bold;\n",
    "            margin-top: 15px;\n",
    "        }\n",
    "        button:hover {\n",
    "            background-color: #004471;\n",
    "        }\n",
    "        h1, h2 {\n",
    "            color: #0077B5;\n",
    "        }\n",
    "        p {\n",
    "            font-size: 16px;\n",
    "        }\n",
    "        .tips-container {\n",
    "            text-align: center;\n",
    "            margin-top: 20px;\n",
    "        }\n",
    "        .tip {\n",
    "            margin-bottom: 15px;\n",
    "            padding: 15px;\n",
    "            background-color: #1D2226;\n",
    "            color: white;\n",
    "            border-radius: 8px;\n",
    "            display: inline-block;\n",
    "            width: 80%;\n",
    "        }\n",
    "    </style>\n",
    "</head>\n",
    "<body>\n",
    "    <div class=\"container\">\n",
    "        <h1>Image Evaluation App</h1>\n",
    "        <p>Upload an image and click \"Evaluate\" to see the grade and tips for improvement.</p>\n",
    "        <form method=\"post\" enctype=\"multipart/form-data\">\n",
    "            <input type=\"file\" name=\"file\">\n",
    "            <br><br>\n",
    "            <button type=\"submit\">Evaluate</button>\n",
    "        </form>\n",
    "        {% if image_url %}\n",
    "        <h2>Uploaded Image:</h2>\n",
    "        <img src=\"{{ image_url }}\" alt=\"Uploaded Image\">\n",
    "        {% if score %}\n",
    "            <h2>Grade:</h2>\n",
    "            <p><strong>{{ \"%.1f\"% score }}%</strong></p>\n",
    "            <h2>Tips:</h2>\n",
    "            <div class=\"tips-container\">\n",
    "                {% for feature, improvement, curr_value, best_value in top_improvements %}\n",
    "                    <div class=\"tip\">\n",
    "                        <p><strong>{{ feature }}</strong></p>\n",
    "                        <p>Current value: {{ \"%.2f\" % curr_value }}, Suggested value: {{ \"%.2f\" % best_value }}</p>\n",
    "                        <p>Expected improvement in score: {{ \"%.2f\" % improvement }}%</p>\n",
    "                    </div>\n",
    "                {% endfor %}\n",
    "            </div>\n",
    "        {% elif error_message %}\n",
    "            <h2>Error:</h2>\n",
    "            <p>{{ error_message }}</p>\n",
    "        {% endif %}\n",
    "        {% endif %}\n",
    "    </div>\n",
    "</body>\n",
    "</html>\n",
    "\"\"\"\n",
    "\n",
    "@app.route('/', methods=['GET', 'POST'])\n",
    "def upload_image():\n",
    "    image_url = None\n",
    "    score = None\n",
    "    top_improvements = None\n",
    "    error_message = None\n",
    "\n",
    "    if request.method == 'POST':\n",
    "        if 'file' not in request.files:\n",
    "            return render_template_string(html_template)\n",
    "\n",
    "        file = request.files['file']\n",
    "        if file.filename == '':\n",
    "            return render_template_string(html_template)\n",
    "\n",
    "        if file:\n",
    "            # Save the uploaded file\n",
    "            filename = secure_filename(file.filename)\n",
    "            filepath = os.path.join(app.config['UPLOAD_FOLDER'], filename)\n",
    "            file.save(filepath)\n",
    "            image_url = f\"/uploads/{filename}\"\n",
    "\n",
    "            try:\n",
    "                # Process the image and get model results\n",
    "                person_scores = feature_scores(filepath)  # Replace with actual scoring logic\n",
    "                person_scores = rename_features(person_scores)\n",
    "\n",
    "                # Calculate the score and suggested improvements\n",
    "                current_score, top_improvements = suggest_best_improvements(model, person_scores, top_n=3)\n",
    "                \n",
    "                # Adjust the score based on residual logic\n",
    "                residual = 100 - max(union_df[\"LABEL\"])  # Adjust this logic as needed\n",
    "                score = min(current_score + residual, 100)\n",
    "\n",
    "            except Exception as e:\n",
    "                error_message = f\"Failed to process the image: {e}\"\n",
    "\n",
    "    return render_template_string(\n",
    "        html_template,\n",
    "        image_url=image_url,\n",
    "        score=f\"{score:.2f}\" if score is not None else None,  # Ensures only two decimal places\n",
    "        top_improvements=[\n",
    "            (feature, f\"{int(improvement)}\", f\"{int(curr_value)}\", f\"{int(best_value)}\")\n",
    "            for feature, improvement, curr_value, best_value in (top_improvements or [])\n",
    "        ],\n",
    "        error_message=error_message\n",
    "    )\n",
    "\n",
    "@app.route('/uploads/<filename>')\n",
    "def uploaded_file(filename):\n",
    "    return send_from_directory(app.config['UPLOAD_FOLDER'], filename)\n",
    "\n",
    "def run_flask():\n",
    "    app.run(port=5000, use_reloader=False)\n",
    "\n",
    "flask_thread = threading.Thread(target=run_flask, daemon=True)\n",
    "flask_thread.start()\n",
    "\n",
    "def start_ngrok():\n",
    "    ngrok_path = \"/tmp/ngrok/ngrok\"\n",
    "    process = subprocess.Popen([ngrok_path, 'http', '5000'], stdout=subprocess.PIPE, stderr=subprocess.PIPE)\n",
    "    time.sleep(2)\n",
    "    try:\n",
    "        output = subprocess.check_output(['curl', '-s', 'http://127.0.0.1:4040/api/tunnels'], text=True)\n",
    "        tunnels = json.loads(output)\n",
    "        public_url = tunnels['tunnels'][0]['public_url']\n",
    "        return public_url\n",
    "    except Exception as e:\n",
    "        raise RuntimeError(f\"Error retrieving ngrok public URL: {e}\")\n",
    "\n",
    "try:\n",
    "    public_url = start_ngrok()\n",
    "    print(f\"ngrok is running. Access your app here: {public_url}\")\n",
    "except Exception as e:\n",
    "    print(\"Error starting ngrok:\", e)\n"
   ]
  }
 ],
 "metadata": {
  "application/vnd.databricks.v1+notebook": {
   "computePreferences": null,
   "dashboards": [],
   "environmentMetadata": {
    "base_environment": "",
    "client": "1"
   },
   "language": "python",
   "notebookMetadata": {
    "pythonIndentUnit": 4
   },
   "notebookName": "Linkedin_image_evaluator_App",
   "widgets": {}
  },
  "language_info": {
   "name": "python"
  }
 },
 "nbformat": 4,
 "nbformat_minor": 0
}
